{
 "cells": [
  {
   "cell_type": "code",
   "execution_count": 1,
   "metadata": {},
   "outputs": [],
   "source": [
    "#Import libraries we will use in the analysis\n",
    "import numpy as np\n",
    "import pandas as pd\n",
    "import yfinance as yf\n",
    "import datetime as dt\n",
    "import matplotlib.pyplot as plt"
   ]
  },
  {
   "cell_type": "code",
   "execution_count": 2,
   "metadata": {},
   "outputs": [],
   "source": [
    "#Set starting and ending date for dowloading data from Yahoo Finance\n",
    "start = dt.datetime(2018,1,1)\n",
    "end = dt.datetime.now()"
   ]
  },
  {
   "cell_type": "code",
   "execution_count": 3,
   "metadata": {},
   "outputs": [],
   "source": [
    "#Download data for Bitcoin and Ether\n",
    "btc = yf.download('BTC-USD', start, end, progress=False)\n",
    "eth = yf.download('ETH-USD', start, end, progress=False)"
   ]
  },
  {
   "cell_type": "code",
   "execution_count": 4,
   "metadata": {},
   "outputs": [
    {
     "data": {
      "text/html": [
       "<div>\n",
       "<style scoped>\n",
       "    .dataframe tbody tr th:only-of-type {\n",
       "        vertical-align: middle;\n",
       "    }\n",
       "\n",
       "    .dataframe tbody tr th {\n",
       "        vertical-align: top;\n",
       "    }\n",
       "\n",
       "    .dataframe thead th {\n",
       "        text-align: right;\n",
       "    }\n",
       "</style>\n",
       "<table border=\"1\" class=\"dataframe\">\n",
       "  <thead>\n",
       "    <tr style=\"text-align: right;\">\n",
       "      <th></th>\n",
       "      <th>Open</th>\n",
       "      <th>High</th>\n",
       "      <th>Low</th>\n",
       "      <th>Close</th>\n",
       "      <th>Adj Close</th>\n",
       "      <th>Volume</th>\n",
       "    </tr>\n",
       "    <tr>\n",
       "      <th>Date</th>\n",
       "      <th></th>\n",
       "      <th></th>\n",
       "      <th></th>\n",
       "      <th></th>\n",
       "      <th></th>\n",
       "      <th></th>\n",
       "    </tr>\n",
       "  </thead>\n",
       "  <tbody>\n",
       "    <tr>\n",
       "      <th>2018-01-01</th>\n",
       "      <td>14112.200195</td>\n",
       "      <td>14112.200195</td>\n",
       "      <td>13154.700195</td>\n",
       "      <td>13657.200195</td>\n",
       "      <td>13657.200195</td>\n",
       "      <td>10291200000</td>\n",
       "    </tr>\n",
       "    <tr>\n",
       "      <th>2018-01-02</th>\n",
       "      <td>13625.000000</td>\n",
       "      <td>15444.599609</td>\n",
       "      <td>13163.599609</td>\n",
       "      <td>14982.099609</td>\n",
       "      <td>14982.099609</td>\n",
       "      <td>16846600192</td>\n",
       "    </tr>\n",
       "    <tr>\n",
       "      <th>2018-01-03</th>\n",
       "      <td>14978.200195</td>\n",
       "      <td>15572.799805</td>\n",
       "      <td>14844.500000</td>\n",
       "      <td>15201.000000</td>\n",
       "      <td>15201.000000</td>\n",
       "      <td>16871900160</td>\n",
       "    </tr>\n",
       "    <tr>\n",
       "      <th>2018-01-04</th>\n",
       "      <td>15270.700195</td>\n",
       "      <td>15739.700195</td>\n",
       "      <td>14522.200195</td>\n",
       "      <td>15599.200195</td>\n",
       "      <td>15599.200195</td>\n",
       "      <td>21783199744</td>\n",
       "    </tr>\n",
       "    <tr>\n",
       "      <th>2018-01-05</th>\n",
       "      <td>15477.200195</td>\n",
       "      <td>17705.199219</td>\n",
       "      <td>15202.799805</td>\n",
       "      <td>17429.500000</td>\n",
       "      <td>17429.500000</td>\n",
       "      <td>23840899072</td>\n",
       "    </tr>\n",
       "  </tbody>\n",
       "</table>\n",
       "</div>"
      ],
      "text/plain": [
       "                    Open          High           Low         Close  \\\n",
       "Date                                                                 \n",
       "2018-01-01  14112.200195  14112.200195  13154.700195  13657.200195   \n",
       "2018-01-02  13625.000000  15444.599609  13163.599609  14982.099609   \n",
       "2018-01-03  14978.200195  15572.799805  14844.500000  15201.000000   \n",
       "2018-01-04  15270.700195  15739.700195  14522.200195  15599.200195   \n",
       "2018-01-05  15477.200195  17705.199219  15202.799805  17429.500000   \n",
       "\n",
       "               Adj Close       Volume  \n",
       "Date                                   \n",
       "2018-01-01  13657.200195  10291200000  \n",
       "2018-01-02  14982.099609  16846600192  \n",
       "2018-01-03  15201.000000  16871900160  \n",
       "2018-01-04  15599.200195  21783199744  \n",
       "2018-01-05  17429.500000  23840899072  "
      ]
     },
     "execution_count": 4,
     "metadata": {},
     "output_type": "execute_result"
    }
   ],
   "source": [
    "#Show in the screen the first few observations for Bitcoin\n",
    "btc.head()"
   ]
  },
  {
   "cell_type": "code",
   "execution_count": 5,
   "metadata": {},
   "outputs": [
    {
     "data": {
      "text/html": [
       "<div>\n",
       "<style scoped>\n",
       "    .dataframe tbody tr th:only-of-type {\n",
       "        vertical-align: middle;\n",
       "    }\n",
       "\n",
       "    .dataframe tbody tr th {\n",
       "        vertical-align: top;\n",
       "    }\n",
       "\n",
       "    .dataframe thead th {\n",
       "        text-align: right;\n",
       "    }\n",
       "</style>\n",
       "<table border=\"1\" class=\"dataframe\">\n",
       "  <thead>\n",
       "    <tr style=\"text-align: right;\">\n",
       "      <th></th>\n",
       "      <th>Open</th>\n",
       "      <th>High</th>\n",
       "      <th>Low</th>\n",
       "      <th>Close</th>\n",
       "      <th>Adj Close</th>\n",
       "      <th>Volume</th>\n",
       "    </tr>\n",
       "    <tr>\n",
       "      <th>Date</th>\n",
       "      <th></th>\n",
       "      <th></th>\n",
       "      <th></th>\n",
       "      <th></th>\n",
       "      <th></th>\n",
       "      <th></th>\n",
       "    </tr>\n",
       "  </thead>\n",
       "  <tbody>\n",
       "    <tr>\n",
       "      <th>2022-09-22</th>\n",
       "      <td>18534.650391</td>\n",
       "      <td>19456.910156</td>\n",
       "      <td>18415.591797</td>\n",
       "      <td>19413.550781</td>\n",
       "      <td>19413.550781</td>\n",
       "      <td>41135767926</td>\n",
       "    </tr>\n",
       "    <tr>\n",
       "      <th>2022-09-23</th>\n",
       "      <td>19412.400391</td>\n",
       "      <td>19464.671875</td>\n",
       "      <td>18617.552734</td>\n",
       "      <td>19297.638672</td>\n",
       "      <td>19297.638672</td>\n",
       "      <td>38896078052</td>\n",
       "    </tr>\n",
       "    <tr>\n",
       "      <th>2022-09-24</th>\n",
       "      <td>19296.990234</td>\n",
       "      <td>19310.197266</td>\n",
       "      <td>18861.974609</td>\n",
       "      <td>18937.011719</td>\n",
       "      <td>18937.011719</td>\n",
       "      <td>26149643168</td>\n",
       "    </tr>\n",
       "    <tr>\n",
       "      <th>2022-09-25</th>\n",
       "      <td>18936.310547</td>\n",
       "      <td>19134.732422</td>\n",
       "      <td>18696.468750</td>\n",
       "      <td>18802.097656</td>\n",
       "      <td>18802.097656</td>\n",
       "      <td>23359966112</td>\n",
       "    </tr>\n",
       "    <tr>\n",
       "      <th>2022-09-26</th>\n",
       "      <td>18803.900391</td>\n",
       "      <td>19274.873047</td>\n",
       "      <td>18721.285156</td>\n",
       "      <td>19222.671875</td>\n",
       "      <td>19222.671875</td>\n",
       "      <td>44148798321</td>\n",
       "    </tr>\n",
       "  </tbody>\n",
       "</table>\n",
       "</div>"
      ],
      "text/plain": [
       "                    Open          High           Low         Close  \\\n",
       "Date                                                                 \n",
       "2022-09-22  18534.650391  19456.910156  18415.591797  19413.550781   \n",
       "2022-09-23  19412.400391  19464.671875  18617.552734  19297.638672   \n",
       "2022-09-24  19296.990234  19310.197266  18861.974609  18937.011719   \n",
       "2022-09-25  18936.310547  19134.732422  18696.468750  18802.097656   \n",
       "2022-09-26  18803.900391  19274.873047  18721.285156  19222.671875   \n",
       "\n",
       "               Adj Close       Volume  \n",
       "Date                                   \n",
       "2022-09-22  19413.550781  41135767926  \n",
       "2022-09-23  19297.638672  38896078052  \n",
       "2022-09-24  18937.011719  26149643168  \n",
       "2022-09-25  18802.097656  23359966112  \n",
       "2022-09-26  19222.671875  44148798321  "
      ]
     },
     "execution_count": 5,
     "metadata": {},
     "output_type": "execute_result"
    }
   ],
   "source": [
    "#Show in the screen the last few observations for Bitcoin\n",
    "btc.tail()"
   ]
  },
  {
   "cell_type": "code",
   "execution_count": 6,
   "metadata": {},
   "outputs": [
    {
     "data": {
      "text/plain": [
       "365"
      ]
     },
     "execution_count": 6,
     "metadata": {},
     "output_type": "execute_result"
    }
   ],
   "source": [
    "#Check how many observations for year 2019\n",
    "len(btc[(btc.index.year>2018) & (btc.index.year<2020)])"
   ]
  },
  {
   "cell_type": "code",
   "execution_count": 7,
   "metadata": {},
   "outputs": [],
   "source": [
    "#Compute daily returns use the discrete formula for Bitcoin and Ether \n",
    "btc['btc_return']=btc['Close']/btc['Close'].shift(1)-1 \n",
    "eth['eth_return']=eth['Close']/eth['Close'].shift(1)-1"
   ]
  },
  {
   "cell_type": "code",
   "execution_count": 8,
   "metadata": {},
   "outputs": [
    {
     "data": {
      "image/png": "[encoded data removed]",
      "text/plain": [
       "<Figure size 648x360 with 1 Axes>"
      ]
     },
     "metadata": {
      "needs_background": "light"
     },
     "output_type": "display_data"
    }
   ],
   "source": [
    "#Plot daily returns for Bitcoin\n",
    "btc['btc_return'].plot(figsize=(9,5))\n",
    "plt.show()"
   ]
  },
  {
   "cell_type": "code",
   "execution_count": 9,
   "metadata": {},
   "outputs": [
    {
     "data": {
      "text/plain": [
       "0.0009713184784825894"
      ]
     },
     "execution_count": 9,
     "metadata": {},
     "output_type": "execute_result"
    }
   ],
   "source": [
    "#Compute the mean daily return for Bitcoin\n",
    "btc['btc_return'].mean()"
   ]
  },
  {
   "cell_type": "code",
   "execution_count": 10,
   "metadata": {},
   "outputs": [
    {
     "data": {
      "text/plain": [
       "1.4252670143885062"
      ]
     },
     "execution_count": 10,
     "metadata": {},
     "output_type": "execute_result"
    }
   ],
   "source": [
    "#Compute annual average return for Bitcoin using average daily return and compounding formula\n",
    "(1+btc['btc_return'].mean())**365"
   ]
  },
  {
   "cell_type": "code",
   "execution_count": 11,
   "metadata": {},
   "outputs": [],
   "source": [
    "#Recompute daily returns for Bitcoin and Ether but using the logarithmic formula (continuous time)\n",
    "btc['btc_log_return']=np.log(btc['Close'])-np.log(btc['Close'].shift(1)) \n",
    "eth['eth_log_return']=np.log(eth['Close'])-np.log(eth['Close'].shift(1)) "
   ]
  },
  {
   "cell_type": "code",
   "execution_count": 12,
   "metadata": {},
   "outputs": [
    {
     "data": {
      "image/png": "[encoded data removed]",
      "text/plain": [
       "<Figure size 432x288 with 1 Axes>"
      ]
     },
     "metadata": {
      "needs_background": "light"
     },
     "output_type": "display_data"
    }
   ],
   "source": [
    "#Plot daily returns computed with logarithmic formula for Bitcoin\n",
    "btc['btc_log_return'].plot()\n",
    "plt.show()"
   ]
  },
  {
   "cell_type": "code",
   "execution_count": 13,
   "metadata": {},
   "outputs": [
    {
     "data": {
      "text/plain": [
       "0.0395792991256533"
      ]
     },
     "execution_count": 13,
     "metadata": {},
     "output_type": "execute_result"
    }
   ],
   "source": [
    "#Daily standard deviation\n",
    "btc['btc_log_return'].std()"
   ]
  },
  {
   "cell_type": "code",
   "execution_count": 14,
   "metadata": {},
   "outputs": [
    {
     "data": {
      "text/plain": [
       "0.0001977001387126849"
      ]
     },
     "execution_count": 14,
     "metadata": {},
     "output_type": "execute_result"
    }
   ],
   "source": [
    "#Compute daily average return for Bitcoin\n",
    "btc['btc_log_return'].mean()"
   ]
  },
  {
   "cell_type": "code",
   "execution_count": 15,
   "metadata": {},
   "outputs": [
    {
     "data": {
      "text/plain": [
       "0.00031643255065485104"
      ]
     },
     "execution_count": 15,
     "metadata": {},
     "output_type": "execute_result"
    }
   ],
   "source": [
    "#Compute daily average return for Ether\n",
    "eth['eth_log_return'].mean()"
   ]
  },
  {
   "cell_type": "code",
   "execution_count": 16,
   "metadata": {},
   "outputs": [
    {
     "data": {
      "text/plain": [
       "0.0395792991256533"
      ]
     },
     "execution_count": 16,
     "metadata": {},
     "output_type": "execute_result"
    }
   ],
   "source": [
    "#Compute standard deviation of daily returns for Bitcoin\n",
    "btc['btc_log_return'].std()"
   ]
  },
  {
   "cell_type": "code",
   "execution_count": 17,
   "metadata": {},
   "outputs": [
    {
     "data": {
      "text/plain": [
       "0.05138637771794402"
      ]
     },
     "execution_count": 17,
     "metadata": {},
     "output_type": "execute_result"
    }
   ],
   "source": [
    "#Compute standard deviation of daily returns for Ether\n",
    "eth['eth_log_return'].std()"
   ]
  },
  {
   "cell_type": "code",
   "execution_count": 18,
   "metadata": {},
   "outputs": [
    {
     "data": {
      "text/plain": [
       "0.07216055063013"
      ]
     },
     "execution_count": 18,
     "metadata": {},
     "output_type": "execute_result"
    }
   ],
   "source": [
    "#Compute annual return using average logarithmic daily returns for Bitcoin\n",
    "btc['btc_log_return'].mean()*365"
   ]
  },
  {
   "cell_type": "code",
   "execution_count": 19,
   "metadata": {},
   "outputs": [
    {
     "data": {
      "text/plain": [
       "0.7561614480628115"
      ]
     },
     "execution_count": 19,
     "metadata": {},
     "output_type": "execute_result"
    }
   ],
   "source": [
    "#Compute annual standard deviation of daily logarithmic returns for Bitcoin \n",
    "#(T is to the power of 365 because the standard deviation is the square root of the variance)\n",
    "btc['btc_log_return'].std()*(365**0.5)"
   ]
  },
  {
   "cell_type": "code",
   "execution_count": 20,
   "metadata": {},
   "outputs": [],
   "source": [
    "#Creat a new dataframe with only logarithmic returns for Bitcoin and Ether\n",
    "Returns = pd.concat([btc['btc_log_return'],eth['eth_log_return']], axis=1)"
   ]
  },
  {
   "cell_type": "code",
   "execution_count": 21,
   "metadata": {},
   "outputs": [
    {
     "data": {
      "text/html": [
       "<div>\n",
       "<style scoped>\n",
       "    .dataframe tbody tr th:only-of-type {\n",
       "        vertical-align: middle;\n",
       "    }\n",
       "\n",
       "    .dataframe tbody tr th {\n",
       "        vertical-align: top;\n",
       "    }\n",
       "\n",
       "    .dataframe thead th {\n",
       "        text-align: right;\n",
       "    }\n",
       "</style>\n",
       "<table border=\"1\" class=\"dataframe\">\n",
       "  <thead>\n",
       "    <tr style=\"text-align: right;\">\n",
       "      <th></th>\n",
       "      <th>btc_log_return</th>\n",
       "      <th>eth_log_return</th>\n",
       "    </tr>\n",
       "  </thead>\n",
       "  <tbody>\n",
       "    <tr>\n",
       "      <th>btc_log_return</th>\n",
       "      <td>0.001567</td>\n",
       "      <td>0.001685</td>\n",
       "    </tr>\n",
       "    <tr>\n",
       "      <th>eth_log_return</th>\n",
       "      <td>0.001685</td>\n",
       "      <td>0.002641</td>\n",
       "    </tr>\n",
       "  </tbody>\n",
       "</table>\n",
       "</div>"
      ],
      "text/plain": [
       "                btc_log_return  eth_log_return\n",
       "btc_log_return        0.001567        0.001685\n",
       "eth_log_return        0.001685        0.002641"
      ]
     },
     "execution_count": 21,
     "metadata": {},
     "output_type": "execute_result"
    }
   ],
   "source": [
    "#Compute the covariance of daily returns on Bitcoin and Ether\n",
    "Returns.cov()"
   ]
  },
  {
   "cell_type": "code",
   "execution_count": 22,
   "metadata": {},
   "outputs": [
    {
     "data": {
      "text/html": [
       "<div>\n",
       "<style scoped>\n",
       "    .dataframe tbody tr th:only-of-type {\n",
       "        vertical-align: middle;\n",
       "    }\n",
       "\n",
       "    .dataframe tbody tr th {\n",
       "        vertical-align: top;\n",
       "    }\n",
       "\n",
       "    .dataframe thead th {\n",
       "        text-align: right;\n",
       "    }\n",
       "</style>\n",
       "<table border=\"1\" class=\"dataframe\">\n",
       "  <thead>\n",
       "    <tr style=\"text-align: right;\">\n",
       "      <th></th>\n",
       "      <th>btc_log_return</th>\n",
       "      <th>eth_log_return</th>\n",
       "    </tr>\n",
       "  </thead>\n",
       "  <tbody>\n",
       "    <tr>\n",
       "      <th>btc_log_return</th>\n",
       "      <td>1.000000</td>\n",
       "      <td>0.828589</td>\n",
       "    </tr>\n",
       "    <tr>\n",
       "      <th>eth_log_return</th>\n",
       "      <td>0.828589</td>\n",
       "      <td>1.000000</td>\n",
       "    </tr>\n",
       "  </tbody>\n",
       "</table>\n",
       "</div>"
      ],
      "text/plain": [
       "                btc_log_return  eth_log_return\n",
       "btc_log_return        1.000000        0.828589\n",
       "eth_log_return        0.828589        1.000000"
      ]
     },
     "execution_count": 22,
     "metadata": {},
     "output_type": "execute_result"
    }
   ],
   "source": [
    "#Compute the correlation of daily returns on Bitcoin and Ether\n",
    "Returns.corr()"
   ]
  },
  {
   "cell_type": "code",
   "execution_count": 23,
   "metadata": {},
   "outputs": [
    {
     "name": "stdout",
     "output_type": "stream",
     "text": [
      "0.004995038898618235\n",
      "0.006157907303599519\n"
     ]
    }
   ],
   "source": [
    "#Compute and print the Sharpe ratio for both Bitcoin and Ether\n",
    "print(Returns['btc_log_return'].mean()/Returns['btc_log_return'].std())\n",
    "print(Returns['eth_log_return'].mean()/Returns['eth_log_return'].std())"
   ]
  },
  {
   "cell_type": "code",
   "execution_count": 24,
   "metadata": {},
   "outputs": [],
   "source": [
    "#Create a new dataframe called PT with Bitcoin adjusted closing prices (Adj Close)\n",
    "PT = pd.DataFrame(data=btc['Adj Close']) "
   ]
  },
  {
   "cell_type": "code",
   "execution_count": 25,
   "metadata": {},
   "outputs": [],
   "source": [
    "#Rename the column from 'Adj Close' to 'btc_price' \n",
    "PT.rename(columns = {'Adj Close':'btc_price'}, inplace = True)"
   ]
  },
  {
   "cell_type": "code",
   "execution_count": 26,
   "metadata": {},
   "outputs": [],
   "source": [
    "#Expand the data frame PT by adding another column containing the adjusted closing price of Ether\n",
    "PT = pd.concat([PT,eth['Adj Close']], axis=1)"
   ]
  },
  {
   "cell_type": "code",
   "execution_count": 27,
   "metadata": {},
   "outputs": [],
   "source": [
    "#Rename the added column from 'Adj Close' to 'eth_price' \n",
    "PT.rename(columns = {'Adj Close':'eth_price'}, inplace = True)"
   ]
  },
  {
   "cell_type": "code",
   "execution_count": 28,
   "metadata": {},
   "outputs": [],
   "source": [
    "#Normalize prices by diving the prices of each security by the first price in the data sample for the same security. \n",
    "#The normalized prices will be added as new coulmns to the PT dataframe\n",
    "PT['btc_price_nor']=PT['btc_price']/PT.iloc[0]['btc_price']\n",
    "PT['eth_price_nor']=PT['eth_price']/PT.iloc[0]['eth_price']"
   ]
  },
  {
   "cell_type": "code",
   "execution_count": 29,
   "metadata": {},
   "outputs": [],
   "source": [
    "#We now create two arrays. The first contains the identifier for the investment security: Bitcoin and Ether.\n",
    "#The second specifies the share of the investment in the two securities. We assume 50% in Bitcoin and 50% in Ether.\n",
    "#These two arrays will be used to compute the value and return of the portfolio\n",
    "crypto_type=['btc','eth']\n",
    "shares=np.ones(len(crypto_type))/len(crypto_type)"
   ]
  },
  {
   "cell_type": "code",
   "execution_count": 30,
   "metadata": {},
   "outputs": [],
   "source": [
    "#Compute the value of the portfolio. This is the mean of the prices of Bitcoin and Ether, weithed by the portfolio shares.\n",
    "#Since we have two investment possibilities (Bitcoin and Ether), the loop is repeated twice. \n",
    "#The mean value of the portfolio is stored in a new column called 'ave_price' \n",
    "#We start adding the column containing, initially, all zeros. We then add the value invested in Bitcoin and then the\n",
    "#the value invested in Ether\n",
    "PT.loc[:,'ave_price']=0\n",
    "num_shr=0\n",
    "for i in crypto_type:\n",
    "    PT.loc[:,'ave_price']=PT['ave_price']+PT[i+'_price_nor']*shares[num_shr]\n",
    "    num_shr=num_shr+1"
   ]
  },
  {
   "cell_type": "code",
   "execution_count": 31,
   "metadata": {},
   "outputs": [],
   "source": [
    "#We now compute the log-returns for Bitcoin, Ether, and the Portfolio with 50% Bitcoin and 50% Ether\n",
    "PT['btc_ret']=np.log(PT['btc_price_nor'])-np.log(PT['btc_price_nor'].shift(1)) \n",
    "PT['eth_ret']=np.log(PT['eth_price_nor'])-np.log(PT['eth_price_nor'].shift(1))\n",
    "PT['por_ret']=np.log(PT['ave_price'])-np.log(PT['ave_price'].shift(1))"
   ]
  }
 ],
 "metadata": {
  "kernelspec": {
   "display_name": "Python 3 (ipykernel)",
   "language": "python",
   "name": "python3"
  },
  "language_info": {
   "codemirror_mode": {
    "name": "ipython",
    "version": 3
   },
   "file_extension": ".py",
   "mimetype": "text/x-python",
   "name": "python",
   "nbconvert_exporter": "python",
   "pygments_lexer": "ipython3",
   "version": "3.10.13"
  }
 },
 "nbformat": 4,
 "nbformat_minor": 4
}
