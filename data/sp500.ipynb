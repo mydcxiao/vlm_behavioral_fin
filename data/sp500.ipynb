{
 "cells": [
  {
   "cell_type": "code",
   "execution_count": 2,
   "metadata": {},
   "outputs": [],
   "source": [
    "#Import libraries we will use in the analysis\n",
    "import numpy as np\n",
    "import pandas as pd\n",
    "import yfinance as yf\n",
    "import datetime as dt\n",
    "import matplotlib.pyplot as plt\n",
    "import requests\n",
    "from bs4 import BeautifulSoup\n",
    "import inspect\n",
    "from tqdm import tqdm"
   ]
  },
  {
   "cell_type": "code",
   "execution_count": 3,
   "metadata": {},
   "outputs": [
    {
     "name": "stdout",
     "output_type": "stream",
     "text": [
      "2000-01-01 2024-04-12\n"
     ]
    }
   ],
   "source": [
    "#Set starting and ending date for dowloading data from Yahoo Finance\n",
    "start = dt.datetime(2000, 1, 1).strftime('%Y-%m-%d')\n",
    "end = dt.datetime.now().strftime('%Y-%m-%d')\n",
    "print(start, end)"
   ]
  },
  {
   "cell_type": "code",
   "execution_count": 4,
   "metadata": {},
   "outputs": [],
   "source": [
    "#Get the list of tickers from the S&P 500\n",
    "from fetch_sp500 import tickers_sp500\n",
    "tickers = tickers_sp500()\n",
    "tickers = tickers[:500]"
   ]
  },
  {
   "cell_type": "code",
   "execution_count": 5,
   "metadata": {},
   "outputs": [
    {
     "name": "stdout",
     "output_type": "stream",
     "text": [
      "[                       1%                       ]  4 of 500 completed"
     ]
    },
    {
     "name": "stderr",
     "output_type": "stream",
     "text": [
      "/lab/mydcxiao/anaconda3/envs/bias/lib/python3.12/site-packages/yfinance/utils.py:689: FutureWarning: The 'unit' keyword in TimedeltaIndex construction is deprecated and will be removed in a future version. Use pd.to_timedelta instead.\n",
      "  df.index += _pd.TimedeltaIndex(dst_error_hours, 'h')\n",
      "/lab/mydcxiao/anaconda3/envs/bias/lib/python3.12/site-packages/yfinance/utils.py:689: FutureWarning: The 'unit' keyword in TimedeltaIndex construction is deprecated and will be removed in a future version. Use pd.to_timedelta instead.\n",
      "  df.index += _pd.TimedeltaIndex(dst_error_hours, 'h')\n",
      "/lab/mydcxiao/anaconda3/envs/bias/lib/python3.12/site-packages/yfinance/utils.py:689: FutureWarning: The 'unit' keyword in TimedeltaIndex construction is deprecated and will be removed in a future version. Use pd.to_timedelta instead.\n",
      "  df.index += _pd.TimedeltaIndex(dst_error_hours, 'h')\n",
      "/lab/mydcxiao/anaconda3/envs/bias/lib/python3.12/site-packages/yfinance/utils.py:689: FutureWarning: The 'unit' keyword in TimedeltaIndex construction is deprecated and will be removed in a future version. Use pd.to_timedelta instead.\n",
      "  df.index += _pd.TimedeltaIndex(dst_error_hours, 'h')\n"
     ]
    },
    {
     "name": "stdout",
     "output_type": "stream",
     "text": [
      "[                       1%                       ]  7 of 500 completed"
     ]
    },
    {
     "name": "stderr",
     "output_type": "stream",
     "text": [
      "/lab/mydcxiao/anaconda3/envs/bias/lib/python3.12/site-packages/yfinance/utils.py:689: FutureWarning: The 'unit' keyword in TimedeltaIndex construction is deprecated and will be removed in a future version. Use pd.to_timedelta instead.\n",
      "  df.index += _pd.TimedeltaIndex(dst_error_hours, 'h')\n",
      "/lab/mydcxiao/anaconda3/envs/bias/lib/python3.12/site-packages/yfinance/utils.py:689: FutureWarning: The 'unit' keyword in TimedeltaIndex construction is deprecated and will be removed in a future version. Use pd.to_timedelta instead.\n",
      "  df.index += _pd.TimedeltaIndex(dst_error_hours, 'h')\n",
      "/lab/mydcxiao/anaconda3/envs/bias/lib/python3.12/site-packages/yfinance/utils.py:689: FutureWarning: The 'unit' keyword in TimedeltaIndex construction is deprecated and will be removed in a future version. Use pd.to_timedelta instead.\n",
      "  df.index += _pd.TimedeltaIndex(dst_error_hours, 'h')\n",
      "/lab/mydcxiao/anaconda3/envs/bias/lib/python3.12/site-packages/yfinance/utils.py:689: FutureWarning: The 'unit' keyword in TimedeltaIndex construction is deprecated and will be removed in a future version. Use pd.to_timedelta instead.\n",
      "  df.index += _pd.TimedeltaIndex(dst_error_hours, 'h')\n",
      "/lab/mydcxiao/anaconda3/envs/bias/lib/python3.12/site-packages/yfinance/utils.py:689: FutureWarning: The 'unit' keyword in TimedeltaIndex construction is deprecated and will be removed in a future version. Use pd.to_timedelta instead.\n",
      "  df.index += _pd.TimedeltaIndex(dst_error_hours, 'h')\n"
     ]
    },
    {
     "name": "stdout",
     "output_type": "stream",
     "text": [
      "[*                      2%                       ]  10 of 500 completed"
     ]
    },
    {
     "name": "stderr",
     "output_type": "stream",
     "text": [
      "/lab/mydcxiao/anaconda3/envs/bias/lib/python3.12/site-packages/yfinance/utils.py:689: FutureWarning: The 'unit' keyword in TimedeltaIndex construction is deprecated and will be removed in a future version. Use pd.to_timedelta instead.\n",
      "  df.index += _pd.TimedeltaIndex(dst_error_hours, 'h')\n",
      "/lab/mydcxiao/anaconda3/envs/bias/lib/python3.12/site-packages/yfinance/utils.py:689: FutureWarning: The 'unit' keyword in TimedeltaIndex construction is deprecated and will be removed in a future version. Use pd.to_timedelta instead.\n",
      "  df.index += _pd.TimedeltaIndex(dst_error_hours, 'h')\n",
      "/lab/mydcxiao/anaconda3/envs/bias/lib/python3.12/site-packages/yfinance/utils.py:689: FutureWarning: The 'unit' keyword in TimedeltaIndex construction is deprecated and will be removed in a future version. Use pd.to_timedelta instead.\n",
      "  df.index += _pd.TimedeltaIndex(dst_error_hours, 'h')\n",
      "/lab/mydcxiao/anaconda3/envs/bias/lib/python3.12/site-packages/yfinance/utils.py:689: FutureWarning: The 'unit' keyword in TimedeltaIndex construction is deprecated and will be removed in a future version. Use pd.to_timedelta instead.\n",
      "  df.index += _pd.TimedeltaIndex(dst_error_hours, 'h')\n"
     ]
    },
    {
     "name": "stdout",
     "output_type": "stream",
     "text": [
      "[*                      3%                       ]  13 of 500 completed"
     ]
    },
    {
     "name": "stderr",
     "output_type": "stream",
     "text": [
      "/lab/mydcxiao/anaconda3/envs/bias/lib/python3.12/site-packages/yfinance/utils.py:689: FutureWarning: The 'unit' keyword in TimedeltaIndex construction is deprecated and will be removed in a future version. Use pd.to_timedelta instead.\n",
      "  df.index += _pd.TimedeltaIndex(dst_error_hours, 'h')\n",
      "/lab/mydcxiao/anaconda3/envs/bias/lib/python3.12/site-packages/yfinance/utils.py:689: FutureWarning: The 'unit' keyword in TimedeltaIndex construction is deprecated and will be removed in a future version. Use pd.to_timedelta instead.\n",
      "  df.index += _pd.TimedeltaIndex(dst_error_hours, 'h')\n",
      "/lab/mydcxiao/anaconda3/envs/bias/lib/python3.12/site-packages/yfinance/utils.py:689: FutureWarning: The 'unit' keyword in TimedeltaIndex construction is deprecated and will be removed in a future version. Use pd.to_timedelta instead.\n",
      "  df.index += _pd.TimedeltaIndex(dst_error_hours, 'h')\n",
      "/lab/mydcxiao/anaconda3/envs/bias/lib/python3.12/site-packages/yfinance/utils.py:689: FutureWarning: The 'unit' keyword in TimedeltaIndex construction is deprecated and will be removed in a future version. Use pd.to_timedelta instead.\n",
      "  df.index += _pd.TimedeltaIndex(dst_error_hours, 'h')\n"
     ]
    },
    {
     "name": "stdout",
     "output_type": "stream",
     "text": [
      "[*                      3%                       ]  15 of 500 completed"
     ]
    },
    {
     "name": "stderr",
     "output_type": "stream",
     "text": [
      "/lab/mydcxiao/anaconda3/envs/bias/lib/python3.12/site-packages/yfinance/base.py:258: DeprecationWarning: datetime.datetime.utcfromtimestamp() is deprecated and scheduled for removal in a future version. Use timezone-aware objects to represent datetimes in UTC: datetime.datetime.fromtimestamp(timestamp, datetime.UTC).\n",
      "  endDt = _pd.to_datetime(_datetime.datetime.utcfromtimestamp(end))\n",
      "/lab/mydcxiao/anaconda3/envs/bias/lib/python3.12/site-packages/yfinance/utils.py:689: FutureWarning: The 'unit' keyword in TimedeltaIndex construction is deprecated and will be removed in a future version. Use pd.to_timedelta instead.\n",
      "  df.index += _pd.TimedeltaIndex(dst_error_hours, 'h')\n",
      "/lab/mydcxiao/anaconda3/envs/bias/lib/python3.12/site-packages/yfinance/utils.py:689: FutureWarning: The 'unit' keyword in TimedeltaIndex construction is deprecated and will be removed in a future version. Use pd.to_timedelta instead.\n",
      "  df.index += _pd.TimedeltaIndex(dst_error_hours, 'h')\n",
      "/lab/mydcxiao/anaconda3/envs/bias/lib/python3.12/site-packages/yfinance/utils.py:689: FutureWarning: The 'unit' keyword in TimedeltaIndex construction is deprecated and will be removed in a future version. Use pd.to_timedelta instead.\n",
      "  df.index += _pd.TimedeltaIndex(dst_error_hours, 'h')\n",
      "/lab/mydcxiao/anaconda3/envs/bias/lib/python3.12/site-packages/yfinance/utils.py:689: FutureWarning: The 'unit' keyword in TimedeltaIndex construction is deprecated and will be removed in a future version. Use pd.to_timedelta instead.\n",
      "  df.index += _pd.TimedeltaIndex(dst_error_hours, 'h')\n",
      "/lab/mydcxiao/anaconda3/envs/bias/lib/python3.12/site-packages/yfinance/utils.py:689: FutureWarning: The 'unit' keyword in TimedeltaIndex construction is deprecated and will be removed in a future version. Use pd.to_timedelta instead.\n",
      "  df.index += _pd.TimedeltaIndex(dst_error_hours, 'h')\n"
     ]
    },
    {
     "name": "stdout",
     "output_type": "stream",
     "text": [
      "[**                     5%                       ]  24 of 500 completed"
     ]
    },
    {
     "name": "stderr",
     "output_type": "stream",
     "text": [
      "/lab/mydcxiao/anaconda3/envs/bias/lib/python3.12/site-packages/yfinance/utils.py:689: FutureWarning: The 'unit' keyword in TimedeltaIndex construction is deprecated and will be removed in a future version. Use pd.to_timedelta instead.\n",
      "  df.index += _pd.TimedeltaIndex(dst_error_hours, 'h')\n",
      "/lab/mydcxiao/anaconda3/envs/bias/lib/python3.12/site-packages/yfinance/utils.py:689: FutureWarning: The 'unit' keyword in TimedeltaIndex construction is deprecated and will be removed in a future version. Use pd.to_timedelta instead.\n",
      "  df.index += _pd.TimedeltaIndex(dst_error_hours, 'h')\n"
     ]
    },
    {
     "name": "stdout",
     "output_type": "stream",
     "text": [
      "[**                     5%                       ]  26 of 500 completed"
     ]
    },
    {
     "name": "stderr",
     "output_type": "stream",
     "text": [
      "/lab/mydcxiao/anaconda3/envs/bias/lib/python3.12/site-packages/yfinance/utils.py:689: FutureWarning: The 'unit' keyword in TimedeltaIndex construction is deprecated and will be removed in a future version. Use pd.to_timedelta instead.\n",
      "  df.index += _pd.TimedeltaIndex(dst_error_hours, 'h')\n",
      "/lab/mydcxiao/anaconda3/envs/bias/lib/python3.12/site-packages/yfinance/utils.py:689: FutureWarning: The 'unit' keyword in TimedeltaIndex construction is deprecated and will be removed in a future version. Use pd.to_timedelta instead.\n",
      "  df.index += _pd.TimedeltaIndex(dst_error_hours, 'h')\n",
      "/lab/mydcxiao/anaconda3/envs/bias/lib/python3.12/site-packages/yfinance/utils.py:689: FutureWarning: The 'unit' keyword in TimedeltaIndex construction is deprecated and will be removed in a future version. Use pd.to_timedelta instead.\n",
      "  df.index += _pd.TimedeltaIndex(dst_error_hours, 'h')\n",
      "/lab/mydcxiao/anaconda3/envs/bias/lib/python3.12/site-packages/yfinance/utils.py:689: FutureWarning: The 'unit' keyword in TimedeltaIndex construction is deprecated and will be removed in a future version. Use pd.to_timedelta instead.\n",
      "  df.index += _pd.TimedeltaIndex(dst_error_hours, 'h')\n",
      "/lab/mydcxiao/anaconda3/envs/bias/lib/python3.12/site-packages/yfinance/utils.py:689: FutureWarning: The 'unit' keyword in TimedeltaIndex construction is deprecated and will be removed in a future version. Use pd.to_timedelta instead.\n",
      "  df.index += _pd.TimedeltaIndex(dst_error_hours, 'h')\n"
     ]
    },
    {
     "name": "stdout",
     "output_type": "stream",
     "text": [
      "[***                    6%                       ]  32 of 500 completed"
     ]
    },
    {
     "name": "stderr",
     "output_type": "stream",
     "text": [
      "/lab/mydcxiao/anaconda3/envs/bias/lib/python3.12/site-packages/yfinance/utils.py:689: FutureWarning: The 'unit' keyword in TimedeltaIndex construction is deprecated and will be removed in a future version. Use pd.to_timedelta instead.\n",
      "  df.index += _pd.TimedeltaIndex(dst_error_hours, 'h')\n",
      "/lab/mydcxiao/anaconda3/envs/bias/lib/python3.12/site-packages/yfinance/utils.py:689: FutureWarning: The 'unit' keyword in TimedeltaIndex construction is deprecated and will be removed in a future version. Use pd.to_timedelta instead.\n",
      "  df.index += _pd.TimedeltaIndex(dst_error_hours, 'h')\n",
      "/lab/mydcxiao/anaconda3/envs/bias/lib/python3.12/site-packages/yfinance/utils.py:689: FutureWarning: The 'unit' keyword in TimedeltaIndex construction is deprecated and will be removed in a future version. Use pd.to_timedelta instead.\n",
      "  df.index += _pd.TimedeltaIndex(dst_error_hours, 'h')\n"
     ]
    },
    {
     "name": "stdout",
     "output_type": "stream",
     "text": [
      "[***                    7%                       ]  35 of 500 completed"
     ]
    },
    {
     "name": "stderr",
     "output_type": "stream",
     "text": [
      "/lab/mydcxiao/anaconda3/envs/bias/lib/python3.12/site-packages/yfinance/utils.py:689: FutureWarning: The 'unit' keyword in TimedeltaIndex construction is deprecated and will be removed in a future version. Use pd.to_timedelta instead.\n",
      "  df.index += _pd.TimedeltaIndex(dst_error_hours, 'h')\n",
      "/lab/mydcxiao/anaconda3/envs/bias/lib/python3.12/site-packages/yfinance/utils.py:689: FutureWarning: The 'unit' keyword in TimedeltaIndex construction is deprecated and will be removed in a future version. Use pd.to_timedelta instead.\n",
      "  df.index += _pd.TimedeltaIndex(dst_error_hours, 'h')\n",
      "/lab/mydcxiao/anaconda3/envs/bias/lib/python3.12/site-packages/yfinance/utils.py:689: FutureWarning: The 'unit' keyword in TimedeltaIndex construction is deprecated and will be removed in a future version. Use pd.to_timedelta instead.\n",
      "  df.index += _pd.TimedeltaIndex(dst_error_hours, 'h')\n",
      "/lab/mydcxiao/anaconda3/envs/bias/lib/python3.12/site-packages/yfinance/utils.py:689: FutureWarning: The 'unit' keyword in TimedeltaIndex construction is deprecated and will be removed in a future version. Use pd.to_timedelta instead.\n",
      "  df.index += _pd.TimedeltaIndex(dst_error_hours, 'h')\n"
     ]
    },
    {
     "name": "stdout",
     "output_type": "stream",
     "text": [
      "[****                   9%                       ]  43 of 500 completed"
     ]
    },
    {
     "name": "stderr",
     "output_type": "stream",
     "text": [
      "/lab/mydcxiao/anaconda3/envs/bias/lib/python3.12/site-packages/yfinance/utils.py:689: FutureWarning: The 'unit' keyword in TimedeltaIndex construction is deprecated and will be removed in a future version. Use pd.to_timedelta instead.\n",
      "  df.index += _pd.TimedeltaIndex(dst_error_hours, 'h')\n",
      "/lab/mydcxiao/anaconda3/envs/bias/lib/python3.12/site-packages/yfinance/utils.py:689: FutureWarning: The 'unit' keyword in TimedeltaIndex construction is deprecated and will be removed in a future version. Use pd.to_timedelta instead.\n",
      "  df.index += _pd.TimedeltaIndex(dst_error_hours, 'h')\n",
      "/lab/mydcxiao/anaconda3/envs/bias/lib/python3.12/site-packages/yfinance/utils.py:689: FutureWarning: The 'unit' keyword in TimedeltaIndex construction is deprecated and will be removed in a future version. Use pd.to_timedelta instead.\n",
      "  df.index += _pd.TimedeltaIndex(dst_error_hours, 'h')\n",
      "/lab/mydcxiao/anaconda3/envs/bias/lib/python3.12/site-packages/yfinance/utils.py:689: FutureWarning: The 'unit' keyword in TimedeltaIndex construction is deprecated and will be removed in a future version. Use pd.to_timedelta instead.\n",
      "  df.index += _pd.TimedeltaIndex(dst_error_hours, 'h')\n",
      "/lab/mydcxiao/anaconda3/envs/bias/lib/python3.12/site-packages/yfinance/utils.py:689: FutureWarning: The 'unit' keyword in TimedeltaIndex construction is deprecated and will be removed in a future version. Use pd.to_timedelta instead.\n",
      "  df.index += _pd.TimedeltaIndex(dst_error_hours, 'h')\n"
     ]
    },
    {
     "name": "stdout",
     "output_type": "stream",
     "text": [
      "[****                   9%                       ]  46 of 500 completed"
     ]
    },
    {
     "name": "stderr",
     "output_type": "stream",
     "text": [
      "/lab/mydcxiao/anaconda3/envs/bias/lib/python3.12/site-packages/yfinance/utils.py:689: FutureWarning: The 'unit' keyword in TimedeltaIndex construction is deprecated and will be removed in a future version. Use pd.to_timedelta instead.\n",
      "  df.index += _pd.TimedeltaIndex(dst_error_hours, 'h')\n",
      "/lab/mydcxiao/anaconda3/envs/bias/lib/python3.12/site-packages/yfinance/utils.py:689: FutureWarning: The 'unit' keyword in TimedeltaIndex construction is deprecated and will be removed in a future version. Use pd.to_timedelta instead.\n",
      "  df.index += _pd.TimedeltaIndex(dst_error_hours, 'h')\n",
      "/lab/mydcxiao/anaconda3/envs/bias/lib/python3.12/site-packages/yfinance/utils.py:689: FutureWarning: The 'unit' keyword in TimedeltaIndex construction is deprecated and will be removed in a future version. Use pd.to_timedelta instead.\n",
      "  df.index += _pd.TimedeltaIndex(dst_error_hours, 'h')\n",
      "/lab/mydcxiao/anaconda3/envs/bias/lib/python3.12/site-packages/yfinance/utils.py:689: FutureWarning: The 'unit' keyword in TimedeltaIndex construction is deprecated and will be removed in a future version. Use pd.to_timedelta instead.\n",
      "  df.index += _pd.TimedeltaIndex(dst_error_hours, 'h')\n"
     ]
    },
    {
     "name": "stdout",
     "output_type": "stream",
     "text": [
      "[*****                 10%                       ]  50 of 500 completed"
     ]
    },
    {
     "name": "stderr",
     "output_type": "stream",
     "text": [
      "/lab/mydcxiao/anaconda3/envs/bias/lib/python3.12/site-packages/yfinance/utils.py:689: FutureWarning: The 'unit' keyword in TimedeltaIndex construction is deprecated and will be removed in a future version. Use pd.to_timedelta instead.\n",
      "  df.index += _pd.TimedeltaIndex(dst_error_hours, 'h')\n",
      "/lab/mydcxiao/anaconda3/envs/bias/lib/python3.12/site-packages/yfinance/utils.py:689: FutureWarning: The 'unit' keyword in TimedeltaIndex construction is deprecated and will be removed in a future version. Use pd.to_timedelta instead.\n",
      "  df.index += _pd.TimedeltaIndex(dst_error_hours, 'h')\n",
      "/lab/mydcxiao/anaconda3/envs/bias/lib/python3.12/site-packages/yfinance/utils.py:689: FutureWarning: The 'unit' keyword in TimedeltaIndex construction is deprecated and will be removed in a future version. Use pd.to_timedelta instead.\n",
      "  df.index += _pd.TimedeltaIndex(dst_error_hours, 'h')\n",
      "/lab/mydcxiao/anaconda3/envs/bias/lib/python3.12/site-packages/yfinance/utils.py:689: FutureWarning: The 'unit' keyword in TimedeltaIndex construction is deprecated and will be removed in a future version. Use pd.to_timedelta instead.\n",
      "  df.index += _pd.TimedeltaIndex(dst_error_hours, 'h')\n",
      "/lab/mydcxiao/anaconda3/envs/bias/lib/python3.12/site-packages/yfinance/utils.py:689: FutureWarning: The 'unit' keyword in TimedeltaIndex construction is deprecated and will be removed in a future version. Use pd.to_timedelta instead.\n",
      "  df.index += _pd.TimedeltaIndex(dst_error_hours, 'h')\n"
     ]
    },
    {
     "name": "stdout",
     "output_type": "stream",
     "text": [
      "[*****                 11%                       ]  55 of 500 completed"
     ]
    },
    {
     "name": "stderr",
     "output_type": "stream",
     "text": [
      "/lab/mydcxiao/anaconda3/envs/bias/lib/python3.12/site-packages/yfinance/utils.py:689: FutureWarning: The 'unit' keyword in TimedeltaIndex construction is deprecated and will be removed in a future version. Use pd.to_timedelta instead.\n",
      "  df.index += _pd.TimedeltaIndex(dst_error_hours, 'h')\n",
      "/lab/mydcxiao/anaconda3/envs/bias/lib/python3.12/site-packages/yfinance/utils.py:689: FutureWarning: The 'unit' keyword in TimedeltaIndex construction is deprecated and will be removed in a future version. Use pd.to_timedelta instead.\n",
      "  df.index += _pd.TimedeltaIndex(dst_error_hours, 'h')\n",
      "/lab/mydcxiao/anaconda3/envs/bias/lib/python3.12/site-packages/yfinance/utils.py:689: FutureWarning: The 'unit' keyword in TimedeltaIndex construction is deprecated and will be removed in a future version. Use pd.to_timedelta instead.\n",
      "  df.index += _pd.TimedeltaIndex(dst_error_hours, 'h')\n"
     ]
    },
    {
     "name": "stdout",
     "output_type": "stream",
     "text": [
      "[*****                 11%                       ]  57 of 500 completed"
     ]
    },
    {
     "name": "stderr",
     "output_type": "stream",
     "text": [
      "/lab/mydcxiao/anaconda3/envs/bias/lib/python3.12/site-packages/yfinance/utils.py:689: FutureWarning: The 'unit' keyword in TimedeltaIndex construction is deprecated and will be removed in a future version. Use pd.to_timedelta instead.\n",
      "  df.index += _pd.TimedeltaIndex(dst_error_hours, 'h')\n",
      "/lab/mydcxiao/anaconda3/envs/bias/lib/python3.12/site-packages/yfinance/utils.py:689: FutureWarning: The 'unit' keyword in TimedeltaIndex construction is deprecated and will be removed in a future version. Use pd.to_timedelta instead.\n",
      "  df.index += _pd.TimedeltaIndex(dst_error_hours, 'h')\n",
      "/lab/mydcxiao/anaconda3/envs/bias/lib/python3.12/site-packages/yfinance/utils.py:689: FutureWarning: The 'unit' keyword in TimedeltaIndex construction is deprecated and will be removed in a future version. Use pd.to_timedelta instead.\n",
      "  df.index += _pd.TimedeltaIndex(dst_error_hours, 'h')\n",
      "/lab/mydcxiao/anaconda3/envs/bias/lib/python3.12/site-packages/yfinance/utils.py:689: FutureWarning: The 'unit' keyword in TimedeltaIndex construction is deprecated and will be removed in a future version. Use pd.to_timedelta instead.\n",
      "  df.index += _pd.TimedeltaIndex(dst_error_hours, 'h')\n"
     ]
    },
    {
     "name": "stdout",
     "output_type": "stream",
     "text": [
      "[******                12%                       ]  62 of 500 completed"
     ]
    },
    {
     "name": "stderr",
     "output_type": "stream",
     "text": [
      "/lab/mydcxiao/anaconda3/envs/bias/lib/python3.12/site-packages/yfinance/utils.py:689: FutureWarning: The 'unit' keyword in TimedeltaIndex construction is deprecated and will be removed in a future version. Use pd.to_timedelta instead.\n",
      "  df.index += _pd.TimedeltaIndex(dst_error_hours, 'h')\n",
      "/lab/mydcxiao/anaconda3/envs/bias/lib/python3.12/site-packages/yfinance/utils.py:689: FutureWarning: The 'unit' keyword in TimedeltaIndex construction is deprecated and will be removed in a future version. Use pd.to_timedelta instead.\n",
      "  df.index += _pd.TimedeltaIndex(dst_error_hours, 'h')\n",
      "/lab/mydcxiao/anaconda3/envs/bias/lib/python3.12/site-packages/yfinance/utils.py:689: FutureWarning: The 'unit' keyword in TimedeltaIndex construction is deprecated and will be removed in a future version. Use pd.to_timedelta instead.\n",
      "  df.index += _pd.TimedeltaIndex(dst_error_hours, 'h')\n",
      "/lab/mydcxiao/anaconda3/envs/bias/lib/python3.12/site-packages/yfinance/utils.py:689: FutureWarning: The 'unit' keyword in TimedeltaIndex construction is deprecated and will be removed in a future version. Use pd.to_timedelta instead.\n",
      "  df.index += _pd.TimedeltaIndex(dst_error_hours, 'h')\n"
     ]
    },
    {
     "name": "stdout",
     "output_type": "stream",
     "text": [
      "[******                13%                       ]  65 of 500 completed"
     ]
    },
    {
     "name": "stderr",
     "output_type": "stream",
     "text": [
      "/lab/mydcxiao/anaconda3/envs/bias/lib/python3.12/site-packages/yfinance/utils.py:689: FutureWarning: The 'unit' keyword in TimedeltaIndex construction is deprecated and will be removed in a future version. Use pd.to_timedelta instead.\n",
      "  df.index += _pd.TimedeltaIndex(dst_error_hours, 'h')\n",
      "/lab/mydcxiao/anaconda3/envs/bias/lib/python3.12/site-packages/yfinance/utils.py:689: FutureWarning: The 'unit' keyword in TimedeltaIndex construction is deprecated and will be removed in a future version. Use pd.to_timedelta instead.\n",
      "  df.index += _pd.TimedeltaIndex(dst_error_hours, 'h')\n",
      "/lab/mydcxiao/anaconda3/envs/bias/lib/python3.12/site-packages/yfinance/utils.py:689: FutureWarning: The 'unit' keyword in TimedeltaIndex construction is deprecated and will be removed in a future version. Use pd.to_timedelta instead.\n",
      "  df.index += _pd.TimedeltaIndex(dst_error_hours, 'h')\n",
      "/lab/mydcxiao/anaconda3/envs/bias/lib/python3.12/site-packages/yfinance/utils.py:689: FutureWarning: The 'unit' keyword in TimedeltaIndex construction is deprecated and will be removed in a future version. Use pd.to_timedelta instead.\n",
      "  df.index += _pd.TimedeltaIndex(dst_error_hours, 'h')\n"
     ]
    },
    {
     "name": "stdout",
     "output_type": "stream",
     "text": [
      "[*******               14%                       ]  69 of 500 completed"
     ]
    },
    {
     "name": "stderr",
     "output_type": "stream",
     "text": [
      "/lab/mydcxiao/anaconda3/envs/bias/lib/python3.12/site-packages/yfinance/utils.py:689: FutureWarning: The 'unit' keyword in TimedeltaIndex construction is deprecated and will be removed in a future version. Use pd.to_timedelta instead.\n",
      "  df.index += _pd.TimedeltaIndex(dst_error_hours, 'h')\n",
      "/lab/mydcxiao/anaconda3/envs/bias/lib/python3.12/site-packages/yfinance/utils.py:689: FutureWarning: The 'unit' keyword in TimedeltaIndex construction is deprecated and will be removed in a future version. Use pd.to_timedelta instead.\n",
      "  df.index += _pd.TimedeltaIndex(dst_error_hours, 'h')\n",
      "/lab/mydcxiao/anaconda3/envs/bias/lib/python3.12/site-packages/yfinance/utils.py:689: FutureWarning: The 'unit' keyword in TimedeltaIndex construction is deprecated and will be removed in a future version. Use pd.to_timedelta instead.\n",
      "  df.index += _pd.TimedeltaIndex(dst_error_hours, 'h')\n",
      "/lab/mydcxiao/anaconda3/envs/bias/lib/python3.12/site-packages/yfinance/utils.py:689: FutureWarning: The 'unit' keyword in TimedeltaIndex construction is deprecated and will be removed in a future version. Use pd.to_timedelta instead.\n",
      "  df.index += _pd.TimedeltaIndex(dst_error_hours, 'h')\n"
     ]
    },
    {
     "name": "stdout",
     "output_type": "stream",
     "text": [
      "[*******               15%                       ]  73 of 500 completed"
     ]
    },
    {
     "name": "stderr",
     "output_type": "stream",
     "text": [
      "/lab/mydcxiao/anaconda3/envs/bias/lib/python3.12/site-packages/yfinance/utils.py:689: FutureWarning: The 'unit' keyword in TimedeltaIndex construction is deprecated and will be removed in a future version. Use pd.to_timedelta instead.\n",
      "  df.index += _pd.TimedeltaIndex(dst_error_hours, 'h')\n",
      "/lab/mydcxiao/anaconda3/envs/bias/lib/python3.12/site-packages/yfinance/utils.py:689: FutureWarning: The 'unit' keyword in TimedeltaIndex construction is deprecated and will be removed in a future version. Use pd.to_timedelta instead.\n",
      "  df.index += _pd.TimedeltaIndex(dst_error_hours, 'h')\n",
      "/lab/mydcxiao/anaconda3/envs/bias/lib/python3.12/site-packages/yfinance/utils.py:689: FutureWarning: The 'unit' keyword in TimedeltaIndex construction is deprecated and will be removed in a future version. Use pd.to_timedelta instead.\n",
      "  df.index += _pd.TimedeltaIndex(dst_error_hours, 'h')\n"
     ]
    },
    {
     "name": "stdout",
     "output_type": "stream",
     "text": [
      "[*******               15%                       ]  75 of 500 completed"
     ]
    },
    {
     "name": "stderr",
     "output_type": "stream",
     "text": [
      "/lab/mydcxiao/anaconda3/envs/bias/lib/python3.12/site-packages/yfinance/utils.py:689: FutureWarning: The 'unit' keyword in TimedeltaIndex construction is deprecated and will be removed in a future version. Use pd.to_timedelta instead.\n",
      "  df.index += _pd.TimedeltaIndex(dst_error_hours, 'h')\n",
      "/lab/mydcxiao/anaconda3/envs/bias/lib/python3.12/site-packages/yfinance/utils.py:689: FutureWarning: The 'unit' keyword in TimedeltaIndex construction is deprecated and will be removed in a future version. Use pd.to_timedelta instead.\n",
      "  df.index += _pd.TimedeltaIndex(dst_error_hours, 'h')\n",
      "/lab/mydcxiao/anaconda3/envs/bias/lib/python3.12/site-packages/yfinance/utils.py:689: FutureWarning: The 'unit' keyword in TimedeltaIndex construction is deprecated and will be removed in a future version. Use pd.to_timedelta instead.\n",
      "  df.index += _pd.TimedeltaIndex(dst_error_hours, 'h')\n",
      "/lab/mydcxiao/anaconda3/envs/bias/lib/python3.12/site-packages/yfinance/utils.py:689: FutureWarning: The 'unit' keyword in TimedeltaIndex construction is deprecated and will be removed in a future version. Use pd.to_timedelta instead.\n",
      "  df.index += _pd.TimedeltaIndex(dst_error_hours, 'h')\n"
     ]
    },
    {
     "name": "stdout",
     "output_type": "stream",
     "text": [
      "[********              16%                       ]  78 of 500 completed"
     ]
    },
    {
     "name": "stderr",
     "output_type": "stream",
     "text": [
      "/lab/mydcxiao/anaconda3/envs/bias/lib/python3.12/site-packages/yfinance/utils.py:689: FutureWarning: The 'unit' keyword in TimedeltaIndex construction is deprecated and will be removed in a future version. Use pd.to_timedelta instead.\n",
      "  df.index += _pd.TimedeltaIndex(dst_error_hours, 'h')\n",
      "/lab/mydcxiao/anaconda3/envs/bias/lib/python3.12/site-packages/yfinance/utils.py:689: FutureWarning: The 'unit' keyword in TimedeltaIndex construction is deprecated and will be removed in a future version. Use pd.to_timedelta instead.\n",
      "  df.index += _pd.TimedeltaIndex(dst_error_hours, 'h')\n",
      "/lab/mydcxiao/anaconda3/envs/bias/lib/python3.12/site-packages/yfinance/utils.py:689: FutureWarning: The 'unit' keyword in TimedeltaIndex construction is deprecated and will be removed in a future version. Use pd.to_timedelta instead.\n",
      "  df.index += _pd.TimedeltaIndex(dst_error_hours, 'h')\n",
      "/lab/mydcxiao/anaconda3/envs/bias/lib/python3.12/site-packages/yfinance/utils.py:689: FutureWarning: The 'unit' keyword in TimedeltaIndex construction is deprecated and will be removed in a future version. Use pd.to_timedelta instead.\n",
      "  df.index += _pd.TimedeltaIndex(dst_error_hours, 'h')\n"
     ]
    },
    {
     "name": "stdout",
     "output_type": "stream",
     "text": [
      "[********              17%                       ]  85 of 500 completed"
     ]
    },
    {
     "name": "stderr",
     "output_type": "stream",
     "text": [
      "/lab/mydcxiao/anaconda3/envs/bias/lib/python3.12/site-packages/yfinance/utils.py:689: FutureWarning: The 'unit' keyword in TimedeltaIndex construction is deprecated and will be removed in a future version. Use pd.to_timedelta instead.\n",
      "  df.index += _pd.TimedeltaIndex(dst_error_hours, 'h')\n",
      "/lab/mydcxiao/anaconda3/envs/bias/lib/python3.12/site-packages/yfinance/utils.py:689: FutureWarning: The 'unit' keyword in TimedeltaIndex construction is deprecated and will be removed in a future version. Use pd.to_timedelta instead.\n",
      "  df.index += _pd.TimedeltaIndex(dst_error_hours, 'h')\n",
      "/lab/mydcxiao/anaconda3/envs/bias/lib/python3.12/site-packages/yfinance/utils.py:689: FutureWarning: The 'unit' keyword in TimedeltaIndex construction is deprecated and will be removed in a future version. Use pd.to_timedelta instead.\n",
      "  df.index += _pd.TimedeltaIndex(dst_error_hours, 'h')\n"
     ]
    },
    {
     "name": "stdout",
     "output_type": "stream",
     "text": [
      "[*********             18%                       ]  88 of 500 completed"
     ]
    },
    {
     "name": "stderr",
     "output_type": "stream",
     "text": [
      "/lab/mydcxiao/anaconda3/envs/bias/lib/python3.12/site-packages/yfinance/utils.py:689: FutureWarning: The 'unit' keyword in TimedeltaIndex construction is deprecated and will be removed in a future version. Use pd.to_timedelta instead.\n",
      "  df.index += _pd.TimedeltaIndex(dst_error_hours, 'h')\n",
      "/lab/mydcxiao/anaconda3/envs/bias/lib/python3.12/site-packages/yfinance/utils.py:689: FutureWarning: The 'unit' keyword in TimedeltaIndex construction is deprecated and will be removed in a future version. Use pd.to_timedelta instead.\n",
      "  df.index += _pd.TimedeltaIndex(dst_error_hours, 'h')\n",
      "/lab/mydcxiao/anaconda3/envs/bias/lib/python3.12/site-packages/yfinance/utils.py:689: FutureWarning: The 'unit' keyword in TimedeltaIndex construction is deprecated and will be removed in a future version. Use pd.to_timedelta instead.\n",
      "  df.index += _pd.TimedeltaIndex(dst_error_hours, 'h')\n",
      "/lab/mydcxiao/anaconda3/envs/bias/lib/python3.12/site-packages/yfinance/utils.py:689: FutureWarning: The 'unit' keyword in TimedeltaIndex construction is deprecated and will be removed in a future version. Use pd.to_timedelta instead.\n",
      "  df.index += _pd.TimedeltaIndex(dst_error_hours, 'h')\n"
     ]
    },
    {
     "name": "stdout",
     "output_type": "stream",
     "text": [
      "[*********             18%                       ]  91 of 500 completed"
     ]
    },
    {
     "name": "stderr",
     "output_type": "stream",
     "text": [
      "/lab/mydcxiao/anaconda3/envs/bias/lib/python3.12/site-packages/yfinance/utils.py:689: FutureWarning: The 'unit' keyword in TimedeltaIndex construction is deprecated and will be removed in a future version. Use pd.to_timedelta instead.\n",
      "  df.index += _pd.TimedeltaIndex(dst_error_hours, 'h')\n",
      "/lab/mydcxiao/anaconda3/envs/bias/lib/python3.12/site-packages/yfinance/utils.py:689: FutureWarning: The 'unit' keyword in TimedeltaIndex construction is deprecated and will be removed in a future version. Use pd.to_timedelta instead.\n",
      "  df.index += _pd.TimedeltaIndex(dst_error_hours, 'h')\n",
      "/lab/mydcxiao/anaconda3/envs/bias/lib/python3.12/site-packages/yfinance/utils.py:689: FutureWarning: The 'unit' keyword in TimedeltaIndex construction is deprecated and will be removed in a future version. Use pd.to_timedelta instead.\n",
      "  df.index += _pd.TimedeltaIndex(dst_error_hours, 'h')\n"
     ]
    },
    {
     "name": "stdout",
     "output_type": "stream",
     "text": [
      "[*********             19%                       ]  96 of 500 completed"
     ]
    },
    {
     "name": "stderr",
     "output_type": "stream",
     "text": [
      "/lab/mydcxiao/anaconda3/envs/bias/lib/python3.12/site-packages/yfinance/utils.py:689: FutureWarning: The 'unit' keyword in TimedeltaIndex construction is deprecated and will be removed in a future version. Use pd.to_timedelta instead.\n",
      "  df.index += _pd.TimedeltaIndex(dst_error_hours, 'h')\n",
      "/lab/mydcxiao/anaconda3/envs/bias/lib/python3.12/site-packages/yfinance/utils.py:689: FutureWarning: The 'unit' keyword in TimedeltaIndex construction is deprecated and will be removed in a future version. Use pd.to_timedelta instead.\n",
      "  df.index += _pd.TimedeltaIndex(dst_error_hours, 'h')\n",
      "/lab/mydcxiao/anaconda3/envs/bias/lib/python3.12/site-packages/yfinance/utils.py:689: FutureWarning: The 'unit' keyword in TimedeltaIndex construction is deprecated and will be removed in a future version. Use pd.to_timedelta instead.\n",
      "  df.index += _pd.TimedeltaIndex(dst_error_hours, 'h')\n",
      "/lab/mydcxiao/anaconda3/envs/bias/lib/python3.12/site-packages/yfinance/utils.py:689: FutureWarning: The 'unit' keyword in TimedeltaIndex construction is deprecated and will be removed in a future version. Use pd.to_timedelta instead.\n",
      "  df.index += _pd.TimedeltaIndex(dst_error_hours, 'h')\n"
     ]
    },
    {
     "name": "stdout",
     "output_type": "stream",
     "text": [
      "[**********            20%                       ]  100 of 500 completed"
     ]
    },
    {
     "name": "stderr",
     "output_type": "stream",
     "text": [
      "/lab/mydcxiao/anaconda3/envs/bias/lib/python3.12/site-packages/yfinance/utils.py:689: FutureWarning: The 'unit' keyword in TimedeltaIndex construction is deprecated and will be removed in a future version. Use pd.to_timedelta instead.\n",
      "  df.index += _pd.TimedeltaIndex(dst_error_hours, 'h')\n",
      "/lab/mydcxiao/anaconda3/envs/bias/lib/python3.12/site-packages/yfinance/utils.py:689: FutureWarning: The 'unit' keyword in TimedeltaIndex construction is deprecated and will be removed in a future version. Use pd.to_timedelta instead.\n",
      "  df.index += _pd.TimedeltaIndex(dst_error_hours, 'h')\n",
      "/lab/mydcxiao/anaconda3/envs/bias/lib/python3.12/site-packages/yfinance/utils.py:689: FutureWarning: The 'unit' keyword in TimedeltaIndex construction is deprecated and will be removed in a future version. Use pd.to_timedelta instead.\n",
      "  df.index += _pd.TimedeltaIndex(dst_error_hours, 'h')\n",
      "/lab/mydcxiao/anaconda3/envs/bias/lib/python3.12/site-packages/yfinance/utils.py:689: FutureWarning: The 'unit' keyword in TimedeltaIndex construction is deprecated and will be removed in a future version. Use pd.to_timedelta instead.\n",
      "  df.index += _pd.TimedeltaIndex(dst_error_hours, 'h')\n"
     ]
    },
    {
     "name": "stdout",
     "output_type": "stream",
     "text": [
      "[**********            21%                       ]  105 of 500 completed"
     ]
    },
    {
     "name": "stderr",
     "output_type": "stream",
     "text": [
      "/lab/mydcxiao/anaconda3/envs/bias/lib/python3.12/site-packages/yfinance/utils.py:689: FutureWarning: The 'unit' keyword in TimedeltaIndex construction is deprecated and will be removed in a future version. Use pd.to_timedelta instead.\n",
      "  df.index += _pd.TimedeltaIndex(dst_error_hours, 'h')\n",
      "/lab/mydcxiao/anaconda3/envs/bias/lib/python3.12/site-packages/yfinance/utils.py:689: FutureWarning: The 'unit' keyword in TimedeltaIndex construction is deprecated and will be removed in a future version. Use pd.to_timedelta instead.\n",
      "  df.index += _pd.TimedeltaIndex(dst_error_hours, 'h')\n",
      "/lab/mydcxiao/anaconda3/envs/bias/lib/python3.12/site-packages/yfinance/utils.py:689: FutureWarning: The 'unit' keyword in TimedeltaIndex construction is deprecated and will be removed in a future version. Use pd.to_timedelta instead.\n",
      "  df.index += _pd.TimedeltaIndex(dst_error_hours, 'h')\n",
      "/lab/mydcxiao/anaconda3/envs/bias/lib/python3.12/site-packages/yfinance/utils.py:689: FutureWarning: The 'unit' keyword in TimedeltaIndex construction is deprecated and will be removed in a future version. Use pd.to_timedelta instead.\n",
      "  df.index += _pd.TimedeltaIndex(dst_error_hours, 'h')\n"
     ]
    },
    {
     "name": "stdout",
     "output_type": "stream",
     "text": [
      "[***********           22%                       ]  109 of 500 completed"
     ]
    },
    {
     "name": "stderr",
     "output_type": "stream",
     "text": [
      "/lab/mydcxiao/anaconda3/envs/bias/lib/python3.12/site-packages/yfinance/utils.py:689: FutureWarning: The 'unit' keyword in TimedeltaIndex construction is deprecated and will be removed in a future version. Use pd.to_timedelta instead.\n",
      "  df.index += _pd.TimedeltaIndex(dst_error_hours, 'h')\n",
      "/lab/mydcxiao/anaconda3/envs/bias/lib/python3.12/site-packages/yfinance/utils.py:689: FutureWarning: The 'unit' keyword in TimedeltaIndex construction is deprecated and will be removed in a future version. Use pd.to_timedelta instead.\n",
      "  df.index += _pd.TimedeltaIndex(dst_error_hours, 'h')\n",
      "/lab/mydcxiao/anaconda3/envs/bias/lib/python3.12/site-packages/yfinance/utils.py:689: FutureWarning: The 'unit' keyword in TimedeltaIndex construction is deprecated and will be removed in a future version. Use pd.to_timedelta instead.\n",
      "  df.index += _pd.TimedeltaIndex(dst_error_hours, 'h')\n"
     ]
    },
    {
     "name": "stdout",
     "output_type": "stream",
     "text": [
      "[***********           23%                       ]  113 of 500 completed"
     ]
    },
    {
     "name": "stderr",
     "output_type": "stream",
     "text": [
      "/lab/mydcxiao/anaconda3/envs/bias/lib/python3.12/site-packages/yfinance/utils.py:689: FutureWarning: The 'unit' keyword in TimedeltaIndex construction is deprecated and will be removed in a future version. Use pd.to_timedelta instead.\n",
      "  df.index += _pd.TimedeltaIndex(dst_error_hours, 'h')\n",
      "/lab/mydcxiao/anaconda3/envs/bias/lib/python3.12/site-packages/yfinance/utils.py:689: FutureWarning: The 'unit' keyword in TimedeltaIndex construction is deprecated and will be removed in a future version. Use pd.to_timedelta instead.\n",
      "  df.index += _pd.TimedeltaIndex(dst_error_hours, 'h')\n",
      "/lab/mydcxiao/anaconda3/envs/bias/lib/python3.12/site-packages/yfinance/utils.py:689: FutureWarning: The 'unit' keyword in TimedeltaIndex construction is deprecated and will be removed in a future version. Use pd.to_timedelta instead.\n",
      "  df.index += _pd.TimedeltaIndex(dst_error_hours, 'h')\n",
      "/lab/mydcxiao/anaconda3/envs/bias/lib/python3.12/site-packages/yfinance/utils.py:689: FutureWarning: The 'unit' keyword in TimedeltaIndex construction is deprecated and will be removed in a future version. Use pd.to_timedelta instead.\n",
      "  df.index += _pd.TimedeltaIndex(dst_error_hours, 'h')\n",
      "/lab/mydcxiao/anaconda3/envs/bias/lib/python3.12/site-packages/yfinance/utils.py:689: FutureWarning: The 'unit' keyword in TimedeltaIndex construction is deprecated and will be removed in a future version. Use pd.to_timedelta instead.\n",
      "  df.index += _pd.TimedeltaIndex(dst_error_hours, 'h')\n"
     ]
    },
    {
     "name": "stdout",
     "output_type": "stream",
     "text": [
      "[***********           23%                       ]  117 of 500 completed"
     ]
    },
    {
     "name": "stderr",
     "output_type": "stream",
     "text": [
      "/lab/mydcxiao/anaconda3/envs/bias/lib/python3.12/site-packages/yfinance/utils.py:689: FutureWarning: The 'unit' keyword in TimedeltaIndex construction is deprecated and will be removed in a future version. Use pd.to_timedelta instead.\n",
      "  df.index += _pd.TimedeltaIndex(dst_error_hours, 'h')\n",
      "/lab/mydcxiao/anaconda3/envs/bias/lib/python3.12/site-packages/yfinance/utils.py:689: FutureWarning: The 'unit' keyword in TimedeltaIndex construction is deprecated and will be removed in a future version. Use pd.to_timedelta instead.\n",
      "  df.index += _pd.TimedeltaIndex(dst_error_hours, 'h')\n",
      "/lab/mydcxiao/anaconda3/envs/bias/lib/python3.12/site-packages/yfinance/utils.py:689: FutureWarning: The 'unit' keyword in TimedeltaIndex construction is deprecated and will be removed in a future version. Use pd.to_timedelta instead.\n",
      "  df.index += _pd.TimedeltaIndex(dst_error_hours, 'h')\n"
     ]
    },
    {
     "name": "stdout",
     "output_type": "stream",
     "text": [
      "[************          24%                       ]  118 of 500 completed"
     ]
    },
    {
     "name": "stderr",
     "output_type": "stream",
     "text": [
      "/lab/mydcxiao/anaconda3/envs/bias/lib/python3.12/site-packages/yfinance/utils.py:689: FutureWarning: The 'unit' keyword in TimedeltaIndex construction is deprecated and will be removed in a future version. Use pd.to_timedelta instead.\n",
      "  df.index += _pd.TimedeltaIndex(dst_error_hours, 'h')\n",
      "/lab/mydcxiao/anaconda3/envs/bias/lib/python3.12/site-packages/yfinance/utils.py:689: FutureWarning: The 'unit' keyword in TimedeltaIndex construction is deprecated and will be removed in a future version. Use pd.to_timedelta instead.\n",
      "  df.index += _pd.TimedeltaIndex(dst_error_hours, 'h')\n",
      "/lab/mydcxiao/anaconda3/envs/bias/lib/python3.12/site-packages/yfinance/utils.py:689: FutureWarning: The 'unit' keyword in TimedeltaIndex construction is deprecated and will be removed in a future version. Use pd.to_timedelta instead.\n",
      "  df.index += _pd.TimedeltaIndex(dst_error_hours, 'h')\n",
      "/lab/mydcxiao/anaconda3/envs/bias/lib/python3.12/site-packages/yfinance/utils.py:689: FutureWarning: The 'unit' keyword in TimedeltaIndex construction is deprecated and will be removed in a future version. Use pd.to_timedelta instead.\n",
      "  df.index += _pd.TimedeltaIndex(dst_error_hours, 'h')\n",
      "/lab/mydcxiao/anaconda3/envs/bias/lib/python3.12/site-packages/yfinance/utils.py:689: FutureWarning: The 'unit' keyword in TimedeltaIndex construction is deprecated and will be removed in a future version. Use pd.to_timedelta instead.\n",
      "  df.index += _pd.TimedeltaIndex(dst_error_hours, 'h')\n"
     ]
    },
    {
     "name": "stdout",
     "output_type": "stream",
     "text": [
      "[************          25%                       ]  124 of 500 completed"
     ]
    },
    {
     "name": "stderr",
     "output_type": "stream",
     "text": [
      "/lab/mydcxiao/anaconda3/envs/bias/lib/python3.12/site-packages/yfinance/utils.py:689: FutureWarning: The 'unit' keyword in TimedeltaIndex construction is deprecated and will be removed in a future version. Use pd.to_timedelta instead.\n",
      "  df.index += _pd.TimedeltaIndex(dst_error_hours, 'h')\n",
      "/lab/mydcxiao/anaconda3/envs/bias/lib/python3.12/site-packages/yfinance/utils.py:689: FutureWarning: The 'unit' keyword in TimedeltaIndex construction is deprecated and will be removed in a future version. Use pd.to_timedelta instead.\n",
      "  df.index += _pd.TimedeltaIndex(dst_error_hours, 'h')\n",
      "/lab/mydcxiao/anaconda3/envs/bias/lib/python3.12/site-packages/yfinance/utils.py:689: FutureWarning: The 'unit' keyword in TimedeltaIndex construction is deprecated and will be removed in a future version. Use pd.to_timedelta instead.\n",
      "  df.index += _pd.TimedeltaIndex(dst_error_hours, 'h')\n"
     ]
    },
    {
     "name": "stdout",
     "output_type": "stream",
     "text": [
      "[************          25%                       ]  127 of 500 completed"
     ]
    },
    {
     "name": "stderr",
     "output_type": "stream",
     "text": [
      "/lab/mydcxiao/anaconda3/envs/bias/lib/python3.12/site-packages/yfinance/utils.py:689: FutureWarning: The 'unit' keyword in TimedeltaIndex construction is deprecated and will be removed in a future version. Use pd.to_timedelta instead.\n",
      "  df.index += _pd.TimedeltaIndex(dst_error_hours, 'h')\n",
      "/lab/mydcxiao/anaconda3/envs/bias/lib/python3.12/site-packages/yfinance/utils.py:689: FutureWarning: The 'unit' keyword in TimedeltaIndex construction is deprecated and will be removed in a future version. Use pd.to_timedelta instead.\n",
      "  df.index += _pd.TimedeltaIndex(dst_error_hours, 'h')\n",
      "/lab/mydcxiao/anaconda3/envs/bias/lib/python3.12/site-packages/yfinance/utils.py:689: FutureWarning: The 'unit' keyword in TimedeltaIndex construction is deprecated and will be removed in a future version. Use pd.to_timedelta instead.\n",
      "  df.index += _pd.TimedeltaIndex(dst_error_hours, 'h')\n",
      "/lab/mydcxiao/anaconda3/envs/bias/lib/python3.12/site-packages/yfinance/utils.py:689: FutureWarning: The 'unit' keyword in TimedeltaIndex construction is deprecated and will be removed in a future version. Use pd.to_timedelta instead.\n",
      "  df.index += _pd.TimedeltaIndex(dst_error_hours, 'h')\n"
     ]
    },
    {
     "name": "stdout",
     "output_type": "stream",
     "text": [
      "[************          26%                       ]  132 of 500 completed"
     ]
    },
    {
     "name": "stderr",
     "output_type": "stream",
     "text": [
      "/lab/mydcxiao/anaconda3/envs/bias/lib/python3.12/site-packages/yfinance/utils.py:689: FutureWarning: The 'unit' keyword in TimedeltaIndex construction is deprecated and will be removed in a future version. Use pd.to_timedelta instead.\n",
      "  df.index += _pd.TimedeltaIndex(dst_error_hours, 'h')\n",
      "/lab/mydcxiao/anaconda3/envs/bias/lib/python3.12/site-packages/yfinance/utils.py:689: FutureWarning: The 'unit' keyword in TimedeltaIndex construction is deprecated and will be removed in a future version. Use pd.to_timedelta instead.\n",
      "  df.index += _pd.TimedeltaIndex(dst_error_hours, 'h')\n",
      "/lab/mydcxiao/anaconda3/envs/bias/lib/python3.12/site-packages/yfinance/utils.py:689: FutureWarning: The 'unit' keyword in TimedeltaIndex construction is deprecated and will be removed in a future version. Use pd.to_timedelta instead.\n",
      "  df.index += _pd.TimedeltaIndex(dst_error_hours, 'h')\n",
      "/lab/mydcxiao/anaconda3/envs/bias/lib/python3.12/site-packages/yfinance/utils.py:689: FutureWarning: The 'unit' keyword in TimedeltaIndex construction is deprecated and will be removed in a future version. Use pd.to_timedelta instead.\n",
      "  df.index += _pd.TimedeltaIndex(dst_error_hours, 'h')\n"
     ]
    },
    {
     "name": "stdout",
     "output_type": "stream",
     "text": [
      "[*************         27%                       ]  135 of 500 completed"
     ]
    },
    {
     "name": "stderr",
     "output_type": "stream",
     "text": [
      "/lab/mydcxiao/anaconda3/envs/bias/lib/python3.12/site-packages/yfinance/utils.py:689: FutureWarning: The 'unit' keyword in TimedeltaIndex construction is deprecated and will be removed in a future version. Use pd.to_timedelta instead.\n",
      "  df.index += _pd.TimedeltaIndex(dst_error_hours, 'h')\n",
      "/lab/mydcxiao/anaconda3/envs/bias/lib/python3.12/site-packages/yfinance/utils.py:689: FutureWarning: The 'unit' keyword in TimedeltaIndex construction is deprecated and will be removed in a future version. Use pd.to_timedelta instead.\n",
      "  df.index += _pd.TimedeltaIndex(dst_error_hours, 'h')\n"
     ]
    },
    {
     "name": "stdout",
     "output_type": "stream",
     "text": [
      "[*************         27%                       ]  136 of 500 completed"
     ]
    },
    {
     "name": "stderr",
     "output_type": "stream",
     "text": [
      "/lab/mydcxiao/anaconda3/envs/bias/lib/python3.12/site-packages/yfinance/utils.py:689: FutureWarning: The 'unit' keyword in TimedeltaIndex construction is deprecated and will be removed in a future version. Use pd.to_timedelta instead.\n",
      "  df.index += _pd.TimedeltaIndex(dst_error_hours, 'h')\n",
      "/lab/mydcxiao/anaconda3/envs/bias/lib/python3.12/site-packages/yfinance/utils.py:689: FutureWarning: The 'unit' keyword in TimedeltaIndex construction is deprecated and will be removed in a future version. Use pd.to_timedelta instead.\n",
      "  df.index += _pd.TimedeltaIndex(dst_error_hours, 'h')\n",
      "/lab/mydcxiao/anaconda3/envs/bias/lib/python3.12/site-packages/yfinance/utils.py:689: FutureWarning: The 'unit' keyword in TimedeltaIndex construction is deprecated and will be removed in a future version. Use pd.to_timedelta instead.\n",
      "  df.index += _pd.TimedeltaIndex(dst_error_hours, 'h')\n",
      "/lab/mydcxiao/anaconda3/envs/bias/lib/python3.12/site-packages/yfinance/utils.py:689: FutureWarning: The 'unit' keyword in TimedeltaIndex construction is deprecated and will be removed in a future version. Use pd.to_timedelta instead.\n",
      "  df.index += _pd.TimedeltaIndex(dst_error_hours, 'h')\n",
      "/lab/mydcxiao/anaconda3/envs/bias/lib/python3.12/site-packages/yfinance/utils.py:689: FutureWarning: The 'unit' keyword in TimedeltaIndex construction is deprecated and will be removed in a future version. Use pd.to_timedelta instead.\n",
      "  df.index += _pd.TimedeltaIndex(dst_error_hours, 'h')\n",
      "/lab/mydcxiao/anaconda3/envs/bias/lib/python3.12/site-packages/yfinance/utils.py:689: FutureWarning: The 'unit' keyword in TimedeltaIndex construction is deprecated and will be removed in a future version. Use pd.to_timedelta instead.\n",
      "  df.index += _pd.TimedeltaIndex(dst_error_hours, 'h')\n",
      "/lab/mydcxiao/anaconda3/envs/bias/lib/python3.12/site-packages/yfinance/utils.py:689: FutureWarning: The 'unit' keyword in TimedeltaIndex construction is deprecated and will be removed in a future version. Use pd.to_timedelta instead.\n",
      "  df.index += _pd.TimedeltaIndex(dst_error_hours, 'h')\n"
     ]
    },
    {
     "name": "stdout",
     "output_type": "stream",
     "text": [
      "[**************        29%                       ]  145 of 500 completed"
     ]
    },
    {
     "name": "stderr",
     "output_type": "stream",
     "text": [
      "/lab/mydcxiao/anaconda3/envs/bias/lib/python3.12/site-packages/yfinance/utils.py:689: FutureWarning: The 'unit' keyword in TimedeltaIndex construction is deprecated and will be removed in a future version. Use pd.to_timedelta instead.\n",
      "  df.index += _pd.TimedeltaIndex(dst_error_hours, 'h')\n",
      "/lab/mydcxiao/anaconda3/envs/bias/lib/python3.12/site-packages/yfinance/utils.py:689: FutureWarning: The 'unit' keyword in TimedeltaIndex construction is deprecated and will be removed in a future version. Use pd.to_timedelta instead.\n",
      "  df.index += _pd.TimedeltaIndex(dst_error_hours, 'h')\n",
      "/lab/mydcxiao/anaconda3/envs/bias/lib/python3.12/site-packages/yfinance/utils.py:689: FutureWarning: The 'unit' keyword in TimedeltaIndex construction is deprecated and will be removed in a future version. Use pd.to_timedelta instead.\n",
      "  df.index += _pd.TimedeltaIndex(dst_error_hours, 'h')\n",
      "/lab/mydcxiao/anaconda3/envs/bias/lib/python3.12/site-packages/yfinance/utils.py:689: FutureWarning: The 'unit' keyword in TimedeltaIndex construction is deprecated and will be removed in a future version. Use pd.to_timedelta instead.\n",
      "  df.index += _pd.TimedeltaIndex(dst_error_hours, 'h')\n"
     ]
    },
    {
     "name": "stdout",
     "output_type": "stream",
     "text": [
      "[**************        29%                       ]  147 of 500 completed"
     ]
    },
    {
     "name": "stderr",
     "output_type": "stream",
     "text": [
      "/lab/mydcxiao/anaconda3/envs/bias/lib/python3.12/site-packages/yfinance/utils.py:689: FutureWarning: The 'unit' keyword in TimedeltaIndex construction is deprecated and will be removed in a future version. Use pd.to_timedelta instead.\n",
      "  df.index += _pd.TimedeltaIndex(dst_error_hours, 'h')\n",
      "/lab/mydcxiao/anaconda3/envs/bias/lib/python3.12/site-packages/yfinance/utils.py:689: FutureWarning: The 'unit' keyword in TimedeltaIndex construction is deprecated and will be removed in a future version. Use pd.to_timedelta instead.\n",
      "  df.index += _pd.TimedeltaIndex(dst_error_hours, 'h')\n",
      "/lab/mydcxiao/anaconda3/envs/bias/lib/python3.12/site-packages/yfinance/utils.py:689: FutureWarning: The 'unit' keyword in TimedeltaIndex construction is deprecated and will be removed in a future version. Use pd.to_timedelta instead.\n",
      "  df.index += _pd.TimedeltaIndex(dst_error_hours, 'h')\n",
      "/lab/mydcxiao/anaconda3/envs/bias/lib/python3.12/site-packages/yfinance/utils.py:689: FutureWarning: The 'unit' keyword in TimedeltaIndex construction is deprecated and will be removed in a future version. Use pd.to_timedelta instead.\n",
      "  df.index += _pd.TimedeltaIndex(dst_error_hours, 'h')\n"
     ]
    },
    {
     "name": "stdout",
     "output_type": "stream",
     "text": [
      "[**************        30%                       ]  151 of 500 completed"
     ]
    },
    {
     "name": "stderr",
     "output_type": "stream",
     "text": [
      "/lab/mydcxiao/anaconda3/envs/bias/lib/python3.12/site-packages/yfinance/utils.py:689: FutureWarning: The 'unit' keyword in TimedeltaIndex construction is deprecated and will be removed in a future version. Use pd.to_timedelta instead.\n",
      "  df.index += _pd.TimedeltaIndex(dst_error_hours, 'h')\n",
      "/lab/mydcxiao/anaconda3/envs/bias/lib/python3.12/site-packages/yfinance/utils.py:689: FutureWarning: The 'unit' keyword in TimedeltaIndex construction is deprecated and will be removed in a future version. Use pd.to_timedelta instead.\n",
      "  df.index += _pd.TimedeltaIndex(dst_error_hours, 'h')\n",
      "/lab/mydcxiao/anaconda3/envs/bias/lib/python3.12/site-packages/yfinance/utils.py:689: FutureWarning: The 'unit' keyword in TimedeltaIndex construction is deprecated and will be removed in a future version. Use pd.to_timedelta instead.\n",
      "  df.index += _pd.TimedeltaIndex(dst_error_hours, 'h')\n",
      "/lab/mydcxiao/anaconda3/envs/bias/lib/python3.12/site-packages/yfinance/utils.py:689: FutureWarning: The 'unit' keyword in TimedeltaIndex construction is deprecated and will be removed in a future version. Use pd.to_timedelta instead.\n",
      "  df.index += _pd.TimedeltaIndex(dst_error_hours, 'h')\n",
      "/lab/mydcxiao/anaconda3/envs/bias/lib/python3.12/site-packages/yfinance/utils.py:689: FutureWarning: The 'unit' keyword in TimedeltaIndex construction is deprecated and will be removed in a future version. Use pd.to_timedelta instead.\n",
      "  df.index += _pd.TimedeltaIndex(dst_error_hours, 'h')\n"
     ]
    },
    {
     "name": "stdout",
     "output_type": "stream",
     "text": [
      "[***************       32%                       ]  158 of 500 completed"
     ]
    },
    {
     "name": "stderr",
     "output_type": "stream",
     "text": [
      "/lab/mydcxiao/anaconda3/envs/bias/lib/python3.12/site-packages/yfinance/utils.py:689: FutureWarning: The 'unit' keyword in TimedeltaIndex construction is deprecated and will be removed in a future version. Use pd.to_timedelta instead.\n",
      "  df.index += _pd.TimedeltaIndex(dst_error_hours, 'h')\n",
      "/lab/mydcxiao/anaconda3/envs/bias/lib/python3.12/site-packages/yfinance/utils.py:689: FutureWarning: The 'unit' keyword in TimedeltaIndex construction is deprecated and will be removed in a future version. Use pd.to_timedelta instead.\n",
      "  df.index += _pd.TimedeltaIndex(dst_error_hours, 'h')\n",
      "/lab/mydcxiao/anaconda3/envs/bias/lib/python3.12/site-packages/yfinance/utils.py:689: FutureWarning: The 'unit' keyword in TimedeltaIndex construction is deprecated and will be removed in a future version. Use pd.to_timedelta instead.\n",
      "  df.index += _pd.TimedeltaIndex(dst_error_hours, 'h')\n",
      "/lab/mydcxiao/anaconda3/envs/bias/lib/python3.12/site-packages/yfinance/utils.py:689: FutureWarning: The 'unit' keyword in TimedeltaIndex construction is deprecated and will be removed in a future version. Use pd.to_timedelta instead.\n",
      "  df.index += _pd.TimedeltaIndex(dst_error_hours, 'h')\n"
     ]
    },
    {
     "name": "stdout",
     "output_type": "stream",
     "text": [
      "[***************       32%                       ]  161 of 500 completed"
     ]
    },
    {
     "name": "stderr",
     "output_type": "stream",
     "text": [
      "/lab/mydcxiao/anaconda3/envs/bias/lib/python3.12/site-packages/yfinance/utils.py:689: FutureWarning: The 'unit' keyword in TimedeltaIndex construction is deprecated and will be removed in a future version. Use pd.to_timedelta instead.\n",
      "  df.index += _pd.TimedeltaIndex(dst_error_hours, 'h')\n",
      "/lab/mydcxiao/anaconda3/envs/bias/lib/python3.12/site-packages/yfinance/utils.py:689: FutureWarning: The 'unit' keyword in TimedeltaIndex construction is deprecated and will be removed in a future version. Use pd.to_timedelta instead.\n",
      "  df.index += _pd.TimedeltaIndex(dst_error_hours, 'h')\n",
      "/lab/mydcxiao/anaconda3/envs/bias/lib/python3.12/site-packages/yfinance/utils.py:689: FutureWarning: The 'unit' keyword in TimedeltaIndex construction is deprecated and will be removed in a future version. Use pd.to_timedelta instead.\n",
      "  df.index += _pd.TimedeltaIndex(dst_error_hours, 'h')\n",
      "/lab/mydcxiao/anaconda3/envs/bias/lib/python3.12/site-packages/yfinance/utils.py:689: FutureWarning: The 'unit' keyword in TimedeltaIndex construction is deprecated and will be removed in a future version. Use pd.to_timedelta instead.\n",
      "  df.index += _pd.TimedeltaIndex(dst_error_hours, 'h')\n"
     ]
    },
    {
     "name": "stdout",
     "output_type": "stream",
     "text": [
      "[****************      33%                       ]  163 of 500 completed"
     ]
    },
    {
     "name": "stderr",
     "output_type": "stream",
     "text": [
      "/lab/mydcxiao/anaconda3/envs/bias/lib/python3.12/site-packages/yfinance/utils.py:689: FutureWarning: The 'unit' keyword in TimedeltaIndex construction is deprecated and will be removed in a future version. Use pd.to_timedelta instead.\n",
      "  df.index += _pd.TimedeltaIndex(dst_error_hours, 'h')\n",
      "/lab/mydcxiao/anaconda3/envs/bias/lib/python3.12/site-packages/yfinance/utils.py:689: FutureWarning: The 'unit' keyword in TimedeltaIndex construction is deprecated and will be removed in a future version. Use pd.to_timedelta instead.\n",
      "  df.index += _pd.TimedeltaIndex(dst_error_hours, 'h')\n",
      "/lab/mydcxiao/anaconda3/envs/bias/lib/python3.12/site-packages/yfinance/utils.py:689: FutureWarning: The 'unit' keyword in TimedeltaIndex construction is deprecated and will be removed in a future version. Use pd.to_timedelta instead.\n",
      "  df.index += _pd.TimedeltaIndex(dst_error_hours, 'h')\n"
     ]
    },
    {
     "name": "stdout",
     "output_type": "stream",
     "text": [
      "[****************      33%                       ]  167 of 500 completed"
     ]
    },
    {
     "name": "stderr",
     "output_type": "stream",
     "text": [
      "/lab/mydcxiao/anaconda3/envs/bias/lib/python3.12/site-packages/yfinance/utils.py:689: FutureWarning: The 'unit' keyword in TimedeltaIndex construction is deprecated and will be removed in a future version. Use pd.to_timedelta instead.\n",
      "  df.index += _pd.TimedeltaIndex(dst_error_hours, 'h')\n",
      "/lab/mydcxiao/anaconda3/envs/bias/lib/python3.12/site-packages/yfinance/utils.py:689: FutureWarning: The 'unit' keyword in TimedeltaIndex construction is deprecated and will be removed in a future version. Use pd.to_timedelta instead.\n",
      "  df.index += _pd.TimedeltaIndex(dst_error_hours, 'h')\n"
     ]
    },
    {
     "name": "stdout",
     "output_type": "stream",
     "text": [
      "[****************      34%                       ]  170 of 500 completed"
     ]
    },
    {
     "name": "stderr",
     "output_type": "stream",
     "text": [
      "/lab/mydcxiao/anaconda3/envs/bias/lib/python3.12/site-packages/yfinance/utils.py:689: FutureWarning: The 'unit' keyword in TimedeltaIndex construction is deprecated and will be removed in a future version. Use pd.to_timedelta instead.\n",
      "  df.index += _pd.TimedeltaIndex(dst_error_hours, 'h')\n",
      "/lab/mydcxiao/anaconda3/envs/bias/lib/python3.12/site-packages/yfinance/utils.py:689: FutureWarning: The 'unit' keyword in TimedeltaIndex construction is deprecated and will be removed in a future version. Use pd.to_timedelta instead.\n",
      "  df.index += _pd.TimedeltaIndex(dst_error_hours, 'h')\n",
      "/lab/mydcxiao/anaconda3/envs/bias/lib/python3.12/site-packages/yfinance/utils.py:689: FutureWarning: The 'unit' keyword in TimedeltaIndex construction is deprecated and will be removed in a future version. Use pd.to_timedelta instead.\n",
      "  df.index += _pd.TimedeltaIndex(dst_error_hours, 'h')\n",
      "/lab/mydcxiao/anaconda3/envs/bias/lib/python3.12/site-packages/yfinance/utils.py:689: FutureWarning: The 'unit' keyword in TimedeltaIndex construction is deprecated and will be removed in a future version. Use pd.to_timedelta instead.\n",
      "  df.index += _pd.TimedeltaIndex(dst_error_hours, 'h')\n"
     ]
    },
    {
     "name": "stdout",
     "output_type": "stream",
     "text": [
      "[*****************     35%                       ]  174 of 500 completed"
     ]
    },
    {
     "name": "stderr",
     "output_type": "stream",
     "text": [
      "/lab/mydcxiao/anaconda3/envs/bias/lib/python3.12/site-packages/yfinance/utils.py:689: FutureWarning: The 'unit' keyword in TimedeltaIndex construction is deprecated and will be removed in a future version. Use pd.to_timedelta instead.\n",
      "  df.index += _pd.TimedeltaIndex(dst_error_hours, 'h')\n",
      "/lab/mydcxiao/anaconda3/envs/bias/lib/python3.12/site-packages/yfinance/utils.py:689: FutureWarning: The 'unit' keyword in TimedeltaIndex construction is deprecated and will be removed in a future version. Use pd.to_timedelta instead.\n",
      "  df.index += _pd.TimedeltaIndex(dst_error_hours, 'h')\n",
      "/lab/mydcxiao/anaconda3/envs/bias/lib/python3.12/site-packages/yfinance/utils.py:689: FutureWarning: The 'unit' keyword in TimedeltaIndex construction is deprecated and will be removed in a future version. Use pd.to_timedelta instead.\n",
      "  df.index += _pd.TimedeltaIndex(dst_error_hours, 'h')\n",
      "/lab/mydcxiao/anaconda3/envs/bias/lib/python3.12/site-packages/yfinance/utils.py:689: FutureWarning: The 'unit' keyword in TimedeltaIndex construction is deprecated and will be removed in a future version. Use pd.to_timedelta instead.\n",
      "  df.index += _pd.TimedeltaIndex(dst_error_hours, 'h')\n",
      "/lab/mydcxiao/anaconda3/envs/bias/lib/python3.12/site-packages/yfinance/utils.py:689: FutureWarning: The 'unit' keyword in TimedeltaIndex construction is deprecated and will be removed in a future version. Use pd.to_timedelta instead.\n",
      "  df.index += _pd.TimedeltaIndex(dst_error_hours, 'h')\n"
     ]
    },
    {
     "name": "stdout",
     "output_type": "stream",
     "text": [
      "[*****************     36%                       ]  179 of 500 completed"
     ]
    },
    {
     "name": "stderr",
     "output_type": "stream",
     "text": [
      "/lab/mydcxiao/anaconda3/envs/bias/lib/python3.12/site-packages/yfinance/utils.py:689: FutureWarning: The 'unit' keyword in TimedeltaIndex construction is deprecated and will be removed in a future version. Use pd.to_timedelta instead.\n",
      "  df.index += _pd.TimedeltaIndex(dst_error_hours, 'h')\n",
      "/lab/mydcxiao/anaconda3/envs/bias/lib/python3.12/site-packages/yfinance/utils.py:689: FutureWarning: The 'unit' keyword in TimedeltaIndex construction is deprecated and will be removed in a future version. Use pd.to_timedelta instead.\n",
      "  df.index += _pd.TimedeltaIndex(dst_error_hours, 'h')\n",
      "/lab/mydcxiao/anaconda3/envs/bias/lib/python3.12/site-packages/yfinance/utils.py:689: FutureWarning: The 'unit' keyword in TimedeltaIndex construction is deprecated and will be removed in a future version. Use pd.to_timedelta instead.\n",
      "  df.index += _pd.TimedeltaIndex(dst_error_hours, 'h')\n"
     ]
    },
    {
     "name": "stdout",
     "output_type": "stream",
     "text": [
      "[*****************     36%                       ]  181 of 500 completed"
     ]
    },
    {
     "name": "stderr",
     "output_type": "stream",
     "text": [
      "/lab/mydcxiao/anaconda3/envs/bias/lib/python3.12/site-packages/yfinance/utils.py:689: FutureWarning: The 'unit' keyword in TimedeltaIndex construction is deprecated and will be removed in a future version. Use pd.to_timedelta instead.\n",
      "  df.index += _pd.TimedeltaIndex(dst_error_hours, 'h')\n",
      "/lab/mydcxiao/anaconda3/envs/bias/lib/python3.12/site-packages/yfinance/utils.py:689: FutureWarning: The 'unit' keyword in TimedeltaIndex construction is deprecated and will be removed in a future version. Use pd.to_timedelta instead.\n",
      "  df.index += _pd.TimedeltaIndex(dst_error_hours, 'h')\n",
      "/lab/mydcxiao/anaconda3/envs/bias/lib/python3.12/site-packages/yfinance/utils.py:689: FutureWarning: The 'unit' keyword in TimedeltaIndex construction is deprecated and will be removed in a future version. Use pd.to_timedelta instead.\n",
      "  df.index += _pd.TimedeltaIndex(dst_error_hours, 'h')\n",
      "/lab/mydcxiao/anaconda3/envs/bias/lib/python3.12/site-packages/yfinance/utils.py:689: FutureWarning: The 'unit' keyword in TimedeltaIndex construction is deprecated and will be removed in a future version. Use pd.to_timedelta instead.\n",
      "  df.index += _pd.TimedeltaIndex(dst_error_hours, 'h')\n"
     ]
    },
    {
     "name": "stdout",
     "output_type": "stream",
     "text": [
      "[******************    37%                       ]  185 of 500 completed"
     ]
    },
    {
     "name": "stderr",
     "output_type": "stream",
     "text": [
      "/lab/mydcxiao/anaconda3/envs/bias/lib/python3.12/site-packages/yfinance/utils.py:689: FutureWarning: The 'unit' keyword in TimedeltaIndex construction is deprecated and will be removed in a future version. Use pd.to_timedelta instead.\n",
      "  df.index += _pd.TimedeltaIndex(dst_error_hours, 'h')\n",
      "/lab/mydcxiao/anaconda3/envs/bias/lib/python3.12/site-packages/yfinance/utils.py:689: FutureWarning: The 'unit' keyword in TimedeltaIndex construction is deprecated and will be removed in a future version. Use pd.to_timedelta instead.\n",
      "  df.index += _pd.TimedeltaIndex(dst_error_hours, 'h')\n",
      "/lab/mydcxiao/anaconda3/envs/bias/lib/python3.12/site-packages/yfinance/utils.py:689: FutureWarning: The 'unit' keyword in TimedeltaIndex construction is deprecated and will be removed in a future version. Use pd.to_timedelta instead.\n",
      "  df.index += _pd.TimedeltaIndex(dst_error_hours, 'h')\n"
     ]
    },
    {
     "name": "stdout",
     "output_type": "stream",
     "text": [
      "[******************    38%                       ]  188 of 500 completed"
     ]
    },
    {
     "name": "stderr",
     "output_type": "stream",
     "text": [
      "/lab/mydcxiao/anaconda3/envs/bias/lib/python3.12/site-packages/yfinance/utils.py:689: FutureWarning: The 'unit' keyword in TimedeltaIndex construction is deprecated and will be removed in a future version. Use pd.to_timedelta instead.\n",
      "  df.index += _pd.TimedeltaIndex(dst_error_hours, 'h')\n",
      "/lab/mydcxiao/anaconda3/envs/bias/lib/python3.12/site-packages/yfinance/utils.py:689: FutureWarning: The 'unit' keyword in TimedeltaIndex construction is deprecated and will be removed in a future version. Use pd.to_timedelta instead.\n",
      "  df.index += _pd.TimedeltaIndex(dst_error_hours, 'h')\n",
      "/lab/mydcxiao/anaconda3/envs/bias/lib/python3.12/site-packages/yfinance/utils.py:689: FutureWarning: The 'unit' keyword in TimedeltaIndex construction is deprecated and will be removed in a future version. Use pd.to_timedelta instead.\n",
      "  df.index += _pd.TimedeltaIndex(dst_error_hours, 'h')\n",
      "/lab/mydcxiao/anaconda3/envs/bias/lib/python3.12/site-packages/yfinance/utils.py:689: FutureWarning: The 'unit' keyword in TimedeltaIndex construction is deprecated and will be removed in a future version. Use pd.to_timedelta instead.\n",
      "  df.index += _pd.TimedeltaIndex(dst_error_hours, 'h')\n"
     ]
    },
    {
     "name": "stdout",
     "output_type": "stream",
     "text": [
      "[******************    38%                       ]  192 of 500 completed"
     ]
    },
    {
     "name": "stderr",
     "output_type": "stream",
     "text": [
      "/lab/mydcxiao/anaconda3/envs/bias/lib/python3.12/site-packages/yfinance/utils.py:689: FutureWarning: The 'unit' keyword in TimedeltaIndex construction is deprecated and will be removed in a future version. Use pd.to_timedelta instead.\n",
      "  df.index += _pd.TimedeltaIndex(dst_error_hours, 'h')\n",
      "/lab/mydcxiao/anaconda3/envs/bias/lib/python3.12/site-packages/yfinance/utils.py:689: FutureWarning: The 'unit' keyword in TimedeltaIndex construction is deprecated and will be removed in a future version. Use pd.to_timedelta instead.\n",
      "  df.index += _pd.TimedeltaIndex(dst_error_hours, 'h')\n",
      "/lab/mydcxiao/anaconda3/envs/bias/lib/python3.12/site-packages/yfinance/utils.py:689: FutureWarning: The 'unit' keyword in TimedeltaIndex construction is deprecated and will be removed in a future version. Use pd.to_timedelta instead.\n",
      "  df.index += _pd.TimedeltaIndex(dst_error_hours, 'h')\n",
      "/lab/mydcxiao/anaconda3/envs/bias/lib/python3.12/site-packages/yfinance/utils.py:689: FutureWarning: The 'unit' keyword in TimedeltaIndex construction is deprecated and will be removed in a future version. Use pd.to_timedelta instead.\n",
      "  df.index += _pd.TimedeltaIndex(dst_error_hours, 'h')\n",
      "/lab/mydcxiao/anaconda3/envs/bias/lib/python3.12/site-packages/yfinance/utils.py:689: FutureWarning: The 'unit' keyword in TimedeltaIndex construction is deprecated and will be removed in a future version. Use pd.to_timedelta instead.\n",
      "  df.index += _pd.TimedeltaIndex(dst_error_hours, 'h')\n"
     ]
    },
    {
     "name": "stdout",
     "output_type": "stream",
     "text": [
      "[*******************   40%                       ]  199 of 500 completed"
     ]
    },
    {
     "name": "stderr",
     "output_type": "stream",
     "text": [
      "/lab/mydcxiao/anaconda3/envs/bias/lib/python3.12/site-packages/yfinance/utils.py:689: FutureWarning: The 'unit' keyword in TimedeltaIndex construction is deprecated and will be removed in a future version. Use pd.to_timedelta instead.\n",
      "  df.index += _pd.TimedeltaIndex(dst_error_hours, 'h')\n",
      "/lab/mydcxiao/anaconda3/envs/bias/lib/python3.12/site-packages/yfinance/utils.py:689: FutureWarning: The 'unit' keyword in TimedeltaIndex construction is deprecated and will be removed in a future version. Use pd.to_timedelta instead.\n",
      "  df.index += _pd.TimedeltaIndex(dst_error_hours, 'h')\n",
      "/lab/mydcxiao/anaconda3/envs/bias/lib/python3.12/site-packages/yfinance/utils.py:689: FutureWarning: The 'unit' keyword in TimedeltaIndex construction is deprecated and will be removed in a future version. Use pd.to_timedelta instead.\n",
      "  df.index += _pd.TimedeltaIndex(dst_error_hours, 'h')\n",
      "/lab/mydcxiao/anaconda3/envs/bias/lib/python3.12/site-packages/yfinance/utils.py:689: FutureWarning: The 'unit' keyword in TimedeltaIndex construction is deprecated and will be removed in a future version. Use pd.to_timedelta instead.\n",
      "  df.index += _pd.TimedeltaIndex(dst_error_hours, 'h')\n"
     ]
    },
    {
     "name": "stdout",
     "output_type": "stream",
     "text": [
      "[********************  41%                       ]  203 of 500 completed"
     ]
    },
    {
     "name": "stderr",
     "output_type": "stream",
     "text": [
      "/lab/mydcxiao/anaconda3/envs/bias/lib/python3.12/site-packages/yfinance/utils.py:689: FutureWarning: The 'unit' keyword in TimedeltaIndex construction is deprecated and will be removed in a future version. Use pd.to_timedelta instead.\n",
      "  df.index += _pd.TimedeltaIndex(dst_error_hours, 'h')\n",
      "/lab/mydcxiao/anaconda3/envs/bias/lib/python3.12/site-packages/yfinance/utils.py:689: FutureWarning: The 'unit' keyword in TimedeltaIndex construction is deprecated and will be removed in a future version. Use pd.to_timedelta instead.\n",
      "  df.index += _pd.TimedeltaIndex(dst_error_hours, 'h')\n",
      "/lab/mydcxiao/anaconda3/envs/bias/lib/python3.12/site-packages/yfinance/utils.py:689: FutureWarning: The 'unit' keyword in TimedeltaIndex construction is deprecated and will be removed in a future version. Use pd.to_timedelta instead.\n",
      "  df.index += _pd.TimedeltaIndex(dst_error_hours, 'h')\n",
      "/lab/mydcxiao/anaconda3/envs/bias/lib/python3.12/site-packages/yfinance/utils.py:689: FutureWarning: The 'unit' keyword in TimedeltaIndex construction is deprecated and will be removed in a future version. Use pd.to_timedelta instead.\n",
      "  df.index += _pd.TimedeltaIndex(dst_error_hours, 'h')\n"
     ]
    },
    {
     "name": "stdout",
     "output_type": "stream",
     "text": [
      "[********************  41%                       ]  204 of 500 completed"
     ]
    },
    {
     "name": "stderr",
     "output_type": "stream",
     "text": [
      "/lab/mydcxiao/anaconda3/envs/bias/lib/python3.12/site-packages/yfinance/utils.py:689: FutureWarning: The 'unit' keyword in TimedeltaIndex construction is deprecated and will be removed in a future version. Use pd.to_timedelta instead.\n",
      "  df.index += _pd.TimedeltaIndex(dst_error_hours, 'h')\n",
      "/lab/mydcxiao/anaconda3/envs/bias/lib/python3.12/site-packages/yfinance/utils.py:689: FutureWarning: The 'unit' keyword in TimedeltaIndex construction is deprecated and will be removed in a future version. Use pd.to_timedelta instead.\n",
      "  df.index += _pd.TimedeltaIndex(dst_error_hours, 'h')\n",
      "/lab/mydcxiao/anaconda3/envs/bias/lib/python3.12/site-packages/yfinance/utils.py:689: FutureWarning: The 'unit' keyword in TimedeltaIndex construction is deprecated and will be removed in a future version. Use pd.to_timedelta instead.\n",
      "  df.index += _pd.TimedeltaIndex(dst_error_hours, 'h')\n",
      "/lab/mydcxiao/anaconda3/envs/bias/lib/python3.12/site-packages/yfinance/utils.py:689: FutureWarning: The 'unit' keyword in TimedeltaIndex construction is deprecated and will be removed in a future version. Use pd.to_timedelta instead.\n",
      "  df.index += _pd.TimedeltaIndex(dst_error_hours, 'h')\n"
     ]
    },
    {
     "name": "stdout",
     "output_type": "stream",
     "text": [
      "[********************  42%                       ]  209 of 500 completed"
     ]
    },
    {
     "name": "stderr",
     "output_type": "stream",
     "text": [
      "/lab/mydcxiao/anaconda3/envs/bias/lib/python3.12/site-packages/yfinance/utils.py:689: FutureWarning: The 'unit' keyword in TimedeltaIndex construction is deprecated and will be removed in a future version. Use pd.to_timedelta instead.\n",
      "  df.index += _pd.TimedeltaIndex(dst_error_hours, 'h')\n",
      "/lab/mydcxiao/anaconda3/envs/bias/lib/python3.12/site-packages/yfinance/utils.py:689: FutureWarning: The 'unit' keyword in TimedeltaIndex construction is deprecated and will be removed in a future version. Use pd.to_timedelta instead.\n",
      "  df.index += _pd.TimedeltaIndex(dst_error_hours, 'h')\n",
      "/lab/mydcxiao/anaconda3/envs/bias/lib/python3.12/site-packages/yfinance/utils.py:689: FutureWarning: The 'unit' keyword in TimedeltaIndex construction is deprecated and will be removed in a future version. Use pd.to_timedelta instead.\n",
      "  df.index += _pd.TimedeltaIndex(dst_error_hours, 'h')\n",
      "/lab/mydcxiao/anaconda3/envs/bias/lib/python3.12/site-packages/yfinance/utils.py:689: FutureWarning: The 'unit' keyword in TimedeltaIndex construction is deprecated and will be removed in a future version. Use pd.to_timedelta instead.\n",
      "  df.index += _pd.TimedeltaIndex(dst_error_hours, 'h')\n"
     ]
    },
    {
     "name": "stdout",
     "output_type": "stream",
     "text": [
      "[********************* 43%                       ]  215 of 500 completed"
     ]
    },
    {
     "name": "stderr",
     "output_type": "stream",
     "text": [
      "/lab/mydcxiao/anaconda3/envs/bias/lib/python3.12/site-packages/yfinance/utils.py:689: FutureWarning: The 'unit' keyword in TimedeltaIndex construction is deprecated and will be removed in a future version. Use pd.to_timedelta instead.\n",
      "  df.index += _pd.TimedeltaIndex(dst_error_hours, 'h')\n",
      "/lab/mydcxiao/anaconda3/envs/bias/lib/python3.12/site-packages/yfinance/utils.py:689: FutureWarning: The 'unit' keyword in TimedeltaIndex construction is deprecated and will be removed in a future version. Use pd.to_timedelta instead.\n",
      "  df.index += _pd.TimedeltaIndex(dst_error_hours, 'h')\n",
      "/lab/mydcxiao/anaconda3/envs/bias/lib/python3.12/site-packages/yfinance/utils.py:689: FutureWarning: The 'unit' keyword in TimedeltaIndex construction is deprecated and will be removed in a future version. Use pd.to_timedelta instead.\n",
      "  df.index += _pd.TimedeltaIndex(dst_error_hours, 'h')\n",
      "/lab/mydcxiao/anaconda3/envs/bias/lib/python3.12/site-packages/yfinance/utils.py:689: FutureWarning: The 'unit' keyword in TimedeltaIndex construction is deprecated and will be removed in a future version. Use pd.to_timedelta instead.\n",
      "  df.index += _pd.TimedeltaIndex(dst_error_hours, 'h')\n",
      "/lab/mydcxiao/anaconda3/envs/bias/lib/python3.12/site-packages/yfinance/utils.py:689: FutureWarning: The 'unit' keyword in TimedeltaIndex construction is deprecated and will be removed in a future version. Use pd.to_timedelta instead.\n",
      "  df.index += _pd.TimedeltaIndex(dst_error_hours, 'h')\n",
      "/lab/mydcxiao/anaconda3/envs/bias/lib/python3.12/site-packages/yfinance/utils.py:689: FutureWarning: The 'unit' keyword in TimedeltaIndex construction is deprecated and will be removed in a future version. Use pd.to_timedelta instead.\n",
      "  df.index += _pd.TimedeltaIndex(dst_error_hours, 'h')\n",
      "/lab/mydcxiao/anaconda3/envs/bias/lib/python3.12/site-packages/yfinance/utils.py:689: FutureWarning: The 'unit' keyword in TimedeltaIndex construction is deprecated and will be removed in a future version. Use pd.to_timedelta instead.\n",
      "  df.index += _pd.TimedeltaIndex(dst_error_hours, 'h')\n"
     ]
    },
    {
     "name": "stdout",
     "output_type": "stream",
     "text": [
      "[********************* 44%                       ]  220 of 500 completed"
     ]
    },
    {
     "name": "stderr",
     "output_type": "stream",
     "text": [
      "/lab/mydcxiao/anaconda3/envs/bias/lib/python3.12/site-packages/yfinance/utils.py:689: FutureWarning: The 'unit' keyword in TimedeltaIndex construction is deprecated and will be removed in a future version. Use pd.to_timedelta instead.\n",
      "  df.index += _pd.TimedeltaIndex(dst_error_hours, 'h')\n",
      "/lab/mydcxiao/anaconda3/envs/bias/lib/python3.12/site-packages/yfinance/utils.py:689: FutureWarning: The 'unit' keyword in TimedeltaIndex construction is deprecated and will be removed in a future version. Use pd.to_timedelta instead.\n",
      "  df.index += _pd.TimedeltaIndex(dst_error_hours, 'h')\n",
      "/lab/mydcxiao/anaconda3/envs/bias/lib/python3.12/site-packages/yfinance/utils.py:689: FutureWarning: The 'unit' keyword in TimedeltaIndex construction is deprecated and will be removed in a future version. Use pd.to_timedelta instead.\n",
      "  df.index += _pd.TimedeltaIndex(dst_error_hours, 'h')\n",
      "/lab/mydcxiao/anaconda3/envs/bias/lib/python3.12/site-packages/yfinance/utils.py:689: FutureWarning: The 'unit' keyword in TimedeltaIndex construction is deprecated and will be removed in a future version. Use pd.to_timedelta instead.\n",
      "  df.index += _pd.TimedeltaIndex(dst_error_hours, 'h')\n",
      "/lab/mydcxiao/anaconda3/envs/bias/lib/python3.12/site-packages/yfinance/utils.py:689: FutureWarning: The 'unit' keyword in TimedeltaIndex construction is deprecated and will be removed in a future version. Use pd.to_timedelta instead.\n",
      "  df.index += _pd.TimedeltaIndex(dst_error_hours, 'h')\n"
     ]
    },
    {
     "name": "stdout",
     "output_type": "stream",
     "text": [
      "[**********************46%                       ]  228 of 500 completed"
     ]
    },
    {
     "name": "stderr",
     "output_type": "stream",
     "text": [
      "/lab/mydcxiao/anaconda3/envs/bias/lib/python3.12/site-packages/yfinance/utils.py:689: FutureWarning: The 'unit' keyword in TimedeltaIndex construction is deprecated and will be removed in a future version. Use pd.to_timedelta instead.\n",
      "  df.index += _pd.TimedeltaIndex(dst_error_hours, 'h')\n",
      "/lab/mydcxiao/anaconda3/envs/bias/lib/python3.12/site-packages/yfinance/utils.py:689: FutureWarning: The 'unit' keyword in TimedeltaIndex construction is deprecated and will be removed in a future version. Use pd.to_timedelta instead.\n",
      "  df.index += _pd.TimedeltaIndex(dst_error_hours, 'h')\n",
      "/lab/mydcxiao/anaconda3/envs/bias/lib/python3.12/site-packages/yfinance/utils.py:689: FutureWarning: The 'unit' keyword in TimedeltaIndex construction is deprecated and will be removed in a future version. Use pd.to_timedelta instead.\n",
      "  df.index += _pd.TimedeltaIndex(dst_error_hours, 'h')\n",
      "/lab/mydcxiao/anaconda3/envs/bias/lib/python3.12/site-packages/yfinance/utils.py:689: FutureWarning: The 'unit' keyword in TimedeltaIndex construction is deprecated and will be removed in a future version. Use pd.to_timedelta instead.\n",
      "  df.index += _pd.TimedeltaIndex(dst_error_hours, 'h')\n"
     ]
    },
    {
     "name": "stdout",
     "output_type": "stream",
     "text": [
      "[**********************46%                       ]  231 of 500 completed"
     ]
    },
    {
     "name": "stderr",
     "output_type": "stream",
     "text": [
      "/lab/mydcxiao/anaconda3/envs/bias/lib/python3.12/site-packages/yfinance/utils.py:689: FutureWarning: The 'unit' keyword in TimedeltaIndex construction is deprecated and will be removed in a future version. Use pd.to_timedelta instead.\n",
      "  df.index += _pd.TimedeltaIndex(dst_error_hours, 'h')\n",
      "/lab/mydcxiao/anaconda3/envs/bias/lib/python3.12/site-packages/yfinance/utils.py:689: FutureWarning: The 'unit' keyword in TimedeltaIndex construction is deprecated and will be removed in a future version. Use pd.to_timedelta instead.\n",
      "  df.index += _pd.TimedeltaIndex(dst_error_hours, 'h')\n",
      "/lab/mydcxiao/anaconda3/envs/bias/lib/python3.12/site-packages/yfinance/utils.py:689: FutureWarning: The 'unit' keyword in TimedeltaIndex construction is deprecated and will be removed in a future version. Use pd.to_timedelta instead.\n",
      "  df.index += _pd.TimedeltaIndex(dst_error_hours, 'h')\n"
     ]
    },
    {
     "name": "stdout",
     "output_type": "stream",
     "text": [
      "[**********************47%                       ]  234 of 500 completed"
     ]
    },
    {
     "name": "stderr",
     "output_type": "stream",
     "text": [
      "/lab/mydcxiao/anaconda3/envs/bias/lib/python3.12/site-packages/yfinance/utils.py:689: FutureWarning: The 'unit' keyword in TimedeltaIndex construction is deprecated and will be removed in a future version. Use pd.to_timedelta instead.\n",
      "  df.index += _pd.TimedeltaIndex(dst_error_hours, 'h')\n",
      "/lab/mydcxiao/anaconda3/envs/bias/lib/python3.12/site-packages/yfinance/utils.py:689: FutureWarning: The 'unit' keyword in TimedeltaIndex construction is deprecated and will be removed in a future version. Use pd.to_timedelta instead.\n",
      "  df.index += _pd.TimedeltaIndex(dst_error_hours, 'h')\n",
      "/lab/mydcxiao/anaconda3/envs/bias/lib/python3.12/site-packages/yfinance/utils.py:689: FutureWarning: The 'unit' keyword in TimedeltaIndex construction is deprecated and will be removed in a future version. Use pd.to_timedelta instead.\n",
      "  df.index += _pd.TimedeltaIndex(dst_error_hours, 'h')\n",
      "/lab/mydcxiao/anaconda3/envs/bias/lib/python3.12/site-packages/yfinance/utils.py:689: FutureWarning: The 'unit' keyword in TimedeltaIndex construction is deprecated and will be removed in a future version. Use pd.to_timedelta instead.\n",
      "  df.index += _pd.TimedeltaIndex(dst_error_hours, 'h')\n"
     ]
    },
    {
     "name": "stdout",
     "output_type": "stream",
     "text": [
      "[**********************48%                       ]  238 of 500 completed"
     ]
    },
    {
     "name": "stderr",
     "output_type": "stream",
     "text": [
      "/lab/mydcxiao/anaconda3/envs/bias/lib/python3.12/site-packages/yfinance/utils.py:689: FutureWarning: The 'unit' keyword in TimedeltaIndex construction is deprecated and will be removed in a future version. Use pd.to_timedelta instead.\n",
      "  df.index += _pd.TimedeltaIndex(dst_error_hours, 'h')\n",
      "/lab/mydcxiao/anaconda3/envs/bias/lib/python3.12/site-packages/yfinance/utils.py:689: FutureWarning: The 'unit' keyword in TimedeltaIndex construction is deprecated and will be removed in a future version. Use pd.to_timedelta instead.\n",
      "  df.index += _pd.TimedeltaIndex(dst_error_hours, 'h')\n",
      "/lab/mydcxiao/anaconda3/envs/bias/lib/python3.12/site-packages/yfinance/utils.py:689: FutureWarning: The 'unit' keyword in TimedeltaIndex construction is deprecated and will be removed in a future version. Use pd.to_timedelta instead.\n",
      "  df.index += _pd.TimedeltaIndex(dst_error_hours, 'h')\n",
      "/lab/mydcxiao/anaconda3/envs/bias/lib/python3.12/site-packages/yfinance/utils.py:689: FutureWarning: The 'unit' keyword in TimedeltaIndex construction is deprecated and will be removed in a future version. Use pd.to_timedelta instead.\n",
      "  df.index += _pd.TimedeltaIndex(dst_error_hours, 'h')\n",
      "/lab/mydcxiao/anaconda3/envs/bias/lib/python3.12/site-packages/yfinance/utils.py:689: FutureWarning: The 'unit' keyword in TimedeltaIndex construction is deprecated and will be removed in a future version. Use pd.to_timedelta instead.\n",
      "  df.index += _pd.TimedeltaIndex(dst_error_hours, 'h')\n"
     ]
    },
    {
     "name": "stdout",
     "output_type": "stream",
     "text": [
      "[**********************49%                       ]  243 of 500 completed"
     ]
    },
    {
     "name": "stderr",
     "output_type": "stream",
     "text": [
      "/lab/mydcxiao/anaconda3/envs/bias/lib/python3.12/site-packages/yfinance/utils.py:689: FutureWarning: The 'unit' keyword in TimedeltaIndex construction is deprecated and will be removed in a future version. Use pd.to_timedelta instead.\n",
      "  df.index += _pd.TimedeltaIndex(dst_error_hours, 'h')\n",
      "/lab/mydcxiao/anaconda3/envs/bias/lib/python3.12/site-packages/yfinance/utils.py:689: FutureWarning: The 'unit' keyword in TimedeltaIndex construction is deprecated and will be removed in a future version. Use pd.to_timedelta instead.\n",
      "  df.index += _pd.TimedeltaIndex(dst_error_hours, 'h')\n",
      "/lab/mydcxiao/anaconda3/envs/bias/lib/python3.12/site-packages/yfinance/utils.py:689: FutureWarning: The 'unit' keyword in TimedeltaIndex construction is deprecated and will be removed in a future version. Use pd.to_timedelta instead.\n",
      "  df.index += _pd.TimedeltaIndex(dst_error_hours, 'h')\n",
      "/lab/mydcxiao/anaconda3/envs/bias/lib/python3.12/site-packages/yfinance/utils.py:689: FutureWarning: The 'unit' keyword in TimedeltaIndex construction is deprecated and will be removed in a future version. Use pd.to_timedelta instead.\n",
      "  df.index += _pd.TimedeltaIndex(dst_error_hours, 'h')\n"
     ]
    },
    {
     "name": "stdout",
     "output_type": "stream",
     "text": [
      "[**********************50%                       ]  249 of 500 completed"
     ]
    },
    {
     "name": "stderr",
     "output_type": "stream",
     "text": [
      "/lab/mydcxiao/anaconda3/envs/bias/lib/python3.12/site-packages/yfinance/utils.py:689: FutureWarning: The 'unit' keyword in TimedeltaIndex construction is deprecated and will be removed in a future version. Use pd.to_timedelta instead.\n",
      "  df.index += _pd.TimedeltaIndex(dst_error_hours, 'h')\n",
      "/lab/mydcxiao/anaconda3/envs/bias/lib/python3.12/site-packages/yfinance/utils.py:689: FutureWarning: The 'unit' keyword in TimedeltaIndex construction is deprecated and will be removed in a future version. Use pd.to_timedelta instead.\n",
      "  df.index += _pd.TimedeltaIndex(dst_error_hours, 'h')\n",
      "/lab/mydcxiao/anaconda3/envs/bias/lib/python3.12/site-packages/yfinance/utils.py:689: FutureWarning: The 'unit' keyword in TimedeltaIndex construction is deprecated and will be removed in a future version. Use pd.to_timedelta instead.\n",
      "  df.index += _pd.TimedeltaIndex(dst_error_hours, 'h')\n"
     ]
    },
    {
     "name": "stdout",
     "output_type": "stream",
     "text": [
      "[**********************51%                       ]  253 of 500 completed"
     ]
    },
    {
     "name": "stderr",
     "output_type": "stream",
     "text": [
      "/lab/mydcxiao/anaconda3/envs/bias/lib/python3.12/site-packages/yfinance/utils.py:689: FutureWarning: The 'unit' keyword in TimedeltaIndex construction is deprecated and will be removed in a future version. Use pd.to_timedelta instead.\n",
      "  df.index += _pd.TimedeltaIndex(dst_error_hours, 'h')\n",
      "/lab/mydcxiao/anaconda3/envs/bias/lib/python3.12/site-packages/yfinance/utils.py:689: FutureWarning: The 'unit' keyword in TimedeltaIndex construction is deprecated and will be removed in a future version. Use pd.to_timedelta instead.\n",
      "  df.index += _pd.TimedeltaIndex(dst_error_hours, 'h')\n",
      "/lab/mydcxiao/anaconda3/envs/bias/lib/python3.12/site-packages/yfinance/utils.py:689: FutureWarning: The 'unit' keyword in TimedeltaIndex construction is deprecated and will be removed in a future version. Use pd.to_timedelta instead.\n",
      "  df.index += _pd.TimedeltaIndex(dst_error_hours, 'h')\n",
      "/lab/mydcxiao/anaconda3/envs/bias/lib/python3.12/site-packages/yfinance/utils.py:689: FutureWarning: The 'unit' keyword in TimedeltaIndex construction is deprecated and will be removed in a future version. Use pd.to_timedelta instead.\n",
      "  df.index += _pd.TimedeltaIndex(dst_error_hours, 'h')\n",
      "/lab/mydcxiao/anaconda3/envs/bias/lib/python3.12/site-packages/yfinance/utils.py:689: FutureWarning: The 'unit' keyword in TimedeltaIndex construction is deprecated and will be removed in a future version. Use pd.to_timedelta instead.\n",
      "  df.index += _pd.TimedeltaIndex(dst_error_hours, 'h')\n"
     ]
    },
    {
     "name": "stdout",
     "output_type": "stream",
     "text": [
      "[**********************51%                       ]  256 of 500 completed"
     ]
    },
    {
     "name": "stderr",
     "output_type": "stream",
     "text": [
      "/lab/mydcxiao/anaconda3/envs/bias/lib/python3.12/site-packages/yfinance/utils.py:689: FutureWarning: The 'unit' keyword in TimedeltaIndex construction is deprecated and will be removed in a future version. Use pd.to_timedelta instead.\n",
      "  df.index += _pd.TimedeltaIndex(dst_error_hours, 'h')\n",
      "/lab/mydcxiao/anaconda3/envs/bias/lib/python3.12/site-packages/yfinance/utils.py:689: FutureWarning: The 'unit' keyword in TimedeltaIndex construction is deprecated and will be removed in a future version. Use pd.to_timedelta instead.\n",
      "  df.index += _pd.TimedeltaIndex(dst_error_hours, 'h')\n",
      "/lab/mydcxiao/anaconda3/envs/bias/lib/python3.12/site-packages/yfinance/utils.py:689: FutureWarning: The 'unit' keyword in TimedeltaIndex construction is deprecated and will be removed in a future version. Use pd.to_timedelta instead.\n",
      "  df.index += _pd.TimedeltaIndex(dst_error_hours, 'h')\n",
      "/lab/mydcxiao/anaconda3/envs/bias/lib/python3.12/site-packages/yfinance/utils.py:689: FutureWarning: The 'unit' keyword in TimedeltaIndex construction is deprecated and will be removed in a future version. Use pd.to_timedelta instead.\n",
      "  df.index += _pd.TimedeltaIndex(dst_error_hours, 'h')\n"
     ]
    },
    {
     "name": "stdout",
     "output_type": "stream",
     "text": [
      "[**********************52%                       ]  262 of 500 completed"
     ]
    },
    {
     "name": "stderr",
     "output_type": "stream",
     "text": [
      "/lab/mydcxiao/anaconda3/envs/bias/lib/python3.12/site-packages/yfinance/utils.py:689: FutureWarning: The 'unit' keyword in TimedeltaIndex construction is deprecated and will be removed in a future version. Use pd.to_timedelta instead.\n",
      "  df.index += _pd.TimedeltaIndex(dst_error_hours, 'h')\n",
      "/lab/mydcxiao/anaconda3/envs/bias/lib/python3.12/site-packages/yfinance/utils.py:689: FutureWarning: The 'unit' keyword in TimedeltaIndex construction is deprecated and will be removed in a future version. Use pd.to_timedelta instead.\n",
      "  df.index += _pd.TimedeltaIndex(dst_error_hours, 'h')\n",
      "/lab/mydcxiao/anaconda3/envs/bias/lib/python3.12/site-packages/yfinance/utils.py:689: FutureWarning: The 'unit' keyword in TimedeltaIndex construction is deprecated and will be removed in a future version. Use pd.to_timedelta instead.\n",
      "  df.index += _pd.TimedeltaIndex(dst_error_hours, 'h')\n",
      "/lab/mydcxiao/anaconda3/envs/bias/lib/python3.12/site-packages/yfinance/utils.py:689: FutureWarning: The 'unit' keyword in TimedeltaIndex construction is deprecated and will be removed in a future version. Use pd.to_timedelta instead.\n",
      "  df.index += _pd.TimedeltaIndex(dst_error_hours, 'h')\n"
     ]
    },
    {
     "name": "stdout",
     "output_type": "stream",
     "text": [
      "[**********************53%                       ]  265 of 500 completed"
     ]
    },
    {
     "name": "stderr",
     "output_type": "stream",
     "text": [
      "/lab/mydcxiao/anaconda3/envs/bias/lib/python3.12/site-packages/yfinance/utils.py:689: FutureWarning: The 'unit' keyword in TimedeltaIndex construction is deprecated and will be removed in a future version. Use pd.to_timedelta instead.\n",
      "  df.index += _pd.TimedeltaIndex(dst_error_hours, 'h')\n",
      "/lab/mydcxiao/anaconda3/envs/bias/lib/python3.12/site-packages/yfinance/utils.py:689: FutureWarning: The 'unit' keyword in TimedeltaIndex construction is deprecated and will be removed in a future version. Use pd.to_timedelta instead.\n",
      "  df.index += _pd.TimedeltaIndex(dst_error_hours, 'h')\n",
      "/lab/mydcxiao/anaconda3/envs/bias/lib/python3.12/site-packages/yfinance/utils.py:689: FutureWarning: The 'unit' keyword in TimedeltaIndex construction is deprecated and will be removed in a future version. Use pd.to_timedelta instead.\n",
      "  df.index += _pd.TimedeltaIndex(dst_error_hours, 'h')\n",
      "/lab/mydcxiao/anaconda3/envs/bias/lib/python3.12/site-packages/yfinance/utils.py:689: FutureWarning: The 'unit' keyword in TimedeltaIndex construction is deprecated and will be removed in a future version. Use pd.to_timedelta instead.\n",
      "  df.index += _pd.TimedeltaIndex(dst_error_hours, 'h')\n"
     ]
    },
    {
     "name": "stdout",
     "output_type": "stream",
     "text": [
      "[**********************54%*                      ]  270 of 500 completed"
     ]
    },
    {
     "name": "stderr",
     "output_type": "stream",
     "text": [
      "/lab/mydcxiao/anaconda3/envs/bias/lib/python3.12/site-packages/yfinance/utils.py:689: FutureWarning: The 'unit' keyword in TimedeltaIndex construction is deprecated and will be removed in a future version. Use pd.to_timedelta instead.\n",
      "  df.index += _pd.TimedeltaIndex(dst_error_hours, 'h')\n",
      "/lab/mydcxiao/anaconda3/envs/bias/lib/python3.12/site-packages/yfinance/utils.py:689: FutureWarning: The 'unit' keyword in TimedeltaIndex construction is deprecated and will be removed in a future version. Use pd.to_timedelta instead.\n",
      "  df.index += _pd.TimedeltaIndex(dst_error_hours, 'h')\n",
      "/lab/mydcxiao/anaconda3/envs/bias/lib/python3.12/site-packages/yfinance/utils.py:689: FutureWarning: The 'unit' keyword in TimedeltaIndex construction is deprecated and will be removed in a future version. Use pd.to_timedelta instead.\n",
      "  df.index += _pd.TimedeltaIndex(dst_error_hours, 'h')\n"
     ]
    },
    {
     "name": "stdout",
     "output_type": "stream",
     "text": [
      "[**********************54%*                      ]  271 of 500 completed"
     ]
    },
    {
     "name": "stderr",
     "output_type": "stream",
     "text": [
      "/lab/mydcxiao/anaconda3/envs/bias/lib/python3.12/site-packages/yfinance/utils.py:689: FutureWarning: The 'unit' keyword in TimedeltaIndex construction is deprecated and will be removed in a future version. Use pd.to_timedelta instead.\n",
      "  df.index += _pd.TimedeltaIndex(dst_error_hours, 'h')\n",
      "/lab/mydcxiao/anaconda3/envs/bias/lib/python3.12/site-packages/yfinance/utils.py:689: FutureWarning: The 'unit' keyword in TimedeltaIndex construction is deprecated and will be removed in a future version. Use pd.to_timedelta instead.\n",
      "  df.index += _pd.TimedeltaIndex(dst_error_hours, 'h')\n",
      "/lab/mydcxiao/anaconda3/envs/bias/lib/python3.12/site-packages/yfinance/utils.py:689: FutureWarning: The 'unit' keyword in TimedeltaIndex construction is deprecated and will be removed in a future version. Use pd.to_timedelta instead.\n",
      "  df.index += _pd.TimedeltaIndex(dst_error_hours, 'h')\n"
     ]
    },
    {
     "name": "stdout",
     "output_type": "stream",
     "text": [
      "[**********************55%*                      ]  275 of 500 completed"
     ]
    },
    {
     "name": "stderr",
     "output_type": "stream",
     "text": [
      "/lab/mydcxiao/anaconda3/envs/bias/lib/python3.12/site-packages/yfinance/utils.py:689: FutureWarning: The 'unit' keyword in TimedeltaIndex construction is deprecated and will be removed in a future version. Use pd.to_timedelta instead.\n",
      "  df.index += _pd.TimedeltaIndex(dst_error_hours, 'h')\n",
      "/lab/mydcxiao/anaconda3/envs/bias/lib/python3.12/site-packages/yfinance/utils.py:689: FutureWarning: The 'unit' keyword in TimedeltaIndex construction is deprecated and will be removed in a future version. Use pd.to_timedelta instead.\n",
      "  df.index += _pd.TimedeltaIndex(dst_error_hours, 'h')\n",
      "/lab/mydcxiao/anaconda3/envs/bias/lib/python3.12/site-packages/yfinance/utils.py:689: FutureWarning: The 'unit' keyword in TimedeltaIndex construction is deprecated and will be removed in a future version. Use pd.to_timedelta instead.\n",
      "  df.index += _pd.TimedeltaIndex(dst_error_hours, 'h')\n",
      "/lab/mydcxiao/anaconda3/envs/bias/lib/python3.12/site-packages/yfinance/utils.py:689: FutureWarning: The 'unit' keyword in TimedeltaIndex construction is deprecated and will be removed in a future version. Use pd.to_timedelta instead.\n",
      "  df.index += _pd.TimedeltaIndex(dst_error_hours, 'h')\n"
     ]
    },
    {
     "name": "stdout",
     "output_type": "stream",
     "text": [
      "[**********************55%*                      ]  277 of 500 completed"
     ]
    },
    {
     "name": "stderr",
     "output_type": "stream",
     "text": [
      "/lab/mydcxiao/anaconda3/envs/bias/lib/python3.12/site-packages/yfinance/utils.py:689: FutureWarning: The 'unit' keyword in TimedeltaIndex construction is deprecated and will be removed in a future version. Use pd.to_timedelta instead.\n",
      "  df.index += _pd.TimedeltaIndex(dst_error_hours, 'h')\n",
      "/lab/mydcxiao/anaconda3/envs/bias/lib/python3.12/site-packages/yfinance/utils.py:689: FutureWarning: The 'unit' keyword in TimedeltaIndex construction is deprecated and will be removed in a future version. Use pd.to_timedelta instead.\n",
      "  df.index += _pd.TimedeltaIndex(dst_error_hours, 'h')\n",
      "/lab/mydcxiao/anaconda3/envs/bias/lib/python3.12/site-packages/yfinance/utils.py:689: FutureWarning: The 'unit' keyword in TimedeltaIndex construction is deprecated and will be removed in a future version. Use pd.to_timedelta instead.\n",
      "  df.index += _pd.TimedeltaIndex(dst_error_hours, 'h')\n",
      "/lab/mydcxiao/anaconda3/envs/bias/lib/python3.12/site-packages/yfinance/utils.py:689: FutureWarning: The 'unit' keyword in TimedeltaIndex construction is deprecated and will be removed in a future version. Use pd.to_timedelta instead.\n",
      "  df.index += _pd.TimedeltaIndex(dst_error_hours, 'h')\n",
      "/lab/mydcxiao/anaconda3/envs/bias/lib/python3.12/site-packages/yfinance/utils.py:689: FutureWarning: The 'unit' keyword in TimedeltaIndex construction is deprecated and will be removed in a future version. Use pd.to_timedelta instead.\n",
      "  df.index += _pd.TimedeltaIndex(dst_error_hours, 'h')\n"
     ]
    },
    {
     "name": "stdout",
     "output_type": "stream",
     "text": [
      "[**********************57%**                     ]  285 of 500 completed"
     ]
    },
    {
     "name": "stderr",
     "output_type": "stream",
     "text": [
      "/lab/mydcxiao/anaconda3/envs/bias/lib/python3.12/site-packages/yfinance/utils.py:689: FutureWarning: The 'unit' keyword in TimedeltaIndex construction is deprecated and will be removed in a future version. Use pd.to_timedelta instead.\n",
      "  df.index += _pd.TimedeltaIndex(dst_error_hours, 'h')\n",
      "/lab/mydcxiao/anaconda3/envs/bias/lib/python3.12/site-packages/yfinance/utils.py:689: FutureWarning: The 'unit' keyword in TimedeltaIndex construction is deprecated and will be removed in a future version. Use pd.to_timedelta instead.\n",
      "  df.index += _pd.TimedeltaIndex(dst_error_hours, 'h')\n",
      "/lab/mydcxiao/anaconda3/envs/bias/lib/python3.12/site-packages/yfinance/utils.py:689: FutureWarning: The 'unit' keyword in TimedeltaIndex construction is deprecated and will be removed in a future version. Use pd.to_timedelta instead.\n",
      "  df.index += _pd.TimedeltaIndex(dst_error_hours, 'h')\n",
      "/lab/mydcxiao/anaconda3/envs/bias/lib/python3.12/site-packages/yfinance/utils.py:689: FutureWarning: The 'unit' keyword in TimedeltaIndex construction is deprecated and will be removed in a future version. Use pd.to_timedelta instead.\n",
      "  df.index += _pd.TimedeltaIndex(dst_error_hours, 'h')\n"
     ]
    },
    {
     "name": "stdout",
     "output_type": "stream",
     "text": [
      "[**********************57%**                     ]  286 of 500 completed"
     ]
    },
    {
     "name": "stderr",
     "output_type": "stream",
     "text": [
      "/lab/mydcxiao/anaconda3/envs/bias/lib/python3.12/site-packages/yfinance/utils.py:689: FutureWarning: The 'unit' keyword in TimedeltaIndex construction is deprecated and will be removed in a future version. Use pd.to_timedelta instead.\n",
      "  df.index += _pd.TimedeltaIndex(dst_error_hours, 'h')\n",
      "/lab/mydcxiao/anaconda3/envs/bias/lib/python3.12/site-packages/yfinance/utils.py:689: FutureWarning: The 'unit' keyword in TimedeltaIndex construction is deprecated and will be removed in a future version. Use pd.to_timedelta instead.\n",
      "  df.index += _pd.TimedeltaIndex(dst_error_hours, 'h')\n",
      "/lab/mydcxiao/anaconda3/envs/bias/lib/python3.12/site-packages/yfinance/utils.py:689: FutureWarning: The 'unit' keyword in TimedeltaIndex construction is deprecated and will be removed in a future version. Use pd.to_timedelta instead.\n",
      "  df.index += _pd.TimedeltaIndex(dst_error_hours, 'h')\n"
     ]
    },
    {
     "name": "stdout",
     "output_type": "stream",
     "text": [
      "[**********************58%***                    ]  290 of 500 completed"
     ]
    },
    {
     "name": "stderr",
     "output_type": "stream",
     "text": [
      "/lab/mydcxiao/anaconda3/envs/bias/lib/python3.12/site-packages/yfinance/utils.py:689: FutureWarning: The 'unit' keyword in TimedeltaIndex construction is deprecated and will be removed in a future version. Use pd.to_timedelta instead.\n",
      "  df.index += _pd.TimedeltaIndex(dst_error_hours, 'h')\n",
      "/lab/mydcxiao/anaconda3/envs/bias/lib/python3.12/site-packages/yfinance/utils.py:689: FutureWarning: The 'unit' keyword in TimedeltaIndex construction is deprecated and will be removed in a future version. Use pd.to_timedelta instead.\n",
      "  df.index += _pd.TimedeltaIndex(dst_error_hours, 'h')\n",
      "/lab/mydcxiao/anaconda3/envs/bias/lib/python3.12/site-packages/yfinance/utils.py:689: FutureWarning: The 'unit' keyword in TimedeltaIndex construction is deprecated and will be removed in a future version. Use pd.to_timedelta instead.\n",
      "  df.index += _pd.TimedeltaIndex(dst_error_hours, 'h')\n",
      "/lab/mydcxiao/anaconda3/envs/bias/lib/python3.12/site-packages/yfinance/utils.py:689: FutureWarning: The 'unit' keyword in TimedeltaIndex construction is deprecated and will be removed in a future version. Use pd.to_timedelta instead.\n",
      "  df.index += _pd.TimedeltaIndex(dst_error_hours, 'h')\n"
     ]
    },
    {
     "name": "stdout",
     "output_type": "stream",
     "text": [
      "[**********************59%***                    ]  296 of 500 completed"
     ]
    },
    {
     "name": "stderr",
     "output_type": "stream",
     "text": [
      "/lab/mydcxiao/anaconda3/envs/bias/lib/python3.12/site-packages/yfinance/utils.py:689: FutureWarning: The 'unit' keyword in TimedeltaIndex construction is deprecated and will be removed in a future version. Use pd.to_timedelta instead.\n",
      "  df.index += _pd.TimedeltaIndex(dst_error_hours, 'h')\n",
      "/lab/mydcxiao/anaconda3/envs/bias/lib/python3.12/site-packages/yfinance/utils.py:689: FutureWarning: The 'unit' keyword in TimedeltaIndex construction is deprecated and will be removed in a future version. Use pd.to_timedelta instead.\n",
      "  df.index += _pd.TimedeltaIndex(dst_error_hours, 'h')\n",
      "/lab/mydcxiao/anaconda3/envs/bias/lib/python3.12/site-packages/yfinance/utils.py:689: FutureWarning: The 'unit' keyword in TimedeltaIndex construction is deprecated and will be removed in a future version. Use pd.to_timedelta instead.\n",
      "  df.index += _pd.TimedeltaIndex(dst_error_hours, 'h')\n",
      "/lab/mydcxiao/anaconda3/envs/bias/lib/python3.12/site-packages/yfinance/utils.py:689: FutureWarning: The 'unit' keyword in TimedeltaIndex construction is deprecated and will be removed in a future version. Use pd.to_timedelta instead.\n",
      "  df.index += _pd.TimedeltaIndex(dst_error_hours, 'h')\n"
     ]
    },
    {
     "name": "stdout",
     "output_type": "stream",
     "text": [
      "[**********************59%***                    ]  297 of 500 completed"
     ]
    },
    {
     "name": "stderr",
     "output_type": "stream",
     "text": [
      "/lab/mydcxiao/anaconda3/envs/bias/lib/python3.12/site-packages/yfinance/utils.py:689: FutureWarning: The 'unit' keyword in TimedeltaIndex construction is deprecated and will be removed in a future version. Use pd.to_timedelta instead.\n",
      "  df.index += _pd.TimedeltaIndex(dst_error_hours, 'h')\n",
      "/lab/mydcxiao/anaconda3/envs/bias/lib/python3.12/site-packages/yfinance/utils.py:689: FutureWarning: The 'unit' keyword in TimedeltaIndex construction is deprecated and will be removed in a future version. Use pd.to_timedelta instead.\n",
      "  df.index += _pd.TimedeltaIndex(dst_error_hours, 'h')\n",
      "/lab/mydcxiao/anaconda3/envs/bias/lib/python3.12/site-packages/yfinance/utils.py:689: FutureWarning: The 'unit' keyword in TimedeltaIndex construction is deprecated and will be removed in a future version. Use pd.to_timedelta instead.\n",
      "  df.index += _pd.TimedeltaIndex(dst_error_hours, 'h')\n",
      "/lab/mydcxiao/anaconda3/envs/bias/lib/python3.12/site-packages/yfinance/utils.py:689: FutureWarning: The 'unit' keyword in TimedeltaIndex construction is deprecated and will be removed in a future version. Use pd.to_timedelta instead.\n",
      "  df.index += _pd.TimedeltaIndex(dst_error_hours, 'h')\n"
     ]
    },
    {
     "name": "stdout",
     "output_type": "stream",
     "text": [
      "[**********************60%****                   ]  301 of 500 completed"
     ]
    },
    {
     "name": "stderr",
     "output_type": "stream",
     "text": [
      "/lab/mydcxiao/anaconda3/envs/bias/lib/python3.12/site-packages/yfinance/utils.py:689: FutureWarning: The 'unit' keyword in TimedeltaIndex construction is deprecated and will be removed in a future version. Use pd.to_timedelta instead.\n",
      "  df.index += _pd.TimedeltaIndex(dst_error_hours, 'h')\n",
      "/lab/mydcxiao/anaconda3/envs/bias/lib/python3.12/site-packages/yfinance/utils.py:689: FutureWarning: The 'unit' keyword in TimedeltaIndex construction is deprecated and will be removed in a future version. Use pd.to_timedelta instead.\n",
      "  df.index += _pd.TimedeltaIndex(dst_error_hours, 'h')\n",
      "/lab/mydcxiao/anaconda3/envs/bias/lib/python3.12/site-packages/yfinance/utils.py:689: FutureWarning: The 'unit' keyword in TimedeltaIndex construction is deprecated and will be removed in a future version. Use pd.to_timedelta instead.\n",
      "  df.index += _pd.TimedeltaIndex(dst_error_hours, 'h')\n",
      "/lab/mydcxiao/anaconda3/envs/bias/lib/python3.12/site-packages/yfinance/utils.py:689: FutureWarning: The 'unit' keyword in TimedeltaIndex construction is deprecated and will be removed in a future version. Use pd.to_timedelta instead.\n",
      "  df.index += _pd.TimedeltaIndex(dst_error_hours, 'h')\n"
     ]
    },
    {
     "name": "stdout",
     "output_type": "stream",
     "text": [
      "[**********************62%*****                  ]  310 of 500 completed"
     ]
    },
    {
     "name": "stderr",
     "output_type": "stream",
     "text": [
      "/lab/mydcxiao/anaconda3/envs/bias/lib/python3.12/site-packages/yfinance/utils.py:689: FutureWarning: The 'unit' keyword in TimedeltaIndex construction is deprecated and will be removed in a future version. Use pd.to_timedelta instead.\n",
      "  df.index += _pd.TimedeltaIndex(dst_error_hours, 'h')\n",
      "/lab/mydcxiao/anaconda3/envs/bias/lib/python3.12/site-packages/yfinance/utils.py:689: FutureWarning: The 'unit' keyword in TimedeltaIndex construction is deprecated and will be removed in a future version. Use pd.to_timedelta instead.\n",
      "  df.index += _pd.TimedeltaIndex(dst_error_hours, 'h')\n",
      "/lab/mydcxiao/anaconda3/envs/bias/lib/python3.12/site-packages/yfinance/utils.py:689: FutureWarning: The 'unit' keyword in TimedeltaIndex construction is deprecated and will be removed in a future version. Use pd.to_timedelta instead.\n",
      "  df.index += _pd.TimedeltaIndex(dst_error_hours, 'h')\n",
      "/lab/mydcxiao/anaconda3/envs/bias/lib/python3.12/site-packages/yfinance/utils.py:689: FutureWarning: The 'unit' keyword in TimedeltaIndex construction is deprecated and will be removed in a future version. Use pd.to_timedelta instead.\n",
      "  df.index += _pd.TimedeltaIndex(dst_error_hours, 'h')\n",
      "/lab/mydcxiao/anaconda3/envs/bias/lib/python3.12/site-packages/yfinance/utils.py:689: FutureWarning: The 'unit' keyword in TimedeltaIndex construction is deprecated and will be removed in a future version. Use pd.to_timedelta instead.\n",
      "  df.index += _pd.TimedeltaIndex(dst_error_hours, 'h')\n"
     ]
    },
    {
     "name": "stdout",
     "output_type": "stream",
     "text": [
      "[**********************63%*****                  ]  314 of 500 completed"
     ]
    },
    {
     "name": "stderr",
     "output_type": "stream",
     "text": [
      "/lab/mydcxiao/anaconda3/envs/bias/lib/python3.12/site-packages/yfinance/utils.py:689: FutureWarning: The 'unit' keyword in TimedeltaIndex construction is deprecated and will be removed in a future version. Use pd.to_timedelta instead.\n",
      "  df.index += _pd.TimedeltaIndex(dst_error_hours, 'h')\n",
      "/lab/mydcxiao/anaconda3/envs/bias/lib/python3.12/site-packages/yfinance/utils.py:689: FutureWarning: The 'unit' keyword in TimedeltaIndex construction is deprecated and will be removed in a future version. Use pd.to_timedelta instead.\n",
      "  df.index += _pd.TimedeltaIndex(dst_error_hours, 'h')\n",
      "/lab/mydcxiao/anaconda3/envs/bias/lib/python3.12/site-packages/yfinance/utils.py:689: FutureWarning: The 'unit' keyword in TimedeltaIndex construction is deprecated and will be removed in a future version. Use pd.to_timedelta instead.\n",
      "  df.index += _pd.TimedeltaIndex(dst_error_hours, 'h')\n",
      "/lab/mydcxiao/anaconda3/envs/bias/lib/python3.12/site-packages/yfinance/utils.py:689: FutureWarning: The 'unit' keyword in TimedeltaIndex construction is deprecated and will be removed in a future version. Use pd.to_timedelta instead.\n",
      "  df.index += _pd.TimedeltaIndex(dst_error_hours, 'h')\n",
      "/lab/mydcxiao/anaconda3/envs/bias/lib/python3.12/site-packages/yfinance/utils.py:689: FutureWarning: The 'unit' keyword in TimedeltaIndex construction is deprecated and will be removed in a future version. Use pd.to_timedelta instead.\n",
      "  df.index += _pd.TimedeltaIndex(dst_error_hours, 'h')\n"
     ]
    },
    {
     "name": "stdout",
     "output_type": "stream",
     "text": [
      "[**********************63%*****                  ]  316 of 500 completed"
     ]
    },
    {
     "name": "stderr",
     "output_type": "stream",
     "text": [
      "/lab/mydcxiao/anaconda3/envs/bias/lib/python3.12/site-packages/yfinance/utils.py:689: FutureWarning: The 'unit' keyword in TimedeltaIndex construction is deprecated and will be removed in a future version. Use pd.to_timedelta instead.\n",
      "  df.index += _pd.TimedeltaIndex(dst_error_hours, 'h')\n",
      "/lab/mydcxiao/anaconda3/envs/bias/lib/python3.12/site-packages/yfinance/utils.py:689: FutureWarning: The 'unit' keyword in TimedeltaIndex construction is deprecated and will be removed in a future version. Use pd.to_timedelta instead.\n",
      "  df.index += _pd.TimedeltaIndex(dst_error_hours, 'h')\n",
      "/lab/mydcxiao/anaconda3/envs/bias/lib/python3.12/site-packages/yfinance/utils.py:689: FutureWarning: The 'unit' keyword in TimedeltaIndex construction is deprecated and will be removed in a future version. Use pd.to_timedelta instead.\n",
      "  df.index += _pd.TimedeltaIndex(dst_error_hours, 'h')\n",
      "/lab/mydcxiao/anaconda3/envs/bias/lib/python3.12/site-packages/yfinance/utils.py:689: FutureWarning: The 'unit' keyword in TimedeltaIndex construction is deprecated and will be removed in a future version. Use pd.to_timedelta instead.\n",
      "  df.index += _pd.TimedeltaIndex(dst_error_hours, 'h')\n"
     ]
    },
    {
     "name": "stdout",
     "output_type": "stream",
     "text": [
      "[**********************65%******                 ]  323 of 500 completed"
     ]
    },
    {
     "name": "stderr",
     "output_type": "stream",
     "text": [
      "/lab/mydcxiao/anaconda3/envs/bias/lib/python3.12/site-packages/yfinance/utils.py:689: FutureWarning: The 'unit' keyword in TimedeltaIndex construction is deprecated and will be removed in a future version. Use pd.to_timedelta instead.\n",
      "  df.index += _pd.TimedeltaIndex(dst_error_hours, 'h')\n",
      "/lab/mydcxiao/anaconda3/envs/bias/lib/python3.12/site-packages/yfinance/utils.py:689: FutureWarning: The 'unit' keyword in TimedeltaIndex construction is deprecated and will be removed in a future version. Use pd.to_timedelta instead.\n",
      "  df.index += _pd.TimedeltaIndex(dst_error_hours, 'h')\n",
      "/lab/mydcxiao/anaconda3/envs/bias/lib/python3.12/site-packages/yfinance/utils.py:689: FutureWarning: The 'unit' keyword in TimedeltaIndex construction is deprecated and will be removed in a future version. Use pd.to_timedelta instead.\n",
      "  df.index += _pd.TimedeltaIndex(dst_error_hours, 'h')\n",
      "/lab/mydcxiao/anaconda3/envs/bias/lib/python3.12/site-packages/yfinance/utils.py:689: FutureWarning: The 'unit' keyword in TimedeltaIndex construction is deprecated and will be removed in a future version. Use pd.to_timedelta instead.\n",
      "  df.index += _pd.TimedeltaIndex(dst_error_hours, 'h')\n",
      "/lab/mydcxiao/anaconda3/envs/bias/lib/python3.12/site-packages/yfinance/utils.py:689: FutureWarning: The 'unit' keyword in TimedeltaIndex construction is deprecated and will be removed in a future version. Use pd.to_timedelta instead.\n",
      "  df.index += _pd.TimedeltaIndex(dst_error_hours, 'h')\n"
     ]
    },
    {
     "name": "stdout",
     "output_type": "stream",
     "text": [
      "[**********************65%******                 ]  326 of 500 completed"
     ]
    },
    {
     "name": "stderr",
     "output_type": "stream",
     "text": [
      "/lab/mydcxiao/anaconda3/envs/bias/lib/python3.12/site-packages/yfinance/utils.py:689: FutureWarning: The 'unit' keyword in TimedeltaIndex construction is deprecated and will be removed in a future version. Use pd.to_timedelta instead.\n",
      "  df.index += _pd.TimedeltaIndex(dst_error_hours, 'h')\n",
      "/lab/mydcxiao/anaconda3/envs/bias/lib/python3.12/site-packages/yfinance/utils.py:689: FutureWarning: The 'unit' keyword in TimedeltaIndex construction is deprecated and will be removed in a future version. Use pd.to_timedelta instead.\n",
      "  df.index += _pd.TimedeltaIndex(dst_error_hours, 'h')\n",
      "/lab/mydcxiao/anaconda3/envs/bias/lib/python3.12/site-packages/yfinance/utils.py:689: FutureWarning: The 'unit' keyword in TimedeltaIndex construction is deprecated and will be removed in a future version. Use pd.to_timedelta instead.\n",
      "  df.index += _pd.TimedeltaIndex(dst_error_hours, 'h')\n",
      "/lab/mydcxiao/anaconda3/envs/bias/lib/python3.12/site-packages/yfinance/utils.py:689: FutureWarning: The 'unit' keyword in TimedeltaIndex construction is deprecated and will be removed in a future version. Use pd.to_timedelta instead.\n",
      "  df.index += _pd.TimedeltaIndex(dst_error_hours, 'h')\n"
     ]
    },
    {
     "name": "stdout",
     "output_type": "stream",
     "text": [
      "[**********************66%*******                ]  331 of 500 completed"
     ]
    },
    {
     "name": "stderr",
     "output_type": "stream",
     "text": [
      "/lab/mydcxiao/anaconda3/envs/bias/lib/python3.12/site-packages/yfinance/utils.py:689: FutureWarning: The 'unit' keyword in TimedeltaIndex construction is deprecated and will be removed in a future version. Use pd.to_timedelta instead.\n",
      "  df.index += _pd.TimedeltaIndex(dst_error_hours, 'h')\n",
      "/lab/mydcxiao/anaconda3/envs/bias/lib/python3.12/site-packages/yfinance/utils.py:689: FutureWarning: The 'unit' keyword in TimedeltaIndex construction is deprecated and will be removed in a future version. Use pd.to_timedelta instead.\n",
      "  df.index += _pd.TimedeltaIndex(dst_error_hours, 'h')\n",
      "/lab/mydcxiao/anaconda3/envs/bias/lib/python3.12/site-packages/yfinance/utils.py:689: FutureWarning: The 'unit' keyword in TimedeltaIndex construction is deprecated and will be removed in a future version. Use pd.to_timedelta instead.\n",
      "  df.index += _pd.TimedeltaIndex(dst_error_hours, 'h')\n"
     ]
    },
    {
     "name": "stdout",
     "output_type": "stream",
     "text": [
      "[**********************67%*******                ]  334 of 500 completed"
     ]
    },
    {
     "name": "stderr",
     "output_type": "stream",
     "text": [
      "/lab/mydcxiao/anaconda3/envs/bias/lib/python3.12/site-packages/yfinance/utils.py:689: FutureWarning: The 'unit' keyword in TimedeltaIndex construction is deprecated and will be removed in a future version. Use pd.to_timedelta instead.\n",
      "  df.index += _pd.TimedeltaIndex(dst_error_hours, 'h')\n",
      "/lab/mydcxiao/anaconda3/envs/bias/lib/python3.12/site-packages/yfinance/utils.py:689: FutureWarning: The 'unit' keyword in TimedeltaIndex construction is deprecated and will be removed in a future version. Use pd.to_timedelta instead.\n",
      "  df.index += _pd.TimedeltaIndex(dst_error_hours, 'h')\n",
      "/lab/mydcxiao/anaconda3/envs/bias/lib/python3.12/site-packages/yfinance/utils.py:689: FutureWarning: The 'unit' keyword in TimedeltaIndex construction is deprecated and will be removed in a future version. Use pd.to_timedelta instead.\n",
      "  df.index += _pd.TimedeltaIndex(dst_error_hours, 'h')\n",
      "/lab/mydcxiao/anaconda3/envs/bias/lib/python3.12/site-packages/yfinance/utils.py:689: FutureWarning: The 'unit' keyword in TimedeltaIndex construction is deprecated and will be removed in a future version. Use pd.to_timedelta instead.\n",
      "  df.index += _pd.TimedeltaIndex(dst_error_hours, 'h')\n",
      "/lab/mydcxiao/anaconda3/envs/bias/lib/python3.12/site-packages/yfinance/utils.py:689: FutureWarning: The 'unit' keyword in TimedeltaIndex construction is deprecated and will be removed in a future version. Use pd.to_timedelta instead.\n",
      "  df.index += _pd.TimedeltaIndex(dst_error_hours, 'h')\n"
     ]
    },
    {
     "name": "stdout",
     "output_type": "stream",
     "text": [
      "[**********************68%********               ]  338 of 500 completed"
     ]
    },
    {
     "name": "stderr",
     "output_type": "stream",
     "text": [
      "/lab/mydcxiao/anaconda3/envs/bias/lib/python3.12/site-packages/yfinance/utils.py:689: FutureWarning: The 'unit' keyword in TimedeltaIndex construction is deprecated and will be removed in a future version. Use pd.to_timedelta instead.\n",
      "  df.index += _pd.TimedeltaIndex(dst_error_hours, 'h')\n",
      "/lab/mydcxiao/anaconda3/envs/bias/lib/python3.12/site-packages/yfinance/utils.py:689: FutureWarning: The 'unit' keyword in TimedeltaIndex construction is deprecated and will be removed in a future version. Use pd.to_timedelta instead.\n",
      "  df.index += _pd.TimedeltaIndex(dst_error_hours, 'h')\n"
     ]
    },
    {
     "name": "stdout",
     "output_type": "stream",
     "text": [
      "[**********************68%********               ]  341 of 500 completed"
     ]
    },
    {
     "name": "stderr",
     "output_type": "stream",
     "text": [
      "/lab/mydcxiao/anaconda3/envs/bias/lib/python3.12/site-packages/yfinance/utils.py:689: FutureWarning: The 'unit' keyword in TimedeltaIndex construction is deprecated and will be removed in a future version. Use pd.to_timedelta instead.\n",
      "  df.index += _pd.TimedeltaIndex(dst_error_hours, 'h')\n",
      "/lab/mydcxiao/anaconda3/envs/bias/lib/python3.12/site-packages/yfinance/utils.py:689: FutureWarning: The 'unit' keyword in TimedeltaIndex construction is deprecated and will be removed in a future version. Use pd.to_timedelta instead.\n",
      "  df.index += _pd.TimedeltaIndex(dst_error_hours, 'h')\n",
      "/lab/mydcxiao/anaconda3/envs/bias/lib/python3.12/site-packages/yfinance/utils.py:689: FutureWarning: The 'unit' keyword in TimedeltaIndex construction is deprecated and will be removed in a future version. Use pd.to_timedelta instead.\n",
      "  df.index += _pd.TimedeltaIndex(dst_error_hours, 'h')\n",
      "/lab/mydcxiao/anaconda3/envs/bias/lib/python3.12/site-packages/yfinance/utils.py:689: FutureWarning: The 'unit' keyword in TimedeltaIndex construction is deprecated and will be removed in a future version. Use pd.to_timedelta instead.\n",
      "  df.index += _pd.TimedeltaIndex(dst_error_hours, 'h')\n",
      "/lab/mydcxiao/anaconda3/envs/bias/lib/python3.12/site-packages/yfinance/utils.py:689: FutureWarning: The 'unit' keyword in TimedeltaIndex construction is deprecated and will be removed in a future version. Use pd.to_timedelta instead.\n",
      "  df.index += _pd.TimedeltaIndex(dst_error_hours, 'h')\n"
     ]
    },
    {
     "name": "stdout",
     "output_type": "stream",
     "text": [
      "[**********************69%********               ]  346 of 500 completed"
     ]
    },
    {
     "name": "stderr",
     "output_type": "stream",
     "text": [
      "/lab/mydcxiao/anaconda3/envs/bias/lib/python3.12/site-packages/yfinance/utils.py:689: FutureWarning: The 'unit' keyword in TimedeltaIndex construction is deprecated and will be removed in a future version. Use pd.to_timedelta instead.\n",
      "  df.index += _pd.TimedeltaIndex(dst_error_hours, 'h')\n",
      "/lab/mydcxiao/anaconda3/envs/bias/lib/python3.12/site-packages/yfinance/utils.py:689: FutureWarning: The 'unit' keyword in TimedeltaIndex construction is deprecated and will be removed in a future version. Use pd.to_timedelta instead.\n",
      "  df.index += _pd.TimedeltaIndex(dst_error_hours, 'h')\n",
      "/lab/mydcxiao/anaconda3/envs/bias/lib/python3.12/site-packages/yfinance/utils.py:689: FutureWarning: The 'unit' keyword in TimedeltaIndex construction is deprecated and will be removed in a future version. Use pd.to_timedelta instead.\n",
      "  df.index += _pd.TimedeltaIndex(dst_error_hours, 'h')\n",
      "/lab/mydcxiao/anaconda3/envs/bias/lib/python3.12/site-packages/yfinance/utils.py:689: FutureWarning: The 'unit' keyword in TimedeltaIndex construction is deprecated and will be removed in a future version. Use pd.to_timedelta instead.\n",
      "  df.index += _pd.TimedeltaIndex(dst_error_hours, 'h')\n"
     ]
    },
    {
     "name": "stdout",
     "output_type": "stream",
     "text": [
      "[**********************70%*********              ]  348 of 500 completed"
     ]
    },
    {
     "name": "stderr",
     "output_type": "stream",
     "text": [
      "/lab/mydcxiao/anaconda3/envs/bias/lib/python3.12/site-packages/yfinance/utils.py:689: FutureWarning: The 'unit' keyword in TimedeltaIndex construction is deprecated and will be removed in a future version. Use pd.to_timedelta instead.\n",
      "  df.index += _pd.TimedeltaIndex(dst_error_hours, 'h')\n",
      "/lab/mydcxiao/anaconda3/envs/bias/lib/python3.12/site-packages/yfinance/utils.py:689: FutureWarning: The 'unit' keyword in TimedeltaIndex construction is deprecated and will be removed in a future version. Use pd.to_timedelta instead.\n",
      "  df.index += _pd.TimedeltaIndex(dst_error_hours, 'h')\n",
      "/lab/mydcxiao/anaconda3/envs/bias/lib/python3.12/site-packages/yfinance/utils.py:689: FutureWarning: The 'unit' keyword in TimedeltaIndex construction is deprecated and will be removed in a future version. Use pd.to_timedelta instead.\n",
      "  df.index += _pd.TimedeltaIndex(dst_error_hours, 'h')\n",
      "/lab/mydcxiao/anaconda3/envs/bias/lib/python3.12/site-packages/yfinance/utils.py:689: FutureWarning: The 'unit' keyword in TimedeltaIndex construction is deprecated and will be removed in a future version. Use pd.to_timedelta instead.\n",
      "  df.index += _pd.TimedeltaIndex(dst_error_hours, 'h')\n",
      "/lab/mydcxiao/anaconda3/envs/bias/lib/python3.12/site-packages/yfinance/utils.py:689: FutureWarning: The 'unit' keyword in TimedeltaIndex construction is deprecated and will be removed in a future version. Use pd.to_timedelta instead.\n",
      "  df.index += _pd.TimedeltaIndex(dst_error_hours, 'h')\n",
      "/lab/mydcxiao/anaconda3/envs/bias/lib/python3.12/site-packages/yfinance/utils.py:689: FutureWarning: The 'unit' keyword in TimedeltaIndex construction is deprecated and will be removed in a future version. Use pd.to_timedelta instead.\n",
      "  df.index += _pd.TimedeltaIndex(dst_error_hours, 'h')\n"
     ]
    },
    {
     "name": "stdout",
     "output_type": "stream",
     "text": [
      "[**********************71%*********              ]  356 of 500 completed"
     ]
    },
    {
     "name": "stderr",
     "output_type": "stream",
     "text": [
      "/lab/mydcxiao/anaconda3/envs/bias/lib/python3.12/site-packages/yfinance/utils.py:689: FutureWarning: The 'unit' keyword in TimedeltaIndex construction is deprecated and will be removed in a future version. Use pd.to_timedelta instead.\n",
      "  df.index += _pd.TimedeltaIndex(dst_error_hours, 'h')\n",
      "/lab/mydcxiao/anaconda3/envs/bias/lib/python3.12/site-packages/yfinance/utils.py:689: FutureWarning: The 'unit' keyword in TimedeltaIndex construction is deprecated and will be removed in a future version. Use pd.to_timedelta instead.\n",
      "  df.index += _pd.TimedeltaIndex(dst_error_hours, 'h')\n",
      "/lab/mydcxiao/anaconda3/envs/bias/lib/python3.12/site-packages/yfinance/utils.py:689: FutureWarning: The 'unit' keyword in TimedeltaIndex construction is deprecated and will be removed in a future version. Use pd.to_timedelta instead.\n",
      "  df.index += _pd.TimedeltaIndex(dst_error_hours, 'h')\n",
      "/lab/mydcxiao/anaconda3/envs/bias/lib/python3.12/site-packages/yfinance/utils.py:689: FutureWarning: The 'unit' keyword in TimedeltaIndex construction is deprecated and will be removed in a future version. Use pd.to_timedelta instead.\n",
      "  df.index += _pd.TimedeltaIndex(dst_error_hours, 'h')\n"
     ]
    },
    {
     "name": "stdout",
     "output_type": "stream",
     "text": [
      "[**********************73%**********             ]  364 of 500 completed"
     ]
    },
    {
     "name": "stderr",
     "output_type": "stream",
     "text": [
      "/lab/mydcxiao/anaconda3/envs/bias/lib/python3.12/site-packages/yfinance/utils.py:689: FutureWarning: The 'unit' keyword in TimedeltaIndex construction is deprecated and will be removed in a future version. Use pd.to_timedelta instead.\n",
      "  df.index += _pd.TimedeltaIndex(dst_error_hours, 'h')\n",
      "/lab/mydcxiao/anaconda3/envs/bias/lib/python3.12/site-packages/yfinance/utils.py:689: FutureWarning: The 'unit' keyword in TimedeltaIndex construction is deprecated and will be removed in a future version. Use pd.to_timedelta instead.\n",
      "  df.index += _pd.TimedeltaIndex(dst_error_hours, 'h')\n",
      "/lab/mydcxiao/anaconda3/envs/bias/lib/python3.12/site-packages/yfinance/utils.py:689: FutureWarning: The 'unit' keyword in TimedeltaIndex construction is deprecated and will be removed in a future version. Use pd.to_timedelta instead.\n",
      "  df.index += _pd.TimedeltaIndex(dst_error_hours, 'h')\n",
      "/lab/mydcxiao/anaconda3/envs/bias/lib/python3.12/site-packages/yfinance/utils.py:689: FutureWarning: The 'unit' keyword in TimedeltaIndex construction is deprecated and will be removed in a future version. Use pd.to_timedelta instead.\n",
      "  df.index += _pd.TimedeltaIndex(dst_error_hours, 'h')\n",
      "/lab/mydcxiao/anaconda3/envs/bias/lib/python3.12/site-packages/yfinance/utils.py:689: FutureWarning: The 'unit' keyword in TimedeltaIndex construction is deprecated and will be removed in a future version. Use pd.to_timedelta instead.\n",
      "  df.index += _pd.TimedeltaIndex(dst_error_hours, 'h')\n",
      "/lab/mydcxiao/anaconda3/envs/bias/lib/python3.12/site-packages/yfinance/utils.py:689: FutureWarning: The 'unit' keyword in TimedeltaIndex construction is deprecated and will be removed in a future version. Use pd.to_timedelta instead.\n",
      "  df.index += _pd.TimedeltaIndex(dst_error_hours, 'h')\n"
     ]
    },
    {
     "name": "stdout",
     "output_type": "stream",
     "text": [
      "[**********************73%**********             ]  367 of 500 completed"
     ]
    },
    {
     "name": "stderr",
     "output_type": "stream",
     "text": [
      "/lab/mydcxiao/anaconda3/envs/bias/lib/python3.12/site-packages/yfinance/utils.py:689: FutureWarning: The 'unit' keyword in TimedeltaIndex construction is deprecated and will be removed in a future version. Use pd.to_timedelta instead.\n",
      "  df.index += _pd.TimedeltaIndex(dst_error_hours, 'h')\n",
      "/lab/mydcxiao/anaconda3/envs/bias/lib/python3.12/site-packages/yfinance/utils.py:689: FutureWarning: The 'unit' keyword in TimedeltaIndex construction is deprecated and will be removed in a future version. Use pd.to_timedelta instead.\n",
      "  df.index += _pd.TimedeltaIndex(dst_error_hours, 'h')\n",
      "/lab/mydcxiao/anaconda3/envs/bias/lib/python3.12/site-packages/yfinance/utils.py:689: FutureWarning: The 'unit' keyword in TimedeltaIndex construction is deprecated and will be removed in a future version. Use pd.to_timedelta instead.\n",
      "  df.index += _pd.TimedeltaIndex(dst_error_hours, 'h')\n",
      "/lab/mydcxiao/anaconda3/envs/bias/lib/python3.12/site-packages/yfinance/utils.py:689: FutureWarning: The 'unit' keyword in TimedeltaIndex construction is deprecated and will be removed in a future version. Use pd.to_timedelta instead.\n",
      "  df.index += _pd.TimedeltaIndex(dst_error_hours, 'h')\n"
     ]
    },
    {
     "name": "stdout",
     "output_type": "stream",
     "text": [
      "[**********************74%***********            ]  368 of 500 completed"
     ]
    },
    {
     "name": "stderr",
     "output_type": "stream",
     "text": [
      "/lab/mydcxiao/anaconda3/envs/bias/lib/python3.12/site-packages/yfinance/utils.py:689: FutureWarning: The 'unit' keyword in TimedeltaIndex construction is deprecated and will be removed in a future version. Use pd.to_timedelta instead.\n",
      "  df.index += _pd.TimedeltaIndex(dst_error_hours, 'h')\n",
      "/lab/mydcxiao/anaconda3/envs/bias/lib/python3.12/site-packages/yfinance/utils.py:689: FutureWarning: The 'unit' keyword in TimedeltaIndex construction is deprecated and will be removed in a future version. Use pd.to_timedelta instead.\n",
      "  df.index += _pd.TimedeltaIndex(dst_error_hours, 'h')\n",
      "/lab/mydcxiao/anaconda3/envs/bias/lib/python3.12/site-packages/yfinance/utils.py:689: FutureWarning: The 'unit' keyword in TimedeltaIndex construction is deprecated and will be removed in a future version. Use pd.to_timedelta instead.\n",
      "  df.index += _pd.TimedeltaIndex(dst_error_hours, 'h')\n",
      "/lab/mydcxiao/anaconda3/envs/bias/lib/python3.12/site-packages/yfinance/utils.py:689: FutureWarning: The 'unit' keyword in TimedeltaIndex construction is deprecated and will be removed in a future version. Use pd.to_timedelta instead.\n",
      "  df.index += _pd.TimedeltaIndex(dst_error_hours, 'h')\n"
     ]
    },
    {
     "name": "stdout",
     "output_type": "stream",
     "text": [
      "[**********************75%***********            ]  374 of 500 completed"
     ]
    },
    {
     "name": "stderr",
     "output_type": "stream",
     "text": [
      "/lab/mydcxiao/anaconda3/envs/bias/lib/python3.12/site-packages/yfinance/utils.py:689: FutureWarning: The 'unit' keyword in TimedeltaIndex construction is deprecated and will be removed in a future version. Use pd.to_timedelta instead.\n",
      "  df.index += _pd.TimedeltaIndex(dst_error_hours, 'h')\n",
      "/lab/mydcxiao/anaconda3/envs/bias/lib/python3.12/site-packages/yfinance/utils.py:689: FutureWarning: The 'unit' keyword in TimedeltaIndex construction is deprecated and will be removed in a future version. Use pd.to_timedelta instead.\n",
      "  df.index += _pd.TimedeltaIndex(dst_error_hours, 'h')\n",
      "/lab/mydcxiao/anaconda3/envs/bias/lib/python3.12/site-packages/yfinance/utils.py:689: FutureWarning: The 'unit' keyword in TimedeltaIndex construction is deprecated and will be removed in a future version. Use pd.to_timedelta instead.\n",
      "  df.index += _pd.TimedeltaIndex(dst_error_hours, 'h')\n",
      "/lab/mydcxiao/anaconda3/envs/bias/lib/python3.12/site-packages/yfinance/utils.py:689: FutureWarning: The 'unit' keyword in TimedeltaIndex construction is deprecated and will be removed in a future version. Use pd.to_timedelta instead.\n",
      "  df.index += _pd.TimedeltaIndex(dst_error_hours, 'h')\n"
     ]
    },
    {
     "name": "stdout",
     "output_type": "stream",
     "text": [
      "[**********************76%***********            ]  378 of 500 completed"
     ]
    },
    {
     "name": "stderr",
     "output_type": "stream",
     "text": [
      "/lab/mydcxiao/anaconda3/envs/bias/lib/python3.12/site-packages/yfinance/utils.py:689: FutureWarning: The 'unit' keyword in TimedeltaIndex construction is deprecated and will be removed in a future version. Use pd.to_timedelta instead.\n",
      "  df.index += _pd.TimedeltaIndex(dst_error_hours, 'h')\n",
      "/lab/mydcxiao/anaconda3/envs/bias/lib/python3.12/site-packages/yfinance/utils.py:689: FutureWarning: The 'unit' keyword in TimedeltaIndex construction is deprecated and will be removed in a future version. Use pd.to_timedelta instead.\n",
      "  df.index += _pd.TimedeltaIndex(dst_error_hours, 'h')\n",
      "/lab/mydcxiao/anaconda3/envs/bias/lib/python3.12/site-packages/yfinance/utils.py:689: FutureWarning: The 'unit' keyword in TimedeltaIndex construction is deprecated and will be removed in a future version. Use pd.to_timedelta instead.\n",
      "  df.index += _pd.TimedeltaIndex(dst_error_hours, 'h')\n",
      "/lab/mydcxiao/anaconda3/envs/bias/lib/python3.12/site-packages/yfinance/utils.py:689: FutureWarning: The 'unit' keyword in TimedeltaIndex construction is deprecated and will be removed in a future version. Use pd.to_timedelta instead.\n",
      "  df.index += _pd.TimedeltaIndex(dst_error_hours, 'h')\n"
     ]
    },
    {
     "name": "stdout",
     "output_type": "stream",
     "text": [
      "[**********************76%***********            ]  381 of 500 completed"
     ]
    },
    {
     "name": "stderr",
     "output_type": "stream",
     "text": [
      "/lab/mydcxiao/anaconda3/envs/bias/lib/python3.12/site-packages/yfinance/utils.py:689: FutureWarning: The 'unit' keyword in TimedeltaIndex construction is deprecated and will be removed in a future version. Use pd.to_timedelta instead.\n",
      "  df.index += _pd.TimedeltaIndex(dst_error_hours, 'h')\n",
      "/lab/mydcxiao/anaconda3/envs/bias/lib/python3.12/site-packages/yfinance/utils.py:689: FutureWarning: The 'unit' keyword in TimedeltaIndex construction is deprecated and will be removed in a future version. Use pd.to_timedelta instead.\n",
      "  df.index += _pd.TimedeltaIndex(dst_error_hours, 'h')\n",
      "/lab/mydcxiao/anaconda3/envs/bias/lib/python3.12/site-packages/yfinance/utils.py:689: FutureWarning: The 'unit' keyword in TimedeltaIndex construction is deprecated and will be removed in a future version. Use pd.to_timedelta instead.\n",
      "  df.index += _pd.TimedeltaIndex(dst_error_hours, 'h')\n",
      "/lab/mydcxiao/anaconda3/envs/bias/lib/python3.12/site-packages/yfinance/utils.py:689: FutureWarning: The 'unit' keyword in TimedeltaIndex construction is deprecated and will be removed in a future version. Use pd.to_timedelta instead.\n",
      "  df.index += _pd.TimedeltaIndex(dst_error_hours, 'h')\n",
      "/lab/mydcxiao/anaconda3/envs/bias/lib/python3.12/site-packages/yfinance/utils.py:689: FutureWarning: The 'unit' keyword in TimedeltaIndex construction is deprecated and will be removed in a future version. Use pd.to_timedelta instead.\n",
      "  df.index += _pd.TimedeltaIndex(dst_error_hours, 'h')\n",
      "/lab/mydcxiao/anaconda3/envs/bias/lib/python3.12/site-packages/yfinance/utils.py:689: FutureWarning: The 'unit' keyword in TimedeltaIndex construction is deprecated and will be removed in a future version. Use pd.to_timedelta instead.\n",
      "  df.index += _pd.TimedeltaIndex(dst_error_hours, 'h')\n"
     ]
    },
    {
     "name": "stdout",
     "output_type": "stream",
     "text": [
      "[**********************78%************           ]  389 of 500 completed"
     ]
    },
    {
     "name": "stderr",
     "output_type": "stream",
     "text": [
      "/lab/mydcxiao/anaconda3/envs/bias/lib/python3.12/site-packages/yfinance/utils.py:689: FutureWarning: The 'unit' keyword in TimedeltaIndex construction is deprecated and will be removed in a future version. Use pd.to_timedelta instead.\n",
      "  df.index += _pd.TimedeltaIndex(dst_error_hours, 'h')\n",
      "/lab/mydcxiao/anaconda3/envs/bias/lib/python3.12/site-packages/yfinance/utils.py:689: FutureWarning: The 'unit' keyword in TimedeltaIndex construction is deprecated and will be removed in a future version. Use pd.to_timedelta instead.\n",
      "  df.index += _pd.TimedeltaIndex(dst_error_hours, 'h')\n",
      "/lab/mydcxiao/anaconda3/envs/bias/lib/python3.12/site-packages/yfinance/utils.py:689: FutureWarning: The 'unit' keyword in TimedeltaIndex construction is deprecated and will be removed in a future version. Use pd.to_timedelta instead.\n",
      "  df.index += _pd.TimedeltaIndex(dst_error_hours, 'h')\n",
      "/lab/mydcxiao/anaconda3/envs/bias/lib/python3.12/site-packages/yfinance/utils.py:689: FutureWarning: The 'unit' keyword in TimedeltaIndex construction is deprecated and will be removed in a future version. Use pd.to_timedelta instead.\n",
      "  df.index += _pd.TimedeltaIndex(dst_error_hours, 'h')\n"
     ]
    },
    {
     "name": "stdout",
     "output_type": "stream",
     "text": [
      "[**********************78%************           ]  391 of 500 completed"
     ]
    },
    {
     "name": "stderr",
     "output_type": "stream",
     "text": [
      "/lab/mydcxiao/anaconda3/envs/bias/lib/python3.12/site-packages/yfinance/utils.py:689: FutureWarning: The 'unit' keyword in TimedeltaIndex construction is deprecated and will be removed in a future version. Use pd.to_timedelta instead.\n",
      "  df.index += _pd.TimedeltaIndex(dst_error_hours, 'h')\n",
      "/lab/mydcxiao/anaconda3/envs/bias/lib/python3.12/site-packages/yfinance/utils.py:689: FutureWarning: The 'unit' keyword in TimedeltaIndex construction is deprecated and will be removed in a future version. Use pd.to_timedelta instead.\n",
      "  df.index += _pd.TimedeltaIndex(dst_error_hours, 'h')\n",
      "/lab/mydcxiao/anaconda3/envs/bias/lib/python3.12/site-packages/yfinance/utils.py:689: FutureWarning: The 'unit' keyword in TimedeltaIndex construction is deprecated and will be removed in a future version. Use pd.to_timedelta instead.\n",
      "  df.index += _pd.TimedeltaIndex(dst_error_hours, 'h')\n",
      "/lab/mydcxiao/anaconda3/envs/bias/lib/python3.12/site-packages/yfinance/utils.py:689: FutureWarning: The 'unit' keyword in TimedeltaIndex construction is deprecated and will be removed in a future version. Use pd.to_timedelta instead.\n",
      "  df.index += _pd.TimedeltaIndex(dst_error_hours, 'h')\n"
     ]
    },
    {
     "name": "stdout",
     "output_type": "stream",
     "text": [
      "[**********************79%*************          ]  394 of 500 completed"
     ]
    },
    {
     "name": "stderr",
     "output_type": "stream",
     "text": [
      "/lab/mydcxiao/anaconda3/envs/bias/lib/python3.12/site-packages/yfinance/utils.py:689: FutureWarning: The 'unit' keyword in TimedeltaIndex construction is deprecated and will be removed in a future version. Use pd.to_timedelta instead.\n",
      "  df.index += _pd.TimedeltaIndex(dst_error_hours, 'h')\n",
      "/lab/mydcxiao/anaconda3/envs/bias/lib/python3.12/site-packages/yfinance/utils.py:689: FutureWarning: The 'unit' keyword in TimedeltaIndex construction is deprecated and will be removed in a future version. Use pd.to_timedelta instead.\n",
      "  df.index += _pd.TimedeltaIndex(dst_error_hours, 'h')\n",
      "/lab/mydcxiao/anaconda3/envs/bias/lib/python3.12/site-packages/yfinance/utils.py:689: FutureWarning: The 'unit' keyword in TimedeltaIndex construction is deprecated and will be removed in a future version. Use pd.to_timedelta instead.\n",
      "  df.index += _pd.TimedeltaIndex(dst_error_hours, 'h')\n",
      "/lab/mydcxiao/anaconda3/envs/bias/lib/python3.12/site-packages/yfinance/utils.py:689: FutureWarning: The 'unit' keyword in TimedeltaIndex construction is deprecated and will be removed in a future version. Use pd.to_timedelta instead.\n",
      "  df.index += _pd.TimedeltaIndex(dst_error_hours, 'h')\n"
     ]
    },
    {
     "name": "stdout",
     "output_type": "stream",
     "text": [
      "[**********************80%*************          ]  401 of 500 completed"
     ]
    },
    {
     "name": "stderr",
     "output_type": "stream",
     "text": [
      "/lab/mydcxiao/anaconda3/envs/bias/lib/python3.12/site-packages/yfinance/utils.py:689: FutureWarning: The 'unit' keyword in TimedeltaIndex construction is deprecated and will be removed in a future version. Use pd.to_timedelta instead.\n",
      "  df.index += _pd.TimedeltaIndex(dst_error_hours, 'h')\n",
      "/lab/mydcxiao/anaconda3/envs/bias/lib/python3.12/site-packages/yfinance/utils.py:689: FutureWarning: The 'unit' keyword in TimedeltaIndex construction is deprecated and will be removed in a future version. Use pd.to_timedelta instead.\n",
      "  df.index += _pd.TimedeltaIndex(dst_error_hours, 'h')\n",
      "/lab/mydcxiao/anaconda3/envs/bias/lib/python3.12/site-packages/yfinance/utils.py:689: FutureWarning: The 'unit' keyword in TimedeltaIndex construction is deprecated and will be removed in a future version. Use pd.to_timedelta instead.\n",
      "  df.index += _pd.TimedeltaIndex(dst_error_hours, 'h')\n",
      "/lab/mydcxiao/anaconda3/envs/bias/lib/python3.12/site-packages/yfinance/utils.py:689: FutureWarning: The 'unit' keyword in TimedeltaIndex construction is deprecated and will be removed in a future version. Use pd.to_timedelta instead.\n",
      "  df.index += _pd.TimedeltaIndex(dst_error_hours, 'h')\n"
     ]
    },
    {
     "name": "stdout",
     "output_type": "stream",
     "text": [
      "[**********************81%**************         ]  406 of 500 completed"
     ]
    },
    {
     "name": "stderr",
     "output_type": "stream",
     "text": [
      "/lab/mydcxiao/anaconda3/envs/bias/lib/python3.12/site-packages/yfinance/utils.py:689: FutureWarning: The 'unit' keyword in TimedeltaIndex construction is deprecated and will be removed in a future version. Use pd.to_timedelta instead.\n",
      "  df.index += _pd.TimedeltaIndex(dst_error_hours, 'h')\n",
      "/lab/mydcxiao/anaconda3/envs/bias/lib/python3.12/site-packages/yfinance/utils.py:689: FutureWarning: The 'unit' keyword in TimedeltaIndex construction is deprecated and will be removed in a future version. Use pd.to_timedelta instead.\n",
      "  df.index += _pd.TimedeltaIndex(dst_error_hours, 'h')\n",
      "/lab/mydcxiao/anaconda3/envs/bias/lib/python3.12/site-packages/yfinance/utils.py:689: FutureWarning: The 'unit' keyword in TimedeltaIndex construction is deprecated and will be removed in a future version. Use pd.to_timedelta instead.\n",
      "  df.index += _pd.TimedeltaIndex(dst_error_hours, 'h')\n",
      "/lab/mydcxiao/anaconda3/envs/bias/lib/python3.12/site-packages/yfinance/utils.py:689: FutureWarning: The 'unit' keyword in TimedeltaIndex construction is deprecated and will be removed in a future version. Use pd.to_timedelta instead.\n",
      "  df.index += _pd.TimedeltaIndex(dst_error_hours, 'h')\n",
      "/lab/mydcxiao/anaconda3/envs/bias/lib/python3.12/site-packages/yfinance/utils.py:689: FutureWarning: The 'unit' keyword in TimedeltaIndex construction is deprecated and will be removed in a future version. Use pd.to_timedelta instead.\n",
      "  df.index += _pd.TimedeltaIndex(dst_error_hours, 'h')\n"
     ]
    },
    {
     "name": "stdout",
     "output_type": "stream",
     "text": [
      "[**********************82%**************         ]  411 of 500 completed"
     ]
    },
    {
     "name": "stderr",
     "output_type": "stream",
     "text": [
      "/lab/mydcxiao/anaconda3/envs/bias/lib/python3.12/site-packages/yfinance/utils.py:689: FutureWarning: The 'unit' keyword in TimedeltaIndex construction is deprecated and will be removed in a future version. Use pd.to_timedelta instead.\n",
      "  df.index += _pd.TimedeltaIndex(dst_error_hours, 'h')\n",
      "/lab/mydcxiao/anaconda3/envs/bias/lib/python3.12/site-packages/yfinance/utils.py:689: FutureWarning: The 'unit' keyword in TimedeltaIndex construction is deprecated and will be removed in a future version. Use pd.to_timedelta instead.\n",
      "  df.index += _pd.TimedeltaIndex(dst_error_hours, 'h')\n",
      "/lab/mydcxiao/anaconda3/envs/bias/lib/python3.12/site-packages/yfinance/utils.py:689: FutureWarning: The 'unit' keyword in TimedeltaIndex construction is deprecated and will be removed in a future version. Use pd.to_timedelta instead.\n",
      "  df.index += _pd.TimedeltaIndex(dst_error_hours, 'h')\n",
      "/lab/mydcxiao/anaconda3/envs/bias/lib/python3.12/site-packages/yfinance/utils.py:689: FutureWarning: The 'unit' keyword in TimedeltaIndex construction is deprecated and will be removed in a future version. Use pd.to_timedelta instead.\n",
      "  df.index += _pd.TimedeltaIndex(dst_error_hours, 'h')\n"
     ]
    },
    {
     "name": "stdout",
     "output_type": "stream",
     "text": [
      "[**********************83%***************        ]  415 of 500 completed"
     ]
    },
    {
     "name": "stderr",
     "output_type": "stream",
     "text": [
      "/lab/mydcxiao/anaconda3/envs/bias/lib/python3.12/site-packages/yfinance/utils.py:689: FutureWarning: The 'unit' keyword in TimedeltaIndex construction is deprecated and will be removed in a future version. Use pd.to_timedelta instead.\n",
      "  df.index += _pd.TimedeltaIndex(dst_error_hours, 'h')\n",
      "/lab/mydcxiao/anaconda3/envs/bias/lib/python3.12/site-packages/yfinance/utils.py:689: FutureWarning: The 'unit' keyword in TimedeltaIndex construction is deprecated and will be removed in a future version. Use pd.to_timedelta instead.\n",
      "  df.index += _pd.TimedeltaIndex(dst_error_hours, 'h')\n",
      "/lab/mydcxiao/anaconda3/envs/bias/lib/python3.12/site-packages/yfinance/utils.py:689: FutureWarning: The 'unit' keyword in TimedeltaIndex construction is deprecated and will be removed in a future version. Use pd.to_timedelta instead.\n",
      "  df.index += _pd.TimedeltaIndex(dst_error_hours, 'h')\n",
      "/lab/mydcxiao/anaconda3/envs/bias/lib/python3.12/site-packages/yfinance/utils.py:689: FutureWarning: The 'unit' keyword in TimedeltaIndex construction is deprecated and will be removed in a future version. Use pd.to_timedelta instead.\n",
      "  df.index += _pd.TimedeltaIndex(dst_error_hours, 'h')\n"
     ]
    },
    {
     "name": "stdout",
     "output_type": "stream",
     "text": [
      "[**********************84%***************        ]  419 of 500 completed"
     ]
    },
    {
     "name": "stderr",
     "output_type": "stream",
     "text": [
      "/lab/mydcxiao/anaconda3/envs/bias/lib/python3.12/site-packages/yfinance/utils.py:689: FutureWarning: The 'unit' keyword in TimedeltaIndex construction is deprecated and will be removed in a future version. Use pd.to_timedelta instead.\n",
      "  df.index += _pd.TimedeltaIndex(dst_error_hours, 'h')\n",
      "/lab/mydcxiao/anaconda3/envs/bias/lib/python3.12/site-packages/yfinance/utils.py:689: FutureWarning: The 'unit' keyword in TimedeltaIndex construction is deprecated and will be removed in a future version. Use pd.to_timedelta instead.\n",
      "  df.index += _pd.TimedeltaIndex(dst_error_hours, 'h')\n",
      "/lab/mydcxiao/anaconda3/envs/bias/lib/python3.12/site-packages/yfinance/utils.py:689: FutureWarning: The 'unit' keyword in TimedeltaIndex construction is deprecated and will be removed in a future version. Use pd.to_timedelta instead.\n",
      "  df.index += _pd.TimedeltaIndex(dst_error_hours, 'h')\n",
      "/lab/mydcxiao/anaconda3/envs/bias/lib/python3.12/site-packages/yfinance/utils.py:689: FutureWarning: The 'unit' keyword in TimedeltaIndex construction is deprecated and will be removed in a future version. Use pd.to_timedelta instead.\n",
      "  df.index += _pd.TimedeltaIndex(dst_error_hours, 'h')\n"
     ]
    },
    {
     "name": "stdout",
     "output_type": "stream",
     "text": [
      "[**********************84%***************        ]  422 of 500 completed"
     ]
    },
    {
     "name": "stderr",
     "output_type": "stream",
     "text": [
      "/lab/mydcxiao/anaconda3/envs/bias/lib/python3.12/site-packages/yfinance/utils.py:689: FutureWarning: The 'unit' keyword in TimedeltaIndex construction is deprecated and will be removed in a future version. Use pd.to_timedelta instead.\n",
      "  df.index += _pd.TimedeltaIndex(dst_error_hours, 'h')\n",
      "/lab/mydcxiao/anaconda3/envs/bias/lib/python3.12/site-packages/yfinance/utils.py:689: FutureWarning: The 'unit' keyword in TimedeltaIndex construction is deprecated and will be removed in a future version. Use pd.to_timedelta instead.\n",
      "  df.index += _pd.TimedeltaIndex(dst_error_hours, 'h')\n",
      "/lab/mydcxiao/anaconda3/envs/bias/lib/python3.12/site-packages/yfinance/utils.py:689: FutureWarning: The 'unit' keyword in TimedeltaIndex construction is deprecated and will be removed in a future version. Use pd.to_timedelta instead.\n",
      "  df.index += _pd.TimedeltaIndex(dst_error_hours, 'h')\n",
      "/lab/mydcxiao/anaconda3/envs/bias/lib/python3.12/site-packages/yfinance/utils.py:689: FutureWarning: The 'unit' keyword in TimedeltaIndex construction is deprecated and will be removed in a future version. Use pd.to_timedelta instead.\n",
      "  df.index += _pd.TimedeltaIndex(dst_error_hours, 'h')\n"
     ]
    },
    {
     "name": "stdout",
     "output_type": "stream",
     "text": [
      "[**********************85%****************       ]  424 of 500 completed"
     ]
    },
    {
     "name": "stderr",
     "output_type": "stream",
     "text": [
      "/lab/mydcxiao/anaconda3/envs/bias/lib/python3.12/site-packages/yfinance/utils.py:689: FutureWarning: The 'unit' keyword in TimedeltaIndex construction is deprecated and will be removed in a future version. Use pd.to_timedelta instead.\n",
      "  df.index += _pd.TimedeltaIndex(dst_error_hours, 'h')\n",
      "/lab/mydcxiao/anaconda3/envs/bias/lib/python3.12/site-packages/yfinance/utils.py:689: FutureWarning: The 'unit' keyword in TimedeltaIndex construction is deprecated and will be removed in a future version. Use pd.to_timedelta instead.\n",
      "  df.index += _pd.TimedeltaIndex(dst_error_hours, 'h')\n",
      "/lab/mydcxiao/anaconda3/envs/bias/lib/python3.12/site-packages/yfinance/utils.py:689: FutureWarning: The 'unit' keyword in TimedeltaIndex construction is deprecated and will be removed in a future version. Use pd.to_timedelta instead.\n",
      "  df.index += _pd.TimedeltaIndex(dst_error_hours, 'h')\n",
      "/lab/mydcxiao/anaconda3/envs/bias/lib/python3.12/site-packages/yfinance/utils.py:689: FutureWarning: The 'unit' keyword in TimedeltaIndex construction is deprecated and will be removed in a future version. Use pd.to_timedelta instead.\n",
      "  df.index += _pd.TimedeltaIndex(dst_error_hours, 'h')\n",
      "/lab/mydcxiao/anaconda3/envs/bias/lib/python3.12/site-packages/yfinance/utils.py:689: FutureWarning: The 'unit' keyword in TimedeltaIndex construction is deprecated and will be removed in a future version. Use pd.to_timedelta instead.\n",
      "  df.index += _pd.TimedeltaIndex(dst_error_hours, 'h')\n"
     ]
    },
    {
     "name": "stdout",
     "output_type": "stream",
     "text": [
      "[**********************87%*****************      ]  433 of 500 completed"
     ]
    },
    {
     "name": "stderr",
     "output_type": "stream",
     "text": [
      "/lab/mydcxiao/anaconda3/envs/bias/lib/python3.12/site-packages/yfinance/utils.py:689: FutureWarning: The 'unit' keyword in TimedeltaIndex construction is deprecated and will be removed in a future version. Use pd.to_timedelta instead.\n",
      "  df.index += _pd.TimedeltaIndex(dst_error_hours, 'h')\n",
      "/lab/mydcxiao/anaconda3/envs/bias/lib/python3.12/site-packages/yfinance/utils.py:689: FutureWarning: The 'unit' keyword in TimedeltaIndex construction is deprecated and will be removed in a future version. Use pd.to_timedelta instead.\n",
      "  df.index += _pd.TimedeltaIndex(dst_error_hours, 'h')\n",
      "/lab/mydcxiao/anaconda3/envs/bias/lib/python3.12/site-packages/yfinance/utils.py:689: FutureWarning: The 'unit' keyword in TimedeltaIndex construction is deprecated and will be removed in a future version. Use pd.to_timedelta instead.\n",
      "  df.index += _pd.TimedeltaIndex(dst_error_hours, 'h')\n",
      "/lab/mydcxiao/anaconda3/envs/bias/lib/python3.12/site-packages/yfinance/utils.py:689: FutureWarning: The 'unit' keyword in TimedeltaIndex construction is deprecated and will be removed in a future version. Use pd.to_timedelta instead.\n",
      "  df.index += _pd.TimedeltaIndex(dst_error_hours, 'h')\n"
     ]
    },
    {
     "name": "stdout",
     "output_type": "stream",
     "text": [
      "[**********************87%*****************      ]  436 of 500 completed"
     ]
    },
    {
     "name": "stderr",
     "output_type": "stream",
     "text": [
      "/lab/mydcxiao/anaconda3/envs/bias/lib/python3.12/site-packages/yfinance/utils.py:689: FutureWarning: The 'unit' keyword in TimedeltaIndex construction is deprecated and will be removed in a future version. Use pd.to_timedelta instead.\n",
      "  df.index += _pd.TimedeltaIndex(dst_error_hours, 'h')\n",
      "/lab/mydcxiao/anaconda3/envs/bias/lib/python3.12/site-packages/yfinance/utils.py:689: FutureWarning: The 'unit' keyword in TimedeltaIndex construction is deprecated and will be removed in a future version. Use pd.to_timedelta instead.\n",
      "  df.index += _pd.TimedeltaIndex(dst_error_hours, 'h')\n",
      "/lab/mydcxiao/anaconda3/envs/bias/lib/python3.12/site-packages/yfinance/utils.py:689: FutureWarning: The 'unit' keyword in TimedeltaIndex construction is deprecated and will be removed in a future version. Use pd.to_timedelta instead.\n",
      "  df.index += _pd.TimedeltaIndex(dst_error_hours, 'h')\n",
      "/lab/mydcxiao/anaconda3/envs/bias/lib/python3.12/site-packages/yfinance/utils.py:689: FutureWarning: The 'unit' keyword in TimedeltaIndex construction is deprecated and will be removed in a future version. Use pd.to_timedelta instead.\n",
      "  df.index += _pd.TimedeltaIndex(dst_error_hours, 'h')\n",
      "/lab/mydcxiao/anaconda3/envs/bias/lib/python3.12/site-packages/yfinance/utils.py:689: FutureWarning: The 'unit' keyword in TimedeltaIndex construction is deprecated and will be removed in a future version. Use pd.to_timedelta instead.\n",
      "  df.index += _pd.TimedeltaIndex(dst_error_hours, 'h')\n"
     ]
    },
    {
     "name": "stdout",
     "output_type": "stream",
     "text": [
      "[**********************88%*****************      ]  439 of 500 completed"
     ]
    },
    {
     "name": "stderr",
     "output_type": "stream",
     "text": [
      "/lab/mydcxiao/anaconda3/envs/bias/lib/python3.12/site-packages/yfinance/utils.py:689: FutureWarning: The 'unit' keyword in TimedeltaIndex construction is deprecated and will be removed in a future version. Use pd.to_timedelta instead.\n",
      "  df.index += _pd.TimedeltaIndex(dst_error_hours, 'h')\n",
      "/lab/mydcxiao/anaconda3/envs/bias/lib/python3.12/site-packages/yfinance/utils.py:689: FutureWarning: The 'unit' keyword in TimedeltaIndex construction is deprecated and will be removed in a future version. Use pd.to_timedelta instead.\n",
      "  df.index += _pd.TimedeltaIndex(dst_error_hours, 'h')\n",
      "/lab/mydcxiao/anaconda3/envs/bias/lib/python3.12/site-packages/yfinance/utils.py:689: FutureWarning: The 'unit' keyword in TimedeltaIndex construction is deprecated and will be removed in a future version. Use pd.to_timedelta instead.\n",
      "  df.index += _pd.TimedeltaIndex(dst_error_hours, 'h')\n",
      "/lab/mydcxiao/anaconda3/envs/bias/lib/python3.12/site-packages/yfinance/utils.py:689: FutureWarning: The 'unit' keyword in TimedeltaIndex construction is deprecated and will be removed in a future version. Use pd.to_timedelta instead.\n",
      "  df.index += _pd.TimedeltaIndex(dst_error_hours, 'h')\n",
      "/lab/mydcxiao/anaconda3/envs/bias/lib/python3.12/site-packages/yfinance/utils.py:689: FutureWarning: The 'unit' keyword in TimedeltaIndex construction is deprecated and will be removed in a future version. Use pd.to_timedelta instead.\n",
      "  df.index += _pd.TimedeltaIndex(dst_error_hours, 'h')\n"
     ]
    },
    {
     "name": "stdout",
     "output_type": "stream",
     "text": [
      "[**********************89%******************     ]  446 of 500 completed"
     ]
    },
    {
     "name": "stderr",
     "output_type": "stream",
     "text": [
      "/lab/mydcxiao/anaconda3/envs/bias/lib/python3.12/site-packages/yfinance/utils.py:689: FutureWarning: The 'unit' keyword in TimedeltaIndex construction is deprecated and will be removed in a future version. Use pd.to_timedelta instead.\n",
      "  df.index += _pd.TimedeltaIndex(dst_error_hours, 'h')\n",
      "/lab/mydcxiao/anaconda3/envs/bias/lib/python3.12/site-packages/yfinance/utils.py:689: FutureWarning: The 'unit' keyword in TimedeltaIndex construction is deprecated and will be removed in a future version. Use pd.to_timedelta instead.\n",
      "  df.index += _pd.TimedeltaIndex(dst_error_hours, 'h')\n",
      "/lab/mydcxiao/anaconda3/envs/bias/lib/python3.12/site-packages/yfinance/utils.py:689: FutureWarning: The 'unit' keyword in TimedeltaIndex construction is deprecated and will be removed in a future version. Use pd.to_timedelta instead.\n",
      "  df.index += _pd.TimedeltaIndex(dst_error_hours, 'h')\n",
      "/lab/mydcxiao/anaconda3/envs/bias/lib/python3.12/site-packages/yfinance/utils.py:689: FutureWarning: The 'unit' keyword in TimedeltaIndex construction is deprecated and will be removed in a future version. Use pd.to_timedelta instead.\n",
      "  df.index += _pd.TimedeltaIndex(dst_error_hours, 'h')\n"
     ]
    },
    {
     "name": "stdout",
     "output_type": "stream",
     "text": [
      "[**********************90%******************     ]  449 of 500 completed"
     ]
    },
    {
     "name": "stderr",
     "output_type": "stream",
     "text": [
      "/lab/mydcxiao/anaconda3/envs/bias/lib/python3.12/site-packages/yfinance/utils.py:689: FutureWarning: The 'unit' keyword in TimedeltaIndex construction is deprecated and will be removed in a future version. Use pd.to_timedelta instead.\n",
      "  df.index += _pd.TimedeltaIndex(dst_error_hours, 'h')\n",
      "/lab/mydcxiao/anaconda3/envs/bias/lib/python3.12/site-packages/yfinance/utils.py:689: FutureWarning: The 'unit' keyword in TimedeltaIndex construction is deprecated and will be removed in a future version. Use pd.to_timedelta instead.\n",
      "  df.index += _pd.TimedeltaIndex(dst_error_hours, 'h')\n",
      "/lab/mydcxiao/anaconda3/envs/bias/lib/python3.12/site-packages/yfinance/utils.py:689: FutureWarning: The 'unit' keyword in TimedeltaIndex construction is deprecated and will be removed in a future version. Use pd.to_timedelta instead.\n",
      "  df.index += _pd.TimedeltaIndex(dst_error_hours, 'h')\n",
      "/lab/mydcxiao/anaconda3/envs/bias/lib/python3.12/site-packages/yfinance/utils.py:689: FutureWarning: The 'unit' keyword in TimedeltaIndex construction is deprecated and will be removed in a future version. Use pd.to_timedelta instead.\n",
      "  df.index += _pd.TimedeltaIndex(dst_error_hours, 'h')\n",
      "/lab/mydcxiao/anaconda3/envs/bias/lib/python3.12/site-packages/yfinance/utils.py:689: FutureWarning: The 'unit' keyword in TimedeltaIndex construction is deprecated and will be removed in a future version. Use pd.to_timedelta instead.\n",
      "  df.index += _pd.TimedeltaIndex(dst_error_hours, 'h')\n"
     ]
    },
    {
     "name": "stdout",
     "output_type": "stream",
     "text": [
      "[**********************91%*******************    ]  455 of 500 completed"
     ]
    },
    {
     "name": "stderr",
     "output_type": "stream",
     "text": [
      "/lab/mydcxiao/anaconda3/envs/bias/lib/python3.12/site-packages/yfinance/utils.py:689: FutureWarning: The 'unit' keyword in TimedeltaIndex construction is deprecated and will be removed in a future version. Use pd.to_timedelta instead.\n",
      "  df.index += _pd.TimedeltaIndex(dst_error_hours, 'h')\n",
      "/lab/mydcxiao/anaconda3/envs/bias/lib/python3.12/site-packages/yfinance/utils.py:689: FutureWarning: The 'unit' keyword in TimedeltaIndex construction is deprecated and will be removed in a future version. Use pd.to_timedelta instead.\n",
      "  df.index += _pd.TimedeltaIndex(dst_error_hours, 'h')\n",
      "/lab/mydcxiao/anaconda3/envs/bias/lib/python3.12/site-packages/yfinance/utils.py:689: FutureWarning: The 'unit' keyword in TimedeltaIndex construction is deprecated and will be removed in a future version. Use pd.to_timedelta instead.\n",
      "  df.index += _pd.TimedeltaIndex(dst_error_hours, 'h')\n"
     ]
    },
    {
     "name": "stdout",
     "output_type": "stream",
     "text": [
      "[**********************91%*******************    ]  457 of 500 completed"
     ]
    },
    {
     "name": "stderr",
     "output_type": "stream",
     "text": [
      "/lab/mydcxiao/anaconda3/envs/bias/lib/python3.12/site-packages/yfinance/utils.py:689: FutureWarning: The 'unit' keyword in TimedeltaIndex construction is deprecated and will be removed in a future version. Use pd.to_timedelta instead.\n",
      "  df.index += _pd.TimedeltaIndex(dst_error_hours, 'h')\n",
      "/lab/mydcxiao/anaconda3/envs/bias/lib/python3.12/site-packages/yfinance/utils.py:689: FutureWarning: The 'unit' keyword in TimedeltaIndex construction is deprecated and will be removed in a future version. Use pd.to_timedelta instead.\n",
      "  df.index += _pd.TimedeltaIndex(dst_error_hours, 'h')\n",
      "/lab/mydcxiao/anaconda3/envs/bias/lib/python3.12/site-packages/yfinance/utils.py:689: FutureWarning: The 'unit' keyword in TimedeltaIndex construction is deprecated and will be removed in a future version. Use pd.to_timedelta instead.\n",
      "  df.index += _pd.TimedeltaIndex(dst_error_hours, 'h')\n",
      "/lab/mydcxiao/anaconda3/envs/bias/lib/python3.12/site-packages/yfinance/utils.py:689: FutureWarning: The 'unit' keyword in TimedeltaIndex construction is deprecated and will be removed in a future version. Use pd.to_timedelta instead.\n",
      "  df.index += _pd.TimedeltaIndex(dst_error_hours, 'h')\n",
      "/lab/mydcxiao/anaconda3/envs/bias/lib/python3.12/site-packages/yfinance/utils.py:689: FutureWarning: The 'unit' keyword in TimedeltaIndex construction is deprecated and will be removed in a future version. Use pd.to_timedelta instead.\n",
      "  df.index += _pd.TimedeltaIndex(dst_error_hours, 'h')\n"
     ]
    },
    {
     "name": "stdout",
     "output_type": "stream",
     "text": [
      "[**********************93%********************   ]  463 of 500 completed"
     ]
    },
    {
     "name": "stderr",
     "output_type": "stream",
     "text": [
      "/lab/mydcxiao/anaconda3/envs/bias/lib/python3.12/site-packages/yfinance/utils.py:689: FutureWarning: The 'unit' keyword in TimedeltaIndex construction is deprecated and will be removed in a future version. Use pd.to_timedelta instead.\n",
      "  df.index += _pd.TimedeltaIndex(dst_error_hours, 'h')\n",
      "/lab/mydcxiao/anaconda3/envs/bias/lib/python3.12/site-packages/yfinance/utils.py:689: FutureWarning: The 'unit' keyword in TimedeltaIndex construction is deprecated and will be removed in a future version. Use pd.to_timedelta instead.\n",
      "  df.index += _pd.TimedeltaIndex(dst_error_hours, 'h')\n",
      "/lab/mydcxiao/anaconda3/envs/bias/lib/python3.12/site-packages/yfinance/utils.py:689: FutureWarning: The 'unit' keyword in TimedeltaIndex construction is deprecated and will be removed in a future version. Use pd.to_timedelta instead.\n",
      "  df.index += _pd.TimedeltaIndex(dst_error_hours, 'h')\n"
     ]
    },
    {
     "name": "stdout",
     "output_type": "stream",
     "text": [
      "[**********************93%********************   ]  466 of 500 completed"
     ]
    },
    {
     "name": "stderr",
     "output_type": "stream",
     "text": [
      "/lab/mydcxiao/anaconda3/envs/bias/lib/python3.12/site-packages/yfinance/utils.py:689: FutureWarning: The 'unit' keyword in TimedeltaIndex construction is deprecated and will be removed in a future version. Use pd.to_timedelta instead.\n",
      "  df.index += _pd.TimedeltaIndex(dst_error_hours, 'h')\n",
      "/lab/mydcxiao/anaconda3/envs/bias/lib/python3.12/site-packages/yfinance/utils.py:689: FutureWarning: The 'unit' keyword in TimedeltaIndex construction is deprecated and will be removed in a future version. Use pd.to_timedelta instead.\n",
      "  df.index += _pd.TimedeltaIndex(dst_error_hours, 'h')\n",
      "/lab/mydcxiao/anaconda3/envs/bias/lib/python3.12/site-packages/yfinance/utils.py:689: FutureWarning: The 'unit' keyword in TimedeltaIndex construction is deprecated and will be removed in a future version. Use pd.to_timedelta instead.\n",
      "  df.index += _pd.TimedeltaIndex(dst_error_hours, 'h')\n",
      "/lab/mydcxiao/anaconda3/envs/bias/lib/python3.12/site-packages/yfinance/utils.py:689: FutureWarning: The 'unit' keyword in TimedeltaIndex construction is deprecated and will be removed in a future version. Use pd.to_timedelta instead.\n",
      "  df.index += _pd.TimedeltaIndex(dst_error_hours, 'h')\n",
      "/lab/mydcxiao/anaconda3/envs/bias/lib/python3.12/site-packages/yfinance/utils.py:689: FutureWarning: The 'unit' keyword in TimedeltaIndex construction is deprecated and will be removed in a future version. Use pd.to_timedelta instead.\n",
      "  df.index += _pd.TimedeltaIndex(dst_error_hours, 'h')\n"
     ]
    },
    {
     "name": "stdout",
     "output_type": "stream",
     "text": [
      "[**********************94%********************   ]  469 of 500 completed"
     ]
    },
    {
     "name": "stderr",
     "output_type": "stream",
     "text": [
      "/lab/mydcxiao/anaconda3/envs/bias/lib/python3.12/site-packages/yfinance/utils.py:689: FutureWarning: The 'unit' keyword in TimedeltaIndex construction is deprecated and will be removed in a future version. Use pd.to_timedelta instead.\n",
      "  df.index += _pd.TimedeltaIndex(dst_error_hours, 'h')\n",
      "/lab/mydcxiao/anaconda3/envs/bias/lib/python3.12/site-packages/yfinance/utils.py:689: FutureWarning: The 'unit' keyword in TimedeltaIndex construction is deprecated and will be removed in a future version. Use pd.to_timedelta instead.\n",
      "  df.index += _pd.TimedeltaIndex(dst_error_hours, 'h')\n",
      "/lab/mydcxiao/anaconda3/envs/bias/lib/python3.12/site-packages/yfinance/utils.py:689: FutureWarning: The 'unit' keyword in TimedeltaIndex construction is deprecated and will be removed in a future version. Use pd.to_timedelta instead.\n",
      "  df.index += _pd.TimedeltaIndex(dst_error_hours, 'h')\n",
      "/lab/mydcxiao/anaconda3/envs/bias/lib/python3.12/site-packages/yfinance/utils.py:689: FutureWarning: The 'unit' keyword in TimedeltaIndex construction is deprecated and will be removed in a future version. Use pd.to_timedelta instead.\n",
      "  df.index += _pd.TimedeltaIndex(dst_error_hours, 'h')\n"
     ]
    },
    {
     "name": "stdout",
     "output_type": "stream",
     "text": [
      "[**********************95%*********************  ]  475 of 500 completed"
     ]
    },
    {
     "name": "stderr",
     "output_type": "stream",
     "text": [
      "/lab/mydcxiao/anaconda3/envs/bias/lib/python3.12/site-packages/yfinance/utils.py:689: FutureWarning: The 'unit' keyword in TimedeltaIndex construction is deprecated and will be removed in a future version. Use pd.to_timedelta instead.\n",
      "  df.index += _pd.TimedeltaIndex(dst_error_hours, 'h')\n",
      "/lab/mydcxiao/anaconda3/envs/bias/lib/python3.12/site-packages/yfinance/utils.py:689: FutureWarning: The 'unit' keyword in TimedeltaIndex construction is deprecated and will be removed in a future version. Use pd.to_timedelta instead.\n",
      "  df.index += _pd.TimedeltaIndex(dst_error_hours, 'h')\n",
      "/lab/mydcxiao/anaconda3/envs/bias/lib/python3.12/site-packages/yfinance/utils.py:689: FutureWarning: The 'unit' keyword in TimedeltaIndex construction is deprecated and will be removed in a future version. Use pd.to_timedelta instead.\n",
      "  df.index += _pd.TimedeltaIndex(dst_error_hours, 'h')\n",
      "/lab/mydcxiao/anaconda3/envs/bias/lib/python3.12/site-packages/yfinance/utils.py:689: FutureWarning: The 'unit' keyword in TimedeltaIndex construction is deprecated and will be removed in a future version. Use pd.to_timedelta instead.\n",
      "  df.index += _pd.TimedeltaIndex(dst_error_hours, 'h')\n"
     ]
    },
    {
     "name": "stdout",
     "output_type": "stream",
     "text": [
      "[**********************96%*********************  ]  478 of 500 completed"
     ]
    },
    {
     "name": "stderr",
     "output_type": "stream",
     "text": [
      "/lab/mydcxiao/anaconda3/envs/bias/lib/python3.12/site-packages/yfinance/utils.py:689: FutureWarning: The 'unit' keyword in TimedeltaIndex construction is deprecated and will be removed in a future version. Use pd.to_timedelta instead.\n",
      "  df.index += _pd.TimedeltaIndex(dst_error_hours, 'h')\n",
      "/lab/mydcxiao/anaconda3/envs/bias/lib/python3.12/site-packages/yfinance/utils.py:689: FutureWarning: The 'unit' keyword in TimedeltaIndex construction is deprecated and will be removed in a future version. Use pd.to_timedelta instead.\n",
      "  df.index += _pd.TimedeltaIndex(dst_error_hours, 'h')\n",
      "/lab/mydcxiao/anaconda3/envs/bias/lib/python3.12/site-packages/yfinance/utils.py:689: FutureWarning: The 'unit' keyword in TimedeltaIndex construction is deprecated and will be removed in a future version. Use pd.to_timedelta instead.\n",
      "  df.index += _pd.TimedeltaIndex(dst_error_hours, 'h')\n",
      "/lab/mydcxiao/anaconda3/envs/bias/lib/python3.12/site-packages/yfinance/utils.py:689: FutureWarning: The 'unit' keyword in TimedeltaIndex construction is deprecated and will be removed in a future version. Use pd.to_timedelta instead.\n",
      "  df.index += _pd.TimedeltaIndex(dst_error_hours, 'h')\n"
     ]
    },
    {
     "name": "stdout",
     "output_type": "stream",
     "text": [
      "[**********************96%*********************  ]  482 of 500 completed"
     ]
    },
    {
     "name": "stderr",
     "output_type": "stream",
     "text": [
      "/lab/mydcxiao/anaconda3/envs/bias/lib/python3.12/site-packages/yfinance/utils.py:689: FutureWarning: The 'unit' keyword in TimedeltaIndex construction is deprecated and will be removed in a future version. Use pd.to_timedelta instead.\n",
      "  df.index += _pd.TimedeltaIndex(dst_error_hours, 'h')\n",
      "/lab/mydcxiao/anaconda3/envs/bias/lib/python3.12/site-packages/yfinance/utils.py:689: FutureWarning: The 'unit' keyword in TimedeltaIndex construction is deprecated and will be removed in a future version. Use pd.to_timedelta instead.\n",
      "  df.index += _pd.TimedeltaIndex(dst_error_hours, 'h')\n",
      "/lab/mydcxiao/anaconda3/envs/bias/lib/python3.12/site-packages/yfinance/utils.py:689: FutureWarning: The 'unit' keyword in TimedeltaIndex construction is deprecated and will be removed in a future version. Use pd.to_timedelta instead.\n",
      "  df.index += _pd.TimedeltaIndex(dst_error_hours, 'h')\n",
      "/lab/mydcxiao/anaconda3/envs/bias/lib/python3.12/site-packages/yfinance/utils.py:689: FutureWarning: The 'unit' keyword in TimedeltaIndex construction is deprecated and will be removed in a future version. Use pd.to_timedelta instead.\n",
      "  df.index += _pd.TimedeltaIndex(dst_error_hours, 'h')\n"
     ]
    },
    {
     "name": "stdout",
     "output_type": "stream",
     "text": [
      "[**********************97%********************** ]  486 of 500 completed"
     ]
    },
    {
     "name": "stderr",
     "output_type": "stream",
     "text": [
      "/lab/mydcxiao/anaconda3/envs/bias/lib/python3.12/site-packages/yfinance/utils.py:689: FutureWarning: The 'unit' keyword in TimedeltaIndex construction is deprecated and will be removed in a future version. Use pd.to_timedelta instead.\n",
      "  df.index += _pd.TimedeltaIndex(dst_error_hours, 'h')\n",
      "/lab/mydcxiao/anaconda3/envs/bias/lib/python3.12/site-packages/yfinance/utils.py:689: FutureWarning: The 'unit' keyword in TimedeltaIndex construction is deprecated and will be removed in a future version. Use pd.to_timedelta instead.\n",
      "  df.index += _pd.TimedeltaIndex(dst_error_hours, 'h')\n",
      "/lab/mydcxiao/anaconda3/envs/bias/lib/python3.12/site-packages/yfinance/utils.py:689: FutureWarning: The 'unit' keyword in TimedeltaIndex construction is deprecated and will be removed in a future version. Use pd.to_timedelta instead.\n",
      "  df.index += _pd.TimedeltaIndex(dst_error_hours, 'h')\n",
      "/lab/mydcxiao/anaconda3/envs/bias/lib/python3.12/site-packages/yfinance/utils.py:689: FutureWarning: The 'unit' keyword in TimedeltaIndex construction is deprecated and will be removed in a future version. Use pd.to_timedelta instead.\n",
      "  df.index += _pd.TimedeltaIndex(dst_error_hours, 'h')\n"
     ]
    },
    {
     "name": "stdout",
     "output_type": "stream",
     "text": [
      "[**********************98%********************** ]  489 of 500 completed"
     ]
    },
    {
     "name": "stderr",
     "output_type": "stream",
     "text": [
      "/lab/mydcxiao/anaconda3/envs/bias/lib/python3.12/site-packages/yfinance/utils.py:689: FutureWarning: The 'unit' keyword in TimedeltaIndex construction is deprecated and will be removed in a future version. Use pd.to_timedelta instead.\n",
      "  df.index += _pd.TimedeltaIndex(dst_error_hours, 'h')\n",
      "/lab/mydcxiao/anaconda3/envs/bias/lib/python3.12/site-packages/yfinance/utils.py:689: FutureWarning: The 'unit' keyword in TimedeltaIndex construction is deprecated and will be removed in a future version. Use pd.to_timedelta instead.\n",
      "  df.index += _pd.TimedeltaIndex(dst_error_hours, 'h')\n",
      "/lab/mydcxiao/anaconda3/envs/bias/lib/python3.12/site-packages/yfinance/utils.py:689: FutureWarning: The 'unit' keyword in TimedeltaIndex construction is deprecated and will be removed in a future version. Use pd.to_timedelta instead.\n",
      "  df.index += _pd.TimedeltaIndex(dst_error_hours, 'h')\n",
      "/lab/mydcxiao/anaconda3/envs/bias/lib/python3.12/site-packages/yfinance/utils.py:689: FutureWarning: The 'unit' keyword in TimedeltaIndex construction is deprecated and will be removed in a future version. Use pd.to_timedelta instead.\n",
      "  df.index += _pd.TimedeltaIndex(dst_error_hours, 'h')\n"
     ]
    },
    {
     "name": "stdout",
     "output_type": "stream",
     "text": [
      "[**********************99%***********************]  495 of 500 completed"
     ]
    },
    {
     "name": "stderr",
     "output_type": "stream",
     "text": [
      "/lab/mydcxiao/anaconda3/envs/bias/lib/python3.12/site-packages/yfinance/utils.py:689: FutureWarning: The 'unit' keyword in TimedeltaIndex construction is deprecated and will be removed in a future version. Use pd.to_timedelta instead.\n",
      "  df.index += _pd.TimedeltaIndex(dst_error_hours, 'h')\n",
      "/lab/mydcxiao/anaconda3/envs/bias/lib/python3.12/site-packages/yfinance/utils.py:689: FutureWarning: The 'unit' keyword in TimedeltaIndex construction is deprecated and will be removed in a future version. Use pd.to_timedelta instead.\n",
      "  df.index += _pd.TimedeltaIndex(dst_error_hours, 'h')\n",
      "/lab/mydcxiao/anaconda3/envs/bias/lib/python3.12/site-packages/yfinance/utils.py:689: FutureWarning: The 'unit' keyword in TimedeltaIndex construction is deprecated and will be removed in a future version. Use pd.to_timedelta instead.\n",
      "  df.index += _pd.TimedeltaIndex(dst_error_hours, 'h')\n",
      "/lab/mydcxiao/anaconda3/envs/bias/lib/python3.12/site-packages/yfinance/utils.py:689: FutureWarning: The 'unit' keyword in TimedeltaIndex construction is deprecated and will be removed in a future version. Use pd.to_timedelta instead.\n",
      "  df.index += _pd.TimedeltaIndex(dst_error_hours, 'h')\n",
      "/lab/mydcxiao/anaconda3/envs/bias/lib/python3.12/site-packages/yfinance/utils.py:689: FutureWarning: The 'unit' keyword in TimedeltaIndex construction is deprecated and will be removed in a future version. Use pd.to_timedelta instead.\n",
      "  df.index += _pd.TimedeltaIndex(dst_error_hours, 'h')\n"
     ]
    },
    {
     "name": "stdout",
     "output_type": "stream",
     "text": [
      "[*********************100%***********************]  500 of 500 completed\n",
      "\n",
      "10 Failed downloads:\n",
      "- ETN: InterfaceError('bad parameter or other API misuse')\n",
      "- DG: InterfaceError('bad parameter or other API misuse')\n",
      "- MKTX: InterfaceError('bad parameter or other API misuse')\n",
      "- RL: InterfaceError('bad parameter or other API misuse')\n",
      "- SOLV: InterfaceError('bad parameter or other API misuse')\n",
      "- LLY: IndexError('tuple index out of range')\n",
      "- AXON: IndexError('tuple index out of range')\n",
      "- DRI: IndexError('tuple index out of range')\n",
      "- KMB: IndexError('tuple index out of range')\n",
      "- ODFL: InterfaceError('bad parameter or other API misuse')\n"
     ]
    },
    {
     "name": "stderr",
     "output_type": "stream",
     "text": [
      "/lab/mydcxiao/anaconda3/envs/bias/lib/python3.12/site-packages/yfinance/utils.py:689: FutureWarning: The 'unit' keyword in TimedeltaIndex construction is deprecated and will be removed in a future version. Use pd.to_timedelta instead.\n",
      "  df.index += _pd.TimedeltaIndex(dst_error_hours, 'h')\n",
      "/lab/mydcxiao/anaconda3/envs/bias/lib/python3.12/site-packages/yfinance/utils.py:689: FutureWarning: The 'unit' keyword in TimedeltaIndex construction is deprecated and will be removed in a future version. Use pd.to_timedelta instead.\n",
      "  df.index += _pd.TimedeltaIndex(dst_error_hours, 'h')\n"
     ]
    },
    {
     "data": {
      "text/html": [
       "<div>\n",
       "<style scoped>\n",
       "    .dataframe tbody tr th:only-of-type {\n",
       "        vertical-align: middle;\n",
       "    }\n",
       "\n",
       "    .dataframe tbody tr th {\n",
       "        vertical-align: top;\n",
       "    }\n",
       "\n",
       "    .dataframe thead tr th {\n",
       "        text-align: left;\n",
       "    }\n",
       "\n",
       "    .dataframe thead tr:last-of-type th {\n",
       "        text-align: right;\n",
       "    }\n",
       "</style>\n",
       "<table border=\"1\" class=\"dataframe\">\n",
       "  <thead>\n",
       "    <tr>\n",
       "      <th></th>\n",
       "      <th colspan=\"10\" halign=\"left\">Adj Close</th>\n",
       "      <th>...</th>\n",
       "      <th colspan=\"10\" halign=\"left\">Volume</th>\n",
       "    </tr>\n",
       "    <tr>\n",
       "      <th></th>\n",
       "      <th>A</th>\n",
       "      <th>AAL</th>\n",
       "      <th>AAPL</th>\n",
       "      <th>ABBV</th>\n",
       "      <th>ABNB</th>\n",
       "      <th>ABT</th>\n",
       "      <th>ACGL</th>\n",
       "      <th>ACN</th>\n",
       "      <th>ADBE</th>\n",
       "      <th>ADI</th>\n",
       "      <th>...</th>\n",
       "      <th>WST</th>\n",
       "      <th>WTW</th>\n",
       "      <th>WY</th>\n",
       "      <th>WYNN</th>\n",
       "      <th>XEL</th>\n",
       "      <th>XOM</th>\n",
       "      <th>XYL</th>\n",
       "      <th>YUM</th>\n",
       "      <th>ZBH</th>\n",
       "      <th>ZBRA</th>\n",
       "    </tr>\n",
       "    <tr>\n",
       "      <th>Date</th>\n",
       "      <th></th>\n",
       "      <th></th>\n",
       "      <th></th>\n",
       "      <th></th>\n",
       "      <th></th>\n",
       "      <th></th>\n",
       "      <th></th>\n",
       "      <th></th>\n",
       "      <th></th>\n",
       "      <th></th>\n",
       "      <th></th>\n",
       "      <th></th>\n",
       "      <th></th>\n",
       "      <th></th>\n",
       "      <th></th>\n",
       "      <th></th>\n",
       "      <th></th>\n",
       "      <th></th>\n",
       "      <th></th>\n",
       "      <th></th>\n",
       "      <th></th>\n",
       "    </tr>\n",
       "  </thead>\n",
       "  <tbody>\n",
       "    <tr>\n",
       "      <th>2000-01-03 00:00:00</th>\n",
       "      <td>43.613014</td>\n",
       "      <td>NaN</td>\n",
       "      <td>0.846127</td>\n",
       "      <td>NaN</td>\n",
       "      <td>NaN</td>\n",
       "      <td>9.037446</td>\n",
       "      <td>1.277778</td>\n",
       "      <td>NaN</td>\n",
       "      <td>16.274672</td>\n",
       "      <td>28.438293</td>\n",
       "      <td>...</td>\n",
       "      <td>29200</td>\n",
       "      <td>NaN</td>\n",
       "      <td>973700</td>\n",
       "      <td>NaN</td>\n",
       "      <td>2738600</td>\n",
       "      <td>13458200</td>\n",
       "      <td>NaN</td>\n",
       "      <td>3033493</td>\n",
       "      <td>NaN</td>\n",
       "      <td>1055700</td>\n",
       "    </tr>\n",
       "    <tr>\n",
       "      <th>2000-01-04 00:00:00</th>\n",
       "      <td>40.281467</td>\n",
       "      <td>NaN</td>\n",
       "      <td>0.774790</td>\n",
       "      <td>NaN</td>\n",
       "      <td>NaN</td>\n",
       "      <td>8.779240</td>\n",
       "      <td>1.270833</td>\n",
       "      <td>NaN</td>\n",
       "      <td>14.909401</td>\n",
       "      <td>26.999628</td>\n",
       "      <td>...</td>\n",
       "      <td>555600</td>\n",
       "      <td>NaN</td>\n",
       "      <td>1201700</td>\n",
       "      <td>NaN</td>\n",
       "      <td>425200</td>\n",
       "      <td>14510800</td>\n",
       "      <td>NaN</td>\n",
       "      <td>3315031</td>\n",
       "      <td>NaN</td>\n",
       "      <td>522450</td>\n",
       "    </tr>\n",
       "    <tr>\n",
       "      <th>2000-01-05 00:00:00</th>\n",
       "      <td>37.782784</td>\n",
       "      <td>NaN</td>\n",
       "      <td>0.786128</td>\n",
       "      <td>NaN</td>\n",
       "      <td>NaN</td>\n",
       "      <td>8.763096</td>\n",
       "      <td>1.388889</td>\n",
       "      <td>NaN</td>\n",
       "      <td>15.204174</td>\n",
       "      <td>27.393772</td>\n",
       "      <td>...</td>\n",
       "      <td>222400</td>\n",
       "      <td>NaN</td>\n",
       "      <td>1184600</td>\n",
       "      <td>NaN</td>\n",
       "      <td>500200</td>\n",
       "      <td>17485000</td>\n",
       "      <td>NaN</td>\n",
       "      <td>4642602</td>\n",
       "      <td>NaN</td>\n",
       "      <td>612225</td>\n",
       "    </tr>\n",
       "    <tr>\n",
       "      <th>2000-01-06 00:00:00</th>\n",
       "      <td>36.344177</td>\n",
       "      <td>NaN</td>\n",
       "      <td>0.718097</td>\n",
       "      <td>NaN</td>\n",
       "      <td>NaN</td>\n",
       "      <td>9.069727</td>\n",
       "      <td>1.375000</td>\n",
       "      <td>NaN</td>\n",
       "      <td>15.328290</td>\n",
       "      <td>26.644878</td>\n",
       "      <td>...</td>\n",
       "      <td>97600</td>\n",
       "      <td>NaN</td>\n",
       "      <td>1307700</td>\n",
       "      <td>NaN</td>\n",
       "      <td>344100</td>\n",
       "      <td>19461600</td>\n",
       "      <td>NaN</td>\n",
       "      <td>3947658</td>\n",
       "      <td>NaN</td>\n",
       "      <td>263925</td>\n",
       "    </tr>\n",
       "    <tr>\n",
       "      <th>2000-01-07 00:00:00</th>\n",
       "      <td>39.372864</td>\n",
       "      <td>NaN</td>\n",
       "      <td>0.752113</td>\n",
       "      <td>NaN</td>\n",
       "      <td>NaN</td>\n",
       "      <td>9.166554</td>\n",
       "      <td>1.451389</td>\n",
       "      <td>NaN</td>\n",
       "      <td>16.072981</td>\n",
       "      <td>27.393772</td>\n",
       "      <td>...</td>\n",
       "      <td>86400</td>\n",
       "      <td>NaN</td>\n",
       "      <td>1728000</td>\n",
       "      <td>NaN</td>\n",
       "      <td>469500</td>\n",
       "      <td>16603800</td>\n",
       "      <td>NaN</td>\n",
       "      <td>6063647</td>\n",
       "      <td>NaN</td>\n",
       "      <td>333900</td>\n",
       "    </tr>\n",
       "  </tbody>\n",
       "</table>\n",
       "<p>5 rows × 3000 columns</p>\n",
       "</div>"
      ],
      "text/plain": [
       "                     Adj Close                                              \\\n",
       "                             A AAL      AAPL ABBV ABNB       ABT      ACGL   \n",
       "Date                                                                         \n",
       "2000-01-03 00:00:00  43.613014 NaN  0.846127  NaN  NaN  9.037446  1.277778   \n",
       "2000-01-04 00:00:00  40.281467 NaN  0.774790  NaN  NaN  8.779240  1.270833   \n",
       "2000-01-05 00:00:00  37.782784 NaN  0.786128  NaN  NaN  8.763096  1.388889   \n",
       "2000-01-06 00:00:00  36.344177 NaN  0.718097  NaN  NaN  9.069727  1.375000   \n",
       "2000-01-07 00:00:00  39.372864 NaN  0.752113  NaN  NaN  9.166554  1.451389   \n",
       "\n",
       "                                               ...  Volume                    \\\n",
       "                    ACN       ADBE        ADI  ...     WST WTW       WY WYNN   \n",
       "Date                                           ...                             \n",
       "2000-01-03 00:00:00 NaN  16.274672  28.438293  ...   29200 NaN   973700  NaN   \n",
       "2000-01-04 00:00:00 NaN  14.909401  26.999628  ...  555600 NaN  1201700  NaN   \n",
       "2000-01-05 00:00:00 NaN  15.204174  27.393772  ...  222400 NaN  1184600  NaN   \n",
       "2000-01-06 00:00:00 NaN  15.328290  26.644878  ...   97600 NaN  1307700  NaN   \n",
       "2000-01-07 00:00:00 NaN  16.072981  27.393772  ...   86400 NaN  1728000  NaN   \n",
       "\n",
       "                                                                  \n",
       "                         XEL       XOM XYL      YUM ZBH     ZBRA  \n",
       "Date                                                              \n",
       "2000-01-03 00:00:00  2738600  13458200 NaN  3033493 NaN  1055700  \n",
       "2000-01-04 00:00:00   425200  14510800 NaN  3315031 NaN   522450  \n",
       "2000-01-05 00:00:00   500200  17485000 NaN  4642602 NaN   612225  \n",
       "2000-01-06 00:00:00   344100  19461600 NaN  3947658 NaN   263925  \n",
       "2000-01-07 00:00:00   469500  16603800 NaN  6063647 NaN   333900  \n",
       "\n",
       "[5 rows x 3000 columns]"
      ]
     },
     "execution_count": 5,
     "metadata": {},
     "output_type": "execute_result"
    }
   ],
   "source": [
    "#Fetch and save the prices for the tickers\n",
    "from fetch_sp500 import fetch_and_save_prices\n",
    "prices = fetch_and_save_prices(tickers)\n",
    "prices.head()"
   ]
  },
  {
   "cell_type": "code",
   "execution_count": 6,
   "metadata": {},
   "outputs": [
    {
     "data": {
      "text/html": [
       "<div>\n",
       "<style scoped>\n",
       "    .dataframe tbody tr th:only-of-type {\n",
       "        vertical-align: middle;\n",
       "    }\n",
       "\n",
       "    .dataframe tbody tr th {\n",
       "        vertical-align: top;\n",
       "    }\n",
       "\n",
       "    .dataframe thead tr th {\n",
       "        text-align: left;\n",
       "    }\n",
       "\n",
       "    .dataframe thead tr:last-of-type th {\n",
       "        text-align: right;\n",
       "    }\n",
       "</style>\n",
       "<table border=\"1\" class=\"dataframe\">\n",
       "  <thead>\n",
       "    <tr>\n",
       "      <th></th>\n",
       "      <th colspan=\"10\" halign=\"left\">Adj Close</th>\n",
       "      <th>...</th>\n",
       "      <th colspan=\"10\" halign=\"left\">Volume</th>\n",
       "    </tr>\n",
       "    <tr>\n",
       "      <th></th>\n",
       "      <th>A</th>\n",
       "      <th>AAL</th>\n",
       "      <th>AAPL</th>\n",
       "      <th>ABBV</th>\n",
       "      <th>ABNB</th>\n",
       "      <th>ABT</th>\n",
       "      <th>ACGL</th>\n",
       "      <th>ACN</th>\n",
       "      <th>ADBE</th>\n",
       "      <th>ADI</th>\n",
       "      <th>...</th>\n",
       "      <th>WST</th>\n",
       "      <th>WTW</th>\n",
       "      <th>WY</th>\n",
       "      <th>WYNN</th>\n",
       "      <th>XEL</th>\n",
       "      <th>XOM</th>\n",
       "      <th>XYL</th>\n",
       "      <th>YUM</th>\n",
       "      <th>ZBH</th>\n",
       "      <th>ZBRA</th>\n",
       "    </tr>\n",
       "    <tr>\n",
       "      <th>Date</th>\n",
       "      <th></th>\n",
       "      <th></th>\n",
       "      <th></th>\n",
       "      <th></th>\n",
       "      <th></th>\n",
       "      <th></th>\n",
       "      <th></th>\n",
       "      <th></th>\n",
       "      <th></th>\n",
       "      <th></th>\n",
       "      <th></th>\n",
       "      <th></th>\n",
       "      <th></th>\n",
       "      <th></th>\n",
       "      <th></th>\n",
       "      <th></th>\n",
       "      <th></th>\n",
       "      <th></th>\n",
       "      <th></th>\n",
       "      <th></th>\n",
       "      <th></th>\n",
       "    </tr>\n",
       "  </thead>\n",
       "  <tbody>\n",
       "    <tr>\n",
       "      <th>2000-01-03 00:00:00</th>\n",
       "      <td>43.613014</td>\n",
       "      <td>NaN</td>\n",
       "      <td>0.846127</td>\n",
       "      <td>NaN</td>\n",
       "      <td>NaN</td>\n",
       "      <td>9.037446</td>\n",
       "      <td>1.277778</td>\n",
       "      <td>NaN</td>\n",
       "      <td>16.274672</td>\n",
       "      <td>28.438293</td>\n",
       "      <td>...</td>\n",
       "      <td>29200</td>\n",
       "      <td>NaN</td>\n",
       "      <td>973700</td>\n",
       "      <td>NaN</td>\n",
       "      <td>2738600</td>\n",
       "      <td>13458200</td>\n",
       "      <td>NaN</td>\n",
       "      <td>3033493</td>\n",
       "      <td>NaN</td>\n",
       "      <td>1055700</td>\n",
       "    </tr>\n",
       "    <tr>\n",
       "      <th>2000-01-04 00:00:00</th>\n",
       "      <td>40.281467</td>\n",
       "      <td>NaN</td>\n",
       "      <td>0.774790</td>\n",
       "      <td>NaN</td>\n",
       "      <td>NaN</td>\n",
       "      <td>8.779240</td>\n",
       "      <td>1.270833</td>\n",
       "      <td>NaN</td>\n",
       "      <td>14.909401</td>\n",
       "      <td>26.999628</td>\n",
       "      <td>...</td>\n",
       "      <td>555600</td>\n",
       "      <td>NaN</td>\n",
       "      <td>1201700</td>\n",
       "      <td>NaN</td>\n",
       "      <td>425200</td>\n",
       "      <td>14510800</td>\n",
       "      <td>NaN</td>\n",
       "      <td>3315031</td>\n",
       "      <td>NaN</td>\n",
       "      <td>522450</td>\n",
       "    </tr>\n",
       "    <tr>\n",
       "      <th>2000-01-05 00:00:00</th>\n",
       "      <td>37.782784</td>\n",
       "      <td>NaN</td>\n",
       "      <td>0.786128</td>\n",
       "      <td>NaN</td>\n",
       "      <td>NaN</td>\n",
       "      <td>8.763096</td>\n",
       "      <td>1.388889</td>\n",
       "      <td>NaN</td>\n",
       "      <td>15.204174</td>\n",
       "      <td>27.393772</td>\n",
       "      <td>...</td>\n",
       "      <td>222400</td>\n",
       "      <td>NaN</td>\n",
       "      <td>1184600</td>\n",
       "      <td>NaN</td>\n",
       "      <td>500200</td>\n",
       "      <td>17485000</td>\n",
       "      <td>NaN</td>\n",
       "      <td>4642602</td>\n",
       "      <td>NaN</td>\n",
       "      <td>612225</td>\n",
       "    </tr>\n",
       "    <tr>\n",
       "      <th>2000-01-06 00:00:00</th>\n",
       "      <td>36.344177</td>\n",
       "      <td>NaN</td>\n",
       "      <td>0.718097</td>\n",
       "      <td>NaN</td>\n",
       "      <td>NaN</td>\n",
       "      <td>9.069727</td>\n",
       "      <td>1.375000</td>\n",
       "      <td>NaN</td>\n",
       "      <td>15.328290</td>\n",
       "      <td>26.644878</td>\n",
       "      <td>...</td>\n",
       "      <td>97600</td>\n",
       "      <td>NaN</td>\n",
       "      <td>1307700</td>\n",
       "      <td>NaN</td>\n",
       "      <td>344100</td>\n",
       "      <td>19461600</td>\n",
       "      <td>NaN</td>\n",
       "      <td>3947658</td>\n",
       "      <td>NaN</td>\n",
       "      <td>263925</td>\n",
       "    </tr>\n",
       "    <tr>\n",
       "      <th>2000-01-07 00:00:00</th>\n",
       "      <td>39.372864</td>\n",
       "      <td>NaN</td>\n",
       "      <td>0.752113</td>\n",
       "      <td>NaN</td>\n",
       "      <td>NaN</td>\n",
       "      <td>9.166554</td>\n",
       "      <td>1.451389</td>\n",
       "      <td>NaN</td>\n",
       "      <td>16.072981</td>\n",
       "      <td>27.393772</td>\n",
       "      <td>...</td>\n",
       "      <td>86400</td>\n",
       "      <td>NaN</td>\n",
       "      <td>1728000</td>\n",
       "      <td>NaN</td>\n",
       "      <td>469500</td>\n",
       "      <td>16603800</td>\n",
       "      <td>NaN</td>\n",
       "      <td>6063647</td>\n",
       "      <td>NaN</td>\n",
       "      <td>333900</td>\n",
       "    </tr>\n",
       "  </tbody>\n",
       "</table>\n",
       "<p>5 rows × 3000 columns</p>\n",
       "</div>"
      ],
      "text/plain": [
       "                     Adj Close                                              \\\n",
       "                             A AAL      AAPL ABBV ABNB       ABT      ACGL   \n",
       "Date                                                                         \n",
       "2000-01-03 00:00:00  43.613014 NaN  0.846127  NaN  NaN  9.037446  1.277778   \n",
       "2000-01-04 00:00:00  40.281467 NaN  0.774790  NaN  NaN  8.779240  1.270833   \n",
       "2000-01-05 00:00:00  37.782784 NaN  0.786128  NaN  NaN  8.763096  1.388889   \n",
       "2000-01-06 00:00:00  36.344177 NaN  0.718097  NaN  NaN  9.069727  1.375000   \n",
       "2000-01-07 00:00:00  39.372864 NaN  0.752113  NaN  NaN  9.166554  1.451389   \n",
       "\n",
       "                                               ...  Volume                    \\\n",
       "                    ACN       ADBE        ADI  ...     WST WTW       WY WYNN   \n",
       "Date                                           ...                             \n",
       "2000-01-03 00:00:00 NaN  16.274672  28.438293  ...   29200 NaN   973700  NaN   \n",
       "2000-01-04 00:00:00 NaN  14.909401  26.999628  ...  555600 NaN  1201700  NaN   \n",
       "2000-01-05 00:00:00 NaN  15.204174  27.393772  ...  222400 NaN  1184600  NaN   \n",
       "2000-01-06 00:00:00 NaN  15.328290  26.644878  ...   97600 NaN  1307700  NaN   \n",
       "2000-01-07 00:00:00 NaN  16.072981  27.393772  ...   86400 NaN  1728000  NaN   \n",
       "\n",
       "                                                                  \n",
       "                         XEL       XOM XYL      YUM ZBH     ZBRA  \n",
       "Date                                                              \n",
       "2000-01-03 00:00:00  2738600  13458200 NaN  3033493 NaN  1055700  \n",
       "2000-01-04 00:00:00   425200  14510800 NaN  3315031 NaN   522450  \n",
       "2000-01-05 00:00:00   500200  17485000 NaN  4642602 NaN   612225  \n",
       "2000-01-06 00:00:00   344100  19461600 NaN  3947658 NaN   263925  \n",
       "2000-01-07 00:00:00   469500  16603800 NaN  6063647 NaN   333900  \n",
       "\n",
       "[5 rows x 3000 columns]"
      ]
     },
     "execution_count": 6,
     "metadata": {},
     "output_type": "execute_result"
    }
   ],
   "source": [
    "#load the data from the saved csv file\n",
    "prices = pd.read_csv(f'stock_history.csv', header=[0, 1], index_col=0)\n",
    "prices.head()"
   ]
  },
  {
   "cell_type": "code",
   "execution_count": 7,
   "metadata": {},
   "outputs": [
    {
     "data": {
      "text/html": [
       "<div>\n",
       "<style scoped>\n",
       "    .dataframe tbody tr th:only-of-type {\n",
       "        vertical-align: middle;\n",
       "    }\n",
       "\n",
       "    .dataframe tbody tr th {\n",
       "        vertical-align: top;\n",
       "    }\n",
       "\n",
       "    .dataframe thead th {\n",
       "        text-align: right;\n",
       "    }\n",
       "</style>\n",
       "<table border=\"1\" class=\"dataframe\">\n",
       "  <thead>\n",
       "    <tr style=\"text-align: right;\">\n",
       "      <th></th>\n",
       "      <th>Adj Close</th>\n",
       "      <th>Close</th>\n",
       "      <th>High</th>\n",
       "      <th>Low</th>\n",
       "      <th>Open</th>\n",
       "      <th>Volume</th>\n",
       "    </tr>\n",
       "    <tr>\n",
       "      <th>Date</th>\n",
       "      <th></th>\n",
       "      <th></th>\n",
       "      <th></th>\n",
       "      <th></th>\n",
       "      <th></th>\n",
       "      <th></th>\n",
       "    </tr>\n",
       "  </thead>\n",
       "  <tbody>\n",
       "    <tr>\n",
       "      <th>2000-01-03 00:00:00</th>\n",
       "      <td>0.846127</td>\n",
       "      <td>0.999442</td>\n",
       "      <td>1.004464</td>\n",
       "      <td>0.907924</td>\n",
       "      <td>0.936384</td>\n",
       "      <td>535796800</td>\n",
       "    </tr>\n",
       "    <tr>\n",
       "      <th>2000-01-04 00:00:00</th>\n",
       "      <td>0.774790</td>\n",
       "      <td>0.915179</td>\n",
       "      <td>0.987723</td>\n",
       "      <td>0.903460</td>\n",
       "      <td>0.966518</td>\n",
       "      <td>512377600</td>\n",
       "    </tr>\n",
       "    <tr>\n",
       "      <th>2000-01-05 00:00:00</th>\n",
       "      <td>0.786128</td>\n",
       "      <td>0.928571</td>\n",
       "      <td>0.987165</td>\n",
       "      <td>0.919643</td>\n",
       "      <td>0.926339</td>\n",
       "      <td>778321600</td>\n",
       "    </tr>\n",
       "    <tr>\n",
       "      <th>2000-01-06 00:00:00</th>\n",
       "      <td>0.718097</td>\n",
       "      <td>0.848214</td>\n",
       "      <td>0.955357</td>\n",
       "      <td>0.848214</td>\n",
       "      <td>0.947545</td>\n",
       "      <td>767972800</td>\n",
       "    </tr>\n",
       "    <tr>\n",
       "      <th>2000-01-07 00:00:00</th>\n",
       "      <td>0.752113</td>\n",
       "      <td>0.888393</td>\n",
       "      <td>0.901786</td>\n",
       "      <td>0.852679</td>\n",
       "      <td>0.861607</td>\n",
       "      <td>460734400</td>\n",
       "    </tr>\n",
       "  </tbody>\n",
       "</table>\n",
       "</div>"
      ],
      "text/plain": [
       "                     Adj Close     Close      High       Low      Open  \\\n",
       "Date                                                                     \n",
       "2000-01-03 00:00:00   0.846127  0.999442  1.004464  0.907924  0.936384   \n",
       "2000-01-04 00:00:00   0.774790  0.915179  0.987723  0.903460  0.966518   \n",
       "2000-01-05 00:00:00   0.786128  0.928571  0.987165  0.919643  0.926339   \n",
       "2000-01-06 00:00:00   0.718097  0.848214  0.955357  0.848214  0.947545   \n",
       "2000-01-07 00:00:00   0.752113  0.888393  0.901786  0.852679  0.861607   \n",
       "\n",
       "                        Volume  \n",
       "Date                            \n",
       "2000-01-03 00:00:00  535796800  \n",
       "2000-01-04 00:00:00  512377600  \n",
       "2000-01-05 00:00:00  778321600  \n",
       "2000-01-06 00:00:00  767972800  \n",
       "2000-01-07 00:00:00  460734400  "
      ]
     },
     "execution_count": 7,
     "metadata": {},
     "output_type": "execute_result"
    }
   ],
   "source": [
    "## get AAPL data\n",
    "ticker = 'AAPL'\n",
    "comp_price = prices.xs(ticker, axis=1, level=1, drop_level=True)\n",
    "comp_price.head()"
   ]
  },
  {
   "cell_type": "code",
   "execution_count": 8,
   "metadata": {},
   "outputs": [
    {
     "data": {
      "text/html": [
       "<div>\n",
       "<style scoped>\n",
       "    .dataframe tbody tr th:only-of-type {\n",
       "        vertical-align: middle;\n",
       "    }\n",
       "\n",
       "    .dataframe tbody tr th {\n",
       "        vertical-align: top;\n",
       "    }\n",
       "\n",
       "    .dataframe thead th {\n",
       "        text-align: right;\n",
       "    }\n",
       "</style>\n",
       "<table border=\"1\" class=\"dataframe\">\n",
       "  <thead>\n",
       "    <tr style=\"text-align: right;\">\n",
       "      <th></th>\n",
       "      <th>Adj Close</th>\n",
       "      <th>Close</th>\n",
       "      <th>High</th>\n",
       "      <th>Low</th>\n",
       "      <th>Open</th>\n",
       "      <th>Volume</th>\n",
       "    </tr>\n",
       "    <tr>\n",
       "      <th>Date</th>\n",
       "      <th></th>\n",
       "      <th></th>\n",
       "      <th></th>\n",
       "      <th></th>\n",
       "      <th></th>\n",
       "      <th></th>\n",
       "    </tr>\n",
       "  </thead>\n",
       "  <tbody>\n",
       "    <tr>\n",
       "      <th>2020-01-02 00:00:00</th>\n",
       "      <td>73.059425</td>\n",
       "      <td>75.087502</td>\n",
       "      <td>75.150002</td>\n",
       "      <td>73.797501</td>\n",
       "      <td>74.059998</td>\n",
       "      <td>135480400</td>\n",
       "    </tr>\n",
       "    <tr>\n",
       "      <th>2020-01-03 00:00:00</th>\n",
       "      <td>72.349121</td>\n",
       "      <td>74.357498</td>\n",
       "      <td>75.144997</td>\n",
       "      <td>74.125000</td>\n",
       "      <td>74.287498</td>\n",
       "      <td>146322800</td>\n",
       "    </tr>\n",
       "    <tr>\n",
       "      <th>2020-01-06 00:00:00</th>\n",
       "      <td>72.925629</td>\n",
       "      <td>74.949997</td>\n",
       "      <td>74.989998</td>\n",
       "      <td>73.187500</td>\n",
       "      <td>73.447502</td>\n",
       "      <td>118387200</td>\n",
       "    </tr>\n",
       "    <tr>\n",
       "      <th>2020-01-07 00:00:00</th>\n",
       "      <td>72.582672</td>\n",
       "      <td>74.597504</td>\n",
       "      <td>75.224998</td>\n",
       "      <td>74.370003</td>\n",
       "      <td>74.959999</td>\n",
       "      <td>108872000</td>\n",
       "    </tr>\n",
       "    <tr>\n",
       "      <th>2020-01-08 00:00:00</th>\n",
       "      <td>73.750252</td>\n",
       "      <td>75.797501</td>\n",
       "      <td>76.110001</td>\n",
       "      <td>74.290001</td>\n",
       "      <td>74.290001</td>\n",
       "      <td>132079200</td>\n",
       "    </tr>\n",
       "  </tbody>\n",
       "</table>\n",
       "</div>"
      ],
      "text/plain": [
       "                     Adj Close      Close       High        Low       Open  \\\n",
       "Date                                                                         \n",
       "2020-01-02 00:00:00  73.059425  75.087502  75.150002  73.797501  74.059998   \n",
       "2020-01-03 00:00:00  72.349121  74.357498  75.144997  74.125000  74.287498   \n",
       "2020-01-06 00:00:00  72.925629  74.949997  74.989998  73.187500  73.447502   \n",
       "2020-01-07 00:00:00  72.582672  74.597504  75.224998  74.370003  74.959999   \n",
       "2020-01-08 00:00:00  73.750252  75.797501  76.110001  74.290001  74.290001   \n",
       "\n",
       "                        Volume  \n",
       "Date                            \n",
       "2020-01-02 00:00:00  135480400  \n",
       "2020-01-03 00:00:00  146322800  \n",
       "2020-01-06 00:00:00  118387200  \n",
       "2020-01-07 00:00:00  108872000  \n",
       "2020-01-08 00:00:00  132079200  "
      ]
     },
     "execution_count": 8,
     "metadata": {},
     "output_type": "execute_result"
    }
   ],
   "source": [
    "## get the data of specific period\n",
    "period_price = comp_price.loc['2020-01-01':'2021-01-01']\n",
    "period_price.head()"
   ]
  },
  {
   "cell_type": "code",
   "execution_count": 9,
   "metadata": {},
   "outputs": [
    {
     "data": {
      "text/html": [
       "<div>\n",
       "<style scoped>\n",
       "    .dataframe tbody tr th:only-of-type {\n",
       "        vertical-align: middle;\n",
       "    }\n",
       "\n",
       "    .dataframe tbody tr th {\n",
       "        vertical-align: top;\n",
       "    }\n",
       "\n",
       "    .dataframe thead th {\n",
       "        text-align: right;\n",
       "    }\n",
       "</style>\n",
       "<table border=\"1\" class=\"dataframe\">\n",
       "  <thead>\n",
       "    <tr style=\"text-align: right;\">\n",
       "      <th></th>\n",
       "      <th>Open</th>\n",
       "      <th>Close</th>\n",
       "    </tr>\n",
       "    <tr>\n",
       "      <th>Date</th>\n",
       "      <th></th>\n",
       "      <th></th>\n",
       "    </tr>\n",
       "  </thead>\n",
       "  <tbody>\n",
       "    <tr>\n",
       "      <th>2020-01-02 00:00:00</th>\n",
       "      <td>74.059998</td>\n",
       "      <td>75.087502</td>\n",
       "    </tr>\n",
       "    <tr>\n",
       "      <th>2020-01-03 00:00:00</th>\n",
       "      <td>74.287498</td>\n",
       "      <td>74.357498</td>\n",
       "    </tr>\n",
       "    <tr>\n",
       "      <th>2020-01-06 00:00:00</th>\n",
       "      <td>73.447502</td>\n",
       "      <td>74.949997</td>\n",
       "    </tr>\n",
       "    <tr>\n",
       "      <th>2020-01-07 00:00:00</th>\n",
       "      <td>74.959999</td>\n",
       "      <td>74.597504</td>\n",
       "    </tr>\n",
       "    <tr>\n",
       "      <th>2020-01-08 00:00:00</th>\n",
       "      <td>74.290001</td>\n",
       "      <td>75.797501</td>\n",
       "    </tr>\n",
       "  </tbody>\n",
       "</table>\n",
       "</div>"
      ],
      "text/plain": [
       "                          Open      Close\n",
       "Date                                     \n",
       "2020-01-02 00:00:00  74.059998  75.087502\n",
       "2020-01-03 00:00:00  74.287498  74.357498\n",
       "2020-01-06 00:00:00  73.447502  74.949997\n",
       "2020-01-07 00:00:00  74.959999  74.597504\n",
       "2020-01-08 00:00:00  74.290001  75.797501"
      ]
     },
     "execution_count": 9,
     "metadata": {},
     "output_type": "execute_result"
    }
   ],
   "source": [
    "period_price_oc = period_price[['Open', 'Close']]\n",
    "period_price_oc.head()"
   ]
  },
  {
   "cell_type": "code",
   "execution_count": 10,
   "metadata": {},
   "outputs": [
    {
     "data": {
      "text/html": [
       "<div>\n",
       "<style scoped>\n",
       "    .dataframe tbody tr th:only-of-type {\n",
       "        vertical-align: middle;\n",
       "    }\n",
       "\n",
       "    .dataframe tbody tr th {\n",
       "        vertical-align: top;\n",
       "    }\n",
       "\n",
       "    .dataframe thead th {\n",
       "        text-align: right;\n",
       "    }\n",
       "</style>\n",
       "<table border=\"1\" class=\"dataframe\">\n",
       "  <thead>\n",
       "    <tr style=\"text-align: right;\">\n",
       "      <th></th>\n",
       "      <th>Open</th>\n",
       "      <th>Close</th>\n",
       "    </tr>\n",
       "    <tr>\n",
       "      <th>Date</th>\n",
       "      <th></th>\n",
       "      <th></th>\n",
       "    </tr>\n",
       "  </thead>\n",
       "  <tbody>\n",
       "    <tr>\n",
       "      <th>2020-01-02 00:00:00</th>\n",
       "      <td>74.059998</td>\n",
       "      <td>75.087502</td>\n",
       "    </tr>\n",
       "    <tr>\n",
       "      <th>2020-01-03 00:00:00</th>\n",
       "      <td>74.287498</td>\n",
       "      <td>74.357498</td>\n",
       "    </tr>\n",
       "    <tr>\n",
       "      <th>2020-01-06 00:00:00</th>\n",
       "      <td>73.447502</td>\n",
       "      <td>74.949997</td>\n",
       "    </tr>\n",
       "    <tr>\n",
       "      <th>2020-01-07 00:00:00</th>\n",
       "      <td>74.959999</td>\n",
       "      <td>74.597504</td>\n",
       "    </tr>\n",
       "    <tr>\n",
       "      <th>2020-01-08 00:00:00</th>\n",
       "      <td>74.290001</td>\n",
       "      <td>75.797501</td>\n",
       "    </tr>\n",
       "  </tbody>\n",
       "</table>\n",
       "</div>"
      ],
      "text/plain": [
       "                          Open      Close\n",
       "Date                                     \n",
       "2020-01-02 00:00:00  74.059998  75.087502\n",
       "2020-01-03 00:00:00  74.287498  74.357498\n",
       "2020-01-06 00:00:00  73.447502  74.949997\n",
       "2020-01-07 00:00:00  74.959999  74.597504\n",
       "2020-01-08 00:00:00  74.290001  75.797501"
      ]
     },
     "execution_count": 10,
     "metadata": {},
     "output_type": "execute_result"
    }
   ],
   "source": [
    "period_price_oc.columns.name = None\n",
    "period_price_oc.head()"
   ]
  },
  {
   "cell_type": "code",
   "execution_count": 11,
   "metadata": {},
   "outputs": [
    {
     "data": {
      "text/html": [
       "<div>\n",
       "<style scoped>\n",
       "    .dataframe tbody tr th:only-of-type {\n",
       "        vertical-align: middle;\n",
       "    }\n",
       "\n",
       "    .dataframe tbody tr th {\n",
       "        vertical-align: top;\n",
       "    }\n",
       "\n",
       "    .dataframe thead th {\n",
       "        text-align: right;\n",
       "    }\n",
       "</style>\n",
       "<table border=\"1\" class=\"dataframe\">\n",
       "  <thead>\n",
       "    <tr style=\"text-align: right;\">\n",
       "      <th></th>\n",
       "      <th>Open</th>\n",
       "      <th>Close</th>\n",
       "    </tr>\n",
       "  </thead>\n",
       "  <tbody>\n",
       "    <tr>\n",
       "      <th>2020-01-02 00:00:00</th>\n",
       "      <td>74.059998</td>\n",
       "      <td>75.087502</td>\n",
       "    </tr>\n",
       "    <tr>\n",
       "      <th>2020-01-03 00:00:00</th>\n",
       "      <td>74.287498</td>\n",
       "      <td>74.357498</td>\n",
       "    </tr>\n",
       "    <tr>\n",
       "      <th>2020-01-06 00:00:00</th>\n",
       "      <td>73.447502</td>\n",
       "      <td>74.949997</td>\n",
       "    </tr>\n",
       "    <tr>\n",
       "      <th>2020-01-07 00:00:00</th>\n",
       "      <td>74.959999</td>\n",
       "      <td>74.597504</td>\n",
       "    </tr>\n",
       "    <tr>\n",
       "      <th>2020-01-08 00:00:00</th>\n",
       "      <td>74.290001</td>\n",
       "      <td>75.797501</td>\n",
       "    </tr>\n",
       "  </tbody>\n",
       "</table>\n",
       "</div>"
      ],
      "text/plain": [
       "                          Open      Close\n",
       "2020-01-02 00:00:00  74.059998  75.087502\n",
       "2020-01-03 00:00:00  74.287498  74.357498\n",
       "2020-01-06 00:00:00  73.447502  74.949997\n",
       "2020-01-07 00:00:00  74.959999  74.597504\n",
       "2020-01-08 00:00:00  74.290001  75.797501"
      ]
     },
     "execution_count": 11,
     "metadata": {},
     "output_type": "execute_result"
    }
   ],
   "source": [
    "period_price_oc.index.name = None\n",
    "period_price_oc.head()"
   ]
  },
  {
   "cell_type": "code",
   "execution_count": 12,
   "metadata": {},
   "outputs": [
    {
     "data": {
      "text/html": [
       "<div>\n",
       "<style scoped>\n",
       "    .dataframe tbody tr th:only-of-type {\n",
       "        vertical-align: middle;\n",
       "    }\n",
       "\n",
       "    .dataframe tbody tr th {\n",
       "        vertical-align: top;\n",
       "    }\n",
       "\n",
       "    .dataframe thead th {\n",
       "        text-align: right;\n",
       "    }\n",
       "</style>\n",
       "<table border=\"1\" class=\"dataframe\">\n",
       "  <thead>\n",
       "    <tr style=\"text-align: right;\">\n",
       "      <th></th>\n",
       "      <th>Open</th>\n",
       "      <th>Close</th>\n",
       "    </tr>\n",
       "    <tr>\n",
       "      <th>Date</th>\n",
       "      <th></th>\n",
       "      <th></th>\n",
       "    </tr>\n",
       "  </thead>\n",
       "  <tbody>\n",
       "    <tr>\n",
       "      <th>2020-01-02 00:00:00</th>\n",
       "      <td>74.059998</td>\n",
       "      <td>75.087502</td>\n",
       "    </tr>\n",
       "    <tr>\n",
       "      <th>2020-01-03 00:00:00</th>\n",
       "      <td>74.287498</td>\n",
       "      <td>74.357498</td>\n",
       "    </tr>\n",
       "    <tr>\n",
       "      <th>2020-01-06 00:00:00</th>\n",
       "      <td>73.447502</td>\n",
       "      <td>74.949997</td>\n",
       "    </tr>\n",
       "    <tr>\n",
       "      <th>2020-01-07 00:00:00</th>\n",
       "      <td>74.959999</td>\n",
       "      <td>74.597504</td>\n",
       "    </tr>\n",
       "    <tr>\n",
       "      <th>2020-01-08 00:00:00</th>\n",
       "      <td>74.290001</td>\n",
       "      <td>75.797501</td>\n",
       "    </tr>\n",
       "  </tbody>\n",
       "</table>\n",
       "</div>"
      ],
      "text/plain": [
       "                          Open      Close\n",
       "Date                                     \n",
       "2020-01-02 00:00:00  74.059998  75.087502\n",
       "2020-01-03 00:00:00  74.287498  74.357498\n",
       "2020-01-06 00:00:00  73.447502  74.949997\n",
       "2020-01-07 00:00:00  74.959999  74.597504\n",
       "2020-01-08 00:00:00  74.290001  75.797501"
      ]
     },
     "execution_count": 12,
     "metadata": {},
     "output_type": "execute_result"
    }
   ],
   "source": [
    "period_price_oc.index.name = 'Date'\n",
    "period_price_oc.head()"
   ]
  },
  {
   "cell_type": "code",
   "execution_count": 13,
   "metadata": {},
   "outputs": [
    {
     "data": {
      "text/html": [
       "<div>\n",
       "<style scoped>\n",
       "    .dataframe tbody tr th:only-of-type {\n",
       "        vertical-align: middle;\n",
       "    }\n",
       "\n",
       "    .dataframe tbody tr th {\n",
       "        vertical-align: top;\n",
       "    }\n",
       "\n",
       "    .dataframe thead th {\n",
       "        text-align: right;\n",
       "    }\n",
       "</style>\n",
       "<table border=\"1\" class=\"dataframe\">\n",
       "  <thead>\n",
       "    <tr style=\"text-align: right;\">\n",
       "      <th></th>\n",
       "      <th>Date</th>\n",
       "      <th>Open</th>\n",
       "      <th>Close</th>\n",
       "    </tr>\n",
       "  </thead>\n",
       "  <tbody>\n",
       "    <tr>\n",
       "      <th>0</th>\n",
       "      <td>2020-01-02 00:00:00</td>\n",
       "      <td>74.059998</td>\n",
       "      <td>75.087502</td>\n",
       "    </tr>\n",
       "    <tr>\n",
       "      <th>1</th>\n",
       "      <td>2020-01-03 00:00:00</td>\n",
       "      <td>74.287498</td>\n",
       "      <td>74.357498</td>\n",
       "    </tr>\n",
       "    <tr>\n",
       "      <th>2</th>\n",
       "      <td>2020-01-06 00:00:00</td>\n",
       "      <td>73.447502</td>\n",
       "      <td>74.949997</td>\n",
       "    </tr>\n",
       "    <tr>\n",
       "      <th>3</th>\n",
       "      <td>2020-01-07 00:00:00</td>\n",
       "      <td>74.959999</td>\n",
       "      <td>74.597504</td>\n",
       "    </tr>\n",
       "    <tr>\n",
       "      <th>4</th>\n",
       "      <td>2020-01-08 00:00:00</td>\n",
       "      <td>74.290001</td>\n",
       "      <td>75.797501</td>\n",
       "    </tr>\n",
       "  </tbody>\n",
       "</table>\n",
       "</div>"
      ],
      "text/plain": [
       "                  Date       Open      Close\n",
       "0  2020-01-02 00:00:00  74.059998  75.087502\n",
       "1  2020-01-03 00:00:00  74.287498  74.357498\n",
       "2  2020-01-06 00:00:00  73.447502  74.949997\n",
       "3  2020-01-07 00:00:00  74.959999  74.597504\n",
       "4  2020-01-08 00:00:00  74.290001  75.797501"
      ]
     },
     "execution_count": 13,
     "metadata": {},
     "output_type": "execute_result"
    }
   ],
   "source": [
    "period_price_oc.reset_index(inplace=True)\n",
    "period_price_oc.head()"
   ]
  },
  {
   "cell_type": "code",
   "execution_count": 14,
   "metadata": {},
   "outputs": [
    {
     "data": {
      "text/html": [
       "<div>\n",
       "<style scoped>\n",
       "    .dataframe tbody tr th:only-of-type {\n",
       "        vertical-align: middle;\n",
       "    }\n",
       "\n",
       "    .dataframe tbody tr th {\n",
       "        vertical-align: top;\n",
       "    }\n",
       "\n",
       "    .dataframe thead th {\n",
       "        text-align: right;\n",
       "    }\n",
       "</style>\n",
       "<table border=\"1\" class=\"dataframe\">\n",
       "  <thead>\n",
       "    <tr style=\"text-align: right;\">\n",
       "      <th></th>\n",
       "      <th>Open</th>\n",
       "      <th>Close</th>\n",
       "    </tr>\n",
       "    <tr>\n",
       "      <th>Date</th>\n",
       "      <th></th>\n",
       "      <th></th>\n",
       "    </tr>\n",
       "  </thead>\n",
       "  <tbody>\n",
       "    <tr>\n",
       "      <th>2020-01-02 00:00:00</th>\n",
       "      <td>74.059998</td>\n",
       "      <td>75.087502</td>\n",
       "    </tr>\n",
       "    <tr>\n",
       "      <th>2020-01-03 00:00:00</th>\n",
       "      <td>74.287498</td>\n",
       "      <td>74.357498</td>\n",
       "    </tr>\n",
       "    <tr>\n",
       "      <th>2020-01-06 00:00:00</th>\n",
       "      <td>73.447502</td>\n",
       "      <td>74.949997</td>\n",
       "    </tr>\n",
       "    <tr>\n",
       "      <th>2020-01-07 00:00:00</th>\n",
       "      <td>74.959999</td>\n",
       "      <td>74.597504</td>\n",
       "    </tr>\n",
       "    <tr>\n",
       "      <th>2020-01-08 00:00:00</th>\n",
       "      <td>74.290001</td>\n",
       "      <td>75.797501</td>\n",
       "    </tr>\n",
       "  </tbody>\n",
       "</table>\n",
       "</div>"
      ],
      "text/plain": [
       "                          Open      Close\n",
       "Date                                     \n",
       "2020-01-02 00:00:00  74.059998  75.087502\n",
       "2020-01-03 00:00:00  74.287498  74.357498\n",
       "2020-01-06 00:00:00  73.447502  74.949997\n",
       "2020-01-07 00:00:00  74.959999  74.597504\n",
       "2020-01-08 00:00:00  74.290001  75.797501"
      ]
     },
     "execution_count": 14,
     "metadata": {},
     "output_type": "execute_result"
    }
   ],
   "source": [
    "period_price_oc.set_index('Date', inplace=True)\n",
    "period_price_oc.head()"
   ]
  },
  {
   "cell_type": "code",
   "execution_count": 15,
   "metadata": {},
   "outputs": [
    {
     "data": {
      "text/html": [
       "<div>\n",
       "<style scoped>\n",
       "    .dataframe tbody tr th:only-of-type {\n",
       "        vertical-align: middle;\n",
       "    }\n",
       "\n",
       "    .dataframe tbody tr th {\n",
       "        vertical-align: top;\n",
       "    }\n",
       "\n",
       "    .dataframe thead th {\n",
       "        text-align: right;\n",
       "    }\n",
       "</style>\n",
       "<table border=\"1\" class=\"dataframe\">\n",
       "  <thead>\n",
       "    <tr style=\"text-align: right;\">\n",
       "      <th></th>\n",
       "      <th>Date</th>\n",
       "      <th>Open</th>\n",
       "      <th>Close</th>\n",
       "    </tr>\n",
       "  </thead>\n",
       "  <tbody>\n",
       "    <tr>\n",
       "      <th>0</th>\n",
       "      <td>2020-01-02 00:00:00</td>\n",
       "      <td>74.059998</td>\n",
       "      <td>75.087502</td>\n",
       "    </tr>\n",
       "    <tr>\n",
       "      <th>1</th>\n",
       "      <td>2020-01-03 00:00:00</td>\n",
       "      <td>74.287498</td>\n",
       "      <td>74.357498</td>\n",
       "    </tr>\n",
       "    <tr>\n",
       "      <th>2</th>\n",
       "      <td>2020-01-06 00:00:00</td>\n",
       "      <td>73.447502</td>\n",
       "      <td>74.949997</td>\n",
       "    </tr>\n",
       "    <tr>\n",
       "      <th>3</th>\n",
       "      <td>2020-01-07 00:00:00</td>\n",
       "      <td>74.959999</td>\n",
       "      <td>74.597504</td>\n",
       "    </tr>\n",
       "    <tr>\n",
       "      <th>4</th>\n",
       "      <td>2020-01-08 00:00:00</td>\n",
       "      <td>74.290001</td>\n",
       "      <td>75.797501</td>\n",
       "    </tr>\n",
       "  </tbody>\n",
       "</table>\n",
       "</div>"
      ],
      "text/plain": [
       "                  Date       Open      Close\n",
       "0  2020-01-02 00:00:00  74.059998  75.087502\n",
       "1  2020-01-03 00:00:00  74.287498  74.357498\n",
       "2  2020-01-06 00:00:00  73.447502  74.949997\n",
       "3  2020-01-07 00:00:00  74.959999  74.597504\n",
       "4  2020-01-08 00:00:00  74.290001  75.797501"
      ]
     },
     "execution_count": 15,
     "metadata": {},
     "output_type": "execute_result"
    }
   ],
   "source": [
    "period_price_oc.reset_index(inplace=True)\n",
    "period_price_oc.head()"
   ]
  },
  {
   "cell_type": "code",
   "execution_count": 16,
   "metadata": {},
   "outputs": [
    {
     "name": "stdout",
     "output_type": "stream",
     "text": [
      "               Date       Open      Close\n",
      "2020-01-02 00:00:00  74.059998  75.087502\n",
      "2020-01-03 00:00:00  74.287498  74.357498\n",
      "2020-01-06 00:00:00  73.447502  74.949997\n",
      "2020-01-07 00:00:00  74.959999  74.597504\n",
      "2020-01-08 00:00:00  74.290001  75.797501\n",
      "2020-01-09 00:00:00  76.809998  77.407501\n",
      "2020-01-10 00:00:00  77.650002  77.582497\n",
      "2020-01-13 00:00:00  77.910004  79.239998\n",
      "2020-01-14 00:00:00  79.175003  78.169998\n",
      "2020-01-15 00:00:00  77.962502  77.834999\n",
      "2020-01-16 00:00:00  78.397499  78.809998\n",
      "2020-01-17 00:00:00  79.067497  79.682503\n",
      "2020-01-21 00:00:00  79.297501  79.142502\n",
      "2020-01-22 00:00:00  79.644997  79.425003\n",
      "2020-01-23 00:00:00  79.480003  79.807503\n",
      "2020-01-24 00:00:00  80.062500  79.577499\n",
      "2020-01-27 00:00:00  77.514999  77.237503\n",
      "2020-01-28 00:00:00  78.150002  79.422501\n",
      "2020-01-29 00:00:00  81.112503  81.084999\n",
      "2020-01-30 00:00:00  80.135002  80.967499\n",
      "2020-01-31 00:00:00  80.232498  77.377502\n",
      "2020-02-03 00:00:00  76.074997  77.165001\n",
      "2020-02-04 00:00:00  78.827499  79.712502\n",
      "2020-02-05 00:00:00  80.879997  80.362503\n",
      "2020-02-06 00:00:00  80.642502  81.302498\n",
      "2020-02-07 00:00:00  80.592499  80.007500\n",
      "2020-02-10 00:00:00  78.544998  80.387497\n",
      "2020-02-11 00:00:00  80.900002  79.902496\n",
      "2020-02-12 00:00:00  80.367500  81.800003\n",
      "2020-02-13 00:00:00  81.047501  81.217499\n",
      "2020-02-14 00:00:00  81.184998  81.237503\n",
      "2020-02-18 00:00:00  78.839996  79.750000\n",
      "2020-02-19 00:00:00  80.000000  80.904999\n",
      "2020-02-20 00:00:00  80.657501  80.074997\n",
      "2020-02-21 00:00:00  79.654999  78.262497\n",
      "2020-02-24 00:00:00  74.315002  74.544998\n",
      "2020-02-25 00:00:00  75.237503  72.019997\n",
      "2020-02-26 00:00:00  71.632500  73.162498\n",
      "2020-02-27 00:00:00  70.275002  68.379997\n",
      "2020-02-28 00:00:00  64.315002  68.339996\n",
      "2020-03-02 00:00:00  70.570000  74.702499\n",
      "2020-03-03 00:00:00  75.917503  72.330002\n",
      "2020-03-04 00:00:00  74.110001  75.684998\n",
      "2020-03-05 00:00:00  73.879997  73.230003\n",
      "2020-03-06 00:00:00  70.500000  72.257500\n",
      "2020-03-09 00:00:00  65.937500  66.542503\n",
      "2020-03-10 00:00:00  69.285004  71.334999\n",
      "2020-03-11 00:00:00  69.347504  68.857498\n",
      "2020-03-12 00:00:00  63.985001  62.057499\n",
      "2020-03-13 00:00:00  66.222504  69.492500\n",
      "2020-03-16 00:00:00  60.487499  60.552502\n",
      "2020-03-17 00:00:00  61.877499  63.215000\n",
      "2020-03-18 00:00:00  59.942501  61.667500\n",
      "2020-03-19 00:00:00  61.847500  61.195000\n",
      "2020-03-20 00:00:00  61.794998  57.310001\n",
      "2020-03-23 00:00:00  57.020000  56.092499\n",
      "2020-03-24 00:00:00  59.090000  61.720001\n",
      "2020-03-25 00:00:00  62.687500  61.380001\n",
      "2020-03-26 00:00:00  61.630001  64.610001\n",
      "2020-03-27 00:00:00  63.187500  61.935001\n",
      "2020-03-30 00:00:00  62.685001  63.702499\n",
      "2020-03-31 00:00:00  63.900002  63.572498\n",
      "2020-04-01 00:00:00  61.625000  60.227501\n",
      "2020-04-02 00:00:00  60.084999  61.232498\n",
      "2020-04-03 00:00:00  60.700001  60.352501\n",
      "2020-04-06 00:00:00  62.724998  65.617500\n",
      "2020-04-07 00:00:00  67.699997  64.857498\n",
      "2020-04-08 00:00:00  65.684998  66.517502\n",
      "2020-04-09 00:00:00  67.175003  66.997498\n",
      "2020-04-13 00:00:00  67.077499  68.312500\n",
      "2020-04-14 00:00:00  70.000000  71.762497\n",
      "2020-04-15 00:00:00  70.599998  71.107498\n",
      "2020-04-16 00:00:00  71.845001  71.672501\n",
      "2020-04-17 00:00:00  71.172501  70.699997\n",
      "2020-04-20 00:00:00  69.487503  69.232498\n",
      "2020-04-21 00:00:00  69.070000  67.092499\n",
      "2020-04-22 00:00:00  68.402496  69.025002\n",
      "2020-04-23 00:00:00  68.967499  68.757500\n",
      "2020-04-24 00:00:00  69.300003  70.742500\n",
      "2020-04-27 00:00:00  70.449997  70.792503\n",
      "2020-04-28 00:00:00  71.269997  69.644997\n",
      "2020-04-29 00:00:00  71.182503  71.932503\n",
      "2020-04-30 00:00:00  72.489998  73.449997\n",
      "2020-05-01 00:00:00  71.562500  72.267502\n",
      "2020-05-04 00:00:00  72.292503  73.290001\n",
      "2020-05-05 00:00:00  73.764999  74.389999\n",
      "2020-05-06 00:00:00  75.114998  75.157501\n",
      "2020-05-07 00:00:00  75.805000  75.934998\n",
      "2020-05-08 00:00:00  76.410004  77.532501\n",
      "2020-05-11 00:00:00  77.025002  78.752502\n",
      "2020-05-12 00:00:00  79.457497  77.852501\n",
      "2020-05-13 00:00:00  78.037498  76.912498\n",
      "2020-05-14 00:00:00  76.127502  77.385002\n",
      "2020-05-15 00:00:00  75.087502  76.927498\n",
      "2020-05-18 00:00:00  78.292503  78.739998\n",
      "2020-05-19 00:00:00  78.757500  78.285004\n",
      "2020-05-20 00:00:00  79.169998  79.807503\n",
      "2020-05-21 00:00:00  79.665001  79.212502\n",
      "2020-05-22 00:00:00  78.942497  79.722504\n",
      "2020-05-26 00:00:00  80.875000  79.182503\n",
      "2020-05-27 00:00:00  79.035004  79.527496\n",
      "2020-05-28 00:00:00  79.192497  79.562500\n",
      "2020-05-29 00:00:00  79.812500  79.485001\n",
      "2020-06-01 00:00:00  79.437500  80.462502\n",
      "2020-06-02 00:00:00  80.187500  80.834999\n",
      "2020-06-03 00:00:00  81.165001  81.279999\n",
      "2020-06-04 00:00:00  81.097504  80.580002\n",
      "2020-06-05 00:00:00  80.837502  82.875000\n",
      "2020-06-08 00:00:00  82.562500  83.364998\n",
      "2020-06-09 00:00:00  83.035004  85.997498\n",
      "2020-06-10 00:00:00  86.974998  88.209999\n",
      "2020-06-11 00:00:00  87.327499  83.974998\n",
      "2020-06-12 00:00:00  86.180000  84.699997\n",
      "2020-06-15 00:00:00  83.312500  85.747498\n",
      "2020-06-16 00:00:00  87.864998  88.019997\n",
      "2020-06-17 00:00:00  88.787498  87.897499\n",
      "2020-06-18 00:00:00  87.852501  87.932503\n",
      "2020-06-19 00:00:00  88.660004  87.430000\n",
      "2020-06-22 00:00:00  87.834999  89.717499\n",
      "2020-06-23 00:00:00  91.000000  91.632500\n",
      "2020-06-24 00:00:00  91.250000  90.014999\n",
      "2020-06-25 00:00:00  90.175003  91.209999\n",
      "2020-06-26 00:00:00  91.102501  88.407501\n",
      "2020-06-29 00:00:00  88.312500  90.445000\n",
      "2020-06-30 00:00:00  90.019997  91.199997\n",
      "2020-07-01 00:00:00  91.279999  91.027496\n",
      "2020-07-02 00:00:00  91.962502  91.027496\n",
      "2020-07-06 00:00:00  92.500000  93.462502\n",
      "2020-07-07 00:00:00  93.852501  93.172501\n",
      "2020-07-08 00:00:00  94.180000  95.342499\n",
      "2020-07-09 00:00:00  96.262497  95.752502\n",
      "2020-07-10 00:00:00  95.334999  95.919998\n",
      "2020-07-13 00:00:00  97.264999  95.477501\n",
      "2020-07-14 00:00:00  94.839996  97.057503\n",
      "2020-07-15 00:00:00  98.989998  97.724998\n",
      "2020-07-16 00:00:00  96.562500  96.522499\n",
      "2020-07-17 00:00:00  96.987503  96.327499\n",
      "2020-07-20 00:00:00  96.417503  98.357498\n",
      "2020-07-21 00:00:00  99.172501  97.000000\n",
      "2020-07-22 00:00:00  96.692497  97.272499\n",
      "2020-07-23 00:00:00  96.997498  92.845001\n",
      "2020-07-24 00:00:00  90.987503  92.614998\n",
      "2020-07-27 00:00:00  93.709999  94.809998\n",
      "2020-07-28 00:00:00  94.367500  93.252502\n",
      "2020-07-29 00:00:00  93.750000  95.040001\n",
      "2020-07-30 00:00:00  94.187500  96.190002\n",
      "2020-07-31 00:00:00 102.885002 106.260002\n",
      "2020-08-03 00:00:00 108.199997 108.937500\n",
      "2020-08-04 00:00:00 109.132500 109.665001\n",
      "2020-08-05 00:00:00 109.377502 110.062500\n",
      "2020-08-06 00:00:00 110.404999 113.902496\n",
      "2020-08-07 00:00:00 113.205002 111.112503\n",
      "2020-08-10 00:00:00 112.599998 112.727501\n",
      "2020-08-11 00:00:00 111.970001 109.375000\n",
      "2020-08-12 00:00:00 110.497498 113.010002\n",
      "2020-08-13 00:00:00 114.430000 115.010002\n",
      "2020-08-14 00:00:00 114.830002 114.907501\n",
      "2020-08-17 00:00:00 116.062500 114.607498\n",
      "2020-08-18 00:00:00 114.352501 115.562500\n",
      "2020-08-19 00:00:00 115.982498 115.707497\n",
      "2020-08-20 00:00:00 115.750000 118.275002\n",
      "2020-08-21 00:00:00 119.262497 124.370003\n",
      "2020-08-24 00:00:00 128.697495 125.857498\n",
      "2020-08-25 00:00:00 124.697502 124.824997\n",
      "2020-08-26 00:00:00 126.180000 126.522499\n",
      "2020-08-27 00:00:00 127.142502 125.010002\n",
      "2020-08-28 00:00:00 126.012497 124.807503\n",
      "2020-08-31 00:00:00 127.580002 129.039993\n",
      "2020-09-01 00:00:00 132.759995 134.179993\n",
      "2020-09-02 00:00:00 137.589996 131.399994\n",
      "2020-09-03 00:00:00 126.910004 120.879997\n",
      "2020-09-04 00:00:00 120.070000 120.959999\n",
      "2020-09-08 00:00:00 113.949997 112.820000\n",
      "2020-09-09 00:00:00 117.260002 117.320000\n",
      "2020-09-10 00:00:00 120.360001 113.489998\n",
      "2020-09-11 00:00:00 114.570000 112.000000\n",
      "2020-09-14 00:00:00 114.720001 115.360001\n",
      "2020-09-15 00:00:00 118.330002 115.540001\n",
      "2020-09-16 00:00:00 115.230003 112.129997\n",
      "2020-09-17 00:00:00 109.720001 110.339996\n",
      "2020-09-18 00:00:00 110.400002 106.839996\n",
      "2020-09-21 00:00:00 104.540001 110.080002\n",
      "2020-09-22 00:00:00 112.680000 111.809998\n",
      "2020-09-23 00:00:00 111.620003 107.120003\n",
      "2020-09-24 00:00:00 105.169998 108.220001\n",
      "2020-09-25 00:00:00 108.430000 112.279999\n",
      "2020-09-28 00:00:00 115.010002 114.959999\n",
      "2020-09-29 00:00:00 114.550003 114.089996\n",
      "2020-09-30 00:00:00 113.790001 115.809998\n",
      "2020-10-01 00:00:00 117.639999 116.790001\n",
      "2020-10-02 00:00:00 112.889999 113.019997\n",
      "2020-10-05 00:00:00 113.910004 116.500000\n",
      "2020-10-06 00:00:00 115.699997 113.160004\n",
      "2020-10-07 00:00:00 114.620003 115.080002\n",
      "2020-10-08 00:00:00 116.250000 114.970001\n",
      "2020-10-09 00:00:00 115.279999 116.970001\n",
      "2020-10-12 00:00:00 120.059998 124.400002\n",
      "2020-10-13 00:00:00 125.269997 121.099998\n",
      "2020-10-14 00:00:00 121.000000 121.190002\n",
      "2020-10-15 00:00:00 118.720001 120.709999\n",
      "2020-10-16 00:00:00 121.279999 119.019997\n",
      "2020-10-19 00:00:00 119.959999 115.980003\n",
      "2020-10-20 00:00:00 116.199997 117.510002\n",
      "2020-10-21 00:00:00 116.669998 116.870003\n",
      "2020-10-22 00:00:00 117.449997 115.750000\n",
      "2020-10-23 00:00:00 116.389999 115.040001\n",
      "2020-10-26 00:00:00 114.010002 115.050003\n",
      "2020-10-27 00:00:00 115.489998 116.599998\n",
      "2020-10-28 00:00:00 115.050003 111.199997\n",
      "2020-10-29 00:00:00 112.370003 115.320000\n",
      "2020-10-30 00:00:00 111.059998 108.860001\n",
      "2020-11-02 00:00:00 109.110001 108.769997\n",
      "2020-11-03 00:00:00 109.660004 110.440002\n",
      "2020-11-04 00:00:00 114.139999 114.949997\n",
      "2020-11-05 00:00:00 117.949997 119.029999\n",
      "2020-11-06 00:00:00 118.320000 118.690002\n",
      "2020-11-09 00:00:00 120.500000 116.320000\n",
      "2020-11-10 00:00:00 115.550003 115.970001\n",
      "2020-11-11 00:00:00 117.190002 119.489998\n",
      "2020-11-12 00:00:00 119.620003 119.209999\n",
      "2020-11-13 00:00:00 119.440002 119.260002\n",
      "2020-11-16 00:00:00 118.919998 120.300003\n",
      "2020-11-17 00:00:00 119.550003 119.389999\n",
      "2020-11-18 00:00:00 118.610001 118.029999\n",
      "2020-11-19 00:00:00 117.589996 118.639999\n",
      "2020-11-20 00:00:00 118.639999 117.339996\n",
      "2020-11-23 00:00:00 117.180000 113.849998\n",
      "2020-11-24 00:00:00 113.910004 115.169998\n",
      "2020-11-25 00:00:00 115.550003 116.029999\n",
      "2020-11-27 00:00:00 116.570000 116.589996\n",
      "2020-11-30 00:00:00 116.970001 119.050003\n",
      "2020-12-01 00:00:00 121.010002 122.720001\n",
      "2020-12-02 00:00:00 122.019997 123.080002\n",
      "2020-12-03 00:00:00 123.519997 122.940002\n",
      "2020-12-04 00:00:00 122.599998 122.250000\n",
      "2020-12-07 00:00:00 122.309998 123.750000\n",
      "2020-12-08 00:00:00 124.370003 124.379997\n",
      "2020-12-09 00:00:00 124.529999 121.779999\n",
      "2020-12-10 00:00:00 120.500000 123.239998\n",
      "2020-12-11 00:00:00 122.430000 122.410004\n",
      "2020-12-14 00:00:00 122.599998 121.779999\n",
      "2020-12-15 00:00:00 124.339996 127.879997\n",
      "2020-12-16 00:00:00 127.410004 127.809998\n",
      "2020-12-17 00:00:00 128.899994 128.699997\n",
      "2020-12-18 00:00:00 128.960007 126.660004\n",
      "2020-12-21 00:00:00 125.019997 128.229996\n",
      "2020-12-22 00:00:00 131.610001 131.880005\n",
      "2020-12-23 00:00:00 132.160004 130.960007\n",
      "2020-12-24 00:00:00 131.320007 131.970001\n",
      "2020-12-28 00:00:00 133.990005 136.690002\n",
      "2020-12-29 00:00:00 138.050003 134.869995\n",
      "2020-12-30 00:00:00 135.580002 133.720001\n",
      "2020-12-31 00:00:00 134.080002 132.690002\n"
     ]
    }
   ],
   "source": [
    "s = period_price_oc.to_string(header=True, index=False)\n",
    "print(s)"
   ]
  },
  {
   "cell_type": "code",
   "execution_count": 17,
   "metadata": {},
   "outputs": [
    {
     "name": "stdout",
     "output_type": "stream",
     "text": [
      "On 2020-01-02 00:00:00, the stock opened at 74.05999755859375 and closed at 75.0875015258789.\n",
      "On 2020-01-03 00:00:00, the stock opened at 74.2874984741211 and closed at 74.35749816894531.\n",
      "On 2020-01-06 00:00:00, the stock opened at 73.44750213623047 and closed at 74.94999694824219.\n",
      "On 2020-01-07 00:00:00, the stock opened at 74.95999908447266 and closed at 74.59750366210938.\n",
      "On 2020-01-08 00:00:00, the stock opened at 74.29000091552734 and closed at 75.79750061035156.\n",
      "On 2020-01-09 00:00:00, the stock opened at 76.80999755859375 and closed at 77.40750122070312.\n",
      "On 2020-01-10 00:00:00, the stock opened at 77.6500015258789 and closed at 77.5824966430664.\n",
      "On 2020-01-13 00:00:00, the stock opened at 77.91000366210938 and closed at 79.23999786376953.\n",
      "On 2020-01-14 00:00:00, the stock opened at 79.17500305175781 and closed at 78.16999816894531.\n",
      "On 2020-01-15 00:00:00, the stock opened at 77.9625015258789 and closed at 77.83499908447266.\n",
      "On 2020-01-16 00:00:00, the stock opened at 78.39749908447266 and closed at 78.80999755859375.\n",
      "On 2020-01-17 00:00:00, the stock opened at 79.06749725341797 and closed at 79.68250274658203.\n",
      "On 2020-01-21 00:00:00, the stock opened at 79.29750061035156 and closed at 79.14250183105469.\n",
      "On 2020-01-22 00:00:00, the stock opened at 79.6449966430664 and closed at 79.42500305175781.\n",
      "On 2020-01-23 00:00:00, the stock opened at 79.4800033569336 and closed at 79.80750274658203.\n",
      "On 2020-01-24 00:00:00, the stock opened at 80.0625 and closed at 79.57749938964844.\n",
      "On 2020-01-27 00:00:00, the stock opened at 77.51499938964844 and closed at 77.23750305175781.\n",
      "On 2020-01-28 00:00:00, the stock opened at 78.1500015258789 and closed at 79.42250061035156.\n",
      "On 2020-01-29 00:00:00, the stock opened at 81.11250305175781 and closed at 81.08499908447266.\n",
      "On 2020-01-30 00:00:00, the stock opened at 80.13500213623047 and closed at 80.96749877929688.\n",
      "On 2020-01-31 00:00:00, the stock opened at 80.23249816894531 and closed at 77.37750244140625.\n",
      "On 2020-02-03 00:00:00, the stock opened at 76.07499694824219 and closed at 77.16500091552734.\n",
      "On 2020-02-04 00:00:00, the stock opened at 78.82749938964844 and closed at 79.7125015258789.\n",
      "On 2020-02-05 00:00:00, the stock opened at 80.87999725341797 and closed at 80.36250305175781.\n",
      "On 2020-02-06 00:00:00, the stock opened at 80.64250183105469 and closed at 81.30249786376953.\n",
      "On 2020-02-07 00:00:00, the stock opened at 80.59249877929688 and closed at 80.00749969482422.\n",
      "On 2020-02-10 00:00:00, the stock opened at 78.54499816894531 and closed at 80.38749694824219.\n",
      "On 2020-02-11 00:00:00, the stock opened at 80.9000015258789 and closed at 79.90249633789062.\n",
      "On 2020-02-12 00:00:00, the stock opened at 80.36750030517578 and closed at 81.80000305175781.\n",
      "On 2020-02-13 00:00:00, the stock opened at 81.04750061035156 and closed at 81.21749877929688.\n",
      "On 2020-02-14 00:00:00, the stock opened at 81.18499755859375 and closed at 81.23750305175781.\n",
      "On 2020-02-18 00:00:00, the stock opened at 78.83999633789062 and closed at 79.75.\n",
      "On 2020-02-19 00:00:00, the stock opened at 80.0 and closed at 80.90499877929688.\n",
      "On 2020-02-20 00:00:00, the stock opened at 80.65750122070312 and closed at 80.07499694824219.\n",
      "On 2020-02-21 00:00:00, the stock opened at 79.65499877929688 and closed at 78.26249694824219.\n",
      "On 2020-02-24 00:00:00, the stock opened at 74.31500244140625 and closed at 74.54499816894531.\n",
      "On 2020-02-25 00:00:00, the stock opened at 75.23750305175781 and closed at 72.0199966430664.\n",
      "On 2020-02-26 00:00:00, the stock opened at 71.63249969482422 and closed at 73.1624984741211.\n",
      "On 2020-02-27 00:00:00, the stock opened at 70.2750015258789 and closed at 68.37999725341797.\n",
      "On 2020-02-28 00:00:00, the stock opened at 64.31500244140625 and closed at 68.33999633789062.\n",
      "On 2020-03-02 00:00:00, the stock opened at 70.56999969482422 and closed at 74.70249938964844.\n",
      "On 2020-03-03 00:00:00, the stock opened at 75.9175033569336 and closed at 72.33000183105469.\n",
      "On 2020-03-04 00:00:00, the stock opened at 74.11000061035156 and closed at 75.68499755859375.\n",
      "On 2020-03-05 00:00:00, the stock opened at 73.87999725341797 and closed at 73.2300033569336.\n",
      "On 2020-03-06 00:00:00, the stock opened at 70.5 and closed at 72.25749969482422.\n",
      "On 2020-03-09 00:00:00, the stock opened at 65.9375 and closed at 66.5425033569336.\n",
      "On 2020-03-10 00:00:00, the stock opened at 69.28500366210938 and closed at 71.33499908447266.\n",
      "On 2020-03-11 00:00:00, the stock opened at 69.34750366210938 and closed at 68.85749816894531.\n",
      "On 2020-03-12 00:00:00, the stock opened at 63.98500061035156 and closed at 62.057498931884766.\n",
      "On 2020-03-13 00:00:00, the stock opened at 66.22250366210938 and closed at 69.49250030517578.\n",
      "On 2020-03-16 00:00:00, the stock opened at 60.48749923706055 and closed at 60.5525016784668.\n",
      "On 2020-03-17 00:00:00, the stock opened at 61.87749862670898 and closed at 63.21500015258789.\n",
      "On 2020-03-18 00:00:00, the stock opened at 59.942501068115234 and closed at 61.66749954223633.\n",
      "On 2020-03-19 00:00:00, the stock opened at 61.84749984741211 and closed at 61.19499969482422.\n",
      "On 2020-03-20 00:00:00, the stock opened at 61.79499816894531 and closed at 57.310001373291016.\n",
      "On 2020-03-23 00:00:00, the stock opened at 57.02000045776367 and closed at 56.09249877929688.\n",
      "On 2020-03-24 00:00:00, the stock opened at 59.09000015258789 and closed at 61.720001220703125.\n",
      "On 2020-03-25 00:00:00, the stock opened at 62.6875 and closed at 61.380001068115234.\n",
      "On 2020-03-26 00:00:00, the stock opened at 61.630001068115234 and closed at 64.61000061035156.\n",
      "On 2020-03-27 00:00:00, the stock opened at 63.1875 and closed at 61.935001373291016.\n",
      "On 2020-03-30 00:00:00, the stock opened at 62.685001373291016 and closed at 63.70249938964844.\n",
      "On 2020-03-31 00:00:00, the stock opened at 63.900001525878906 and closed at 63.5724983215332.\n",
      "On 2020-04-01 00:00:00, the stock opened at 61.625 and closed at 60.227500915527344.\n",
      "On 2020-04-02 00:00:00, the stock opened at 60.084999084472656 and closed at 61.23249816894531.\n",
      "On 2020-04-03 00:00:00, the stock opened at 60.70000076293945 and closed at 60.352500915527344.\n",
      "On 2020-04-06 00:00:00, the stock opened at 62.72499847412109 and closed at 65.61750030517578.\n",
      "On 2020-04-07 00:00:00, the stock opened at 67.69999694824219 and closed at 64.85749816894531.\n",
      "On 2020-04-08 00:00:00, the stock opened at 65.68499755859375 and closed at 66.51750183105469.\n",
      "On 2020-04-09 00:00:00, the stock opened at 67.17500305175781 and closed at 66.99749755859375.\n",
      "On 2020-04-13 00:00:00, the stock opened at 67.07749938964844 and closed at 68.3125.\n",
      "On 2020-04-14 00:00:00, the stock opened at 70.0 and closed at 71.76249694824219.\n",
      "On 2020-04-15 00:00:00, the stock opened at 70.5999984741211 and closed at 71.10749816894531.\n",
      "On 2020-04-16 00:00:00, the stock opened at 71.84500122070312 and closed at 71.67250061035156.\n",
      "On 2020-04-17 00:00:00, the stock opened at 71.17250061035156 and closed at 70.69999694824219.\n",
      "On 2020-04-20 00:00:00, the stock opened at 69.48750305175781 and closed at 69.23249816894531.\n",
      "On 2020-04-21 00:00:00, the stock opened at 69.06999969482422 and closed at 67.09249877929688.\n",
      "On 2020-04-22 00:00:00, the stock opened at 68.40249633789062 and closed at 69.0250015258789.\n",
      "On 2020-04-23 00:00:00, the stock opened at 68.96749877929688 and closed at 68.75749969482422.\n",
      "On 2020-04-24 00:00:00, the stock opened at 69.30000305175781 and closed at 70.74250030517578.\n",
      "On 2020-04-27 00:00:00, the stock opened at 70.44999694824219 and closed at 70.7925033569336.\n",
      "On 2020-04-28 00:00:00, the stock opened at 71.2699966430664 and closed at 69.6449966430664.\n",
      "On 2020-04-29 00:00:00, the stock opened at 71.18250274658203 and closed at 71.93250274658203.\n",
      "On 2020-04-30 00:00:00, the stock opened at 72.48999786376953 and closed at 73.44999694824219.\n",
      "On 2020-05-01 00:00:00, the stock opened at 71.5625 and closed at 72.26750183105469.\n",
      "On 2020-05-04 00:00:00, the stock opened at 72.2925033569336 and closed at 73.29000091552734.\n",
      "On 2020-05-05 00:00:00, the stock opened at 73.76499938964844 and closed at 74.38999938964844.\n",
      "On 2020-05-06 00:00:00, the stock opened at 75.11499786376953 and closed at 75.15750122070312.\n",
      "On 2020-05-07 00:00:00, the stock opened at 75.80500030517578 and closed at 75.93499755859375.\n",
      "On 2020-05-08 00:00:00, the stock opened at 76.41000366210938 and closed at 77.53250122070312.\n",
      "On 2020-05-11 00:00:00, the stock opened at 77.0250015258789 and closed at 78.75250244140625.\n",
      "On 2020-05-12 00:00:00, the stock opened at 79.4574966430664 and closed at 77.85250091552734.\n",
      "On 2020-05-13 00:00:00, the stock opened at 78.0374984741211 and closed at 76.9124984741211.\n",
      "On 2020-05-14 00:00:00, the stock opened at 76.12750244140625 and closed at 77.38500213623047.\n",
      "On 2020-05-15 00:00:00, the stock opened at 75.0875015258789 and closed at 76.92749786376953.\n",
      "On 2020-05-18 00:00:00, the stock opened at 78.2925033569336 and closed at 78.73999786376953.\n",
      "On 2020-05-19 00:00:00, the stock opened at 78.75749969482422 and closed at 78.28500366210938.\n",
      "On 2020-05-20 00:00:00, the stock opened at 79.16999816894531 and closed at 79.80750274658203.\n",
      "On 2020-05-21 00:00:00, the stock opened at 79.66500091552734 and closed at 79.2125015258789.\n",
      "On 2020-05-22 00:00:00, the stock opened at 78.94249725341797 and closed at 79.72250366210938.\n",
      "On 2020-05-26 00:00:00, the stock opened at 80.875 and closed at 79.18250274658203.\n",
      "On 2020-05-27 00:00:00, the stock opened at 79.03500366210938 and closed at 79.52749633789062.\n",
      "On 2020-05-28 00:00:00, the stock opened at 79.19249725341797 and closed at 79.5625.\n",
      "On 2020-05-29 00:00:00, the stock opened at 79.8125 and closed at 79.48500061035156.\n",
      "On 2020-06-01 00:00:00, the stock opened at 79.4375 and closed at 80.4625015258789.\n",
      "On 2020-06-02 00:00:00, the stock opened at 80.1875 and closed at 80.83499908447266.\n",
      "On 2020-06-03 00:00:00, the stock opened at 81.16500091552734 and closed at 81.27999877929688.\n",
      "On 2020-06-04 00:00:00, the stock opened at 81.09750366210938 and closed at 80.58000183105469.\n",
      "On 2020-06-05 00:00:00, the stock opened at 80.8375015258789 and closed at 82.875.\n",
      "On 2020-06-08 00:00:00, the stock opened at 82.5625 and closed at 83.36499786376953.\n",
      "On 2020-06-09 00:00:00, the stock opened at 83.03500366210938 and closed at 85.99749755859375.\n",
      "On 2020-06-10 00:00:00, the stock opened at 86.9749984741211 and closed at 88.20999908447266.\n",
      "On 2020-06-11 00:00:00, the stock opened at 87.32749938964844 and closed at 83.9749984741211.\n",
      "On 2020-06-12 00:00:00, the stock opened at 86.18000030517578 and closed at 84.69999694824219.\n",
      "On 2020-06-15 00:00:00, the stock opened at 83.3125 and closed at 85.74749755859375.\n",
      "On 2020-06-16 00:00:00, the stock opened at 87.86499786376953 and closed at 88.0199966430664.\n",
      "On 2020-06-17 00:00:00, the stock opened at 88.7874984741211 and closed at 87.89749908447266.\n",
      "On 2020-06-18 00:00:00, the stock opened at 87.85250091552734 and closed at 87.93250274658203.\n",
      "On 2020-06-19 00:00:00, the stock opened at 88.66000366210938 and closed at 87.43000030517578.\n",
      "On 2020-06-22 00:00:00, the stock opened at 87.83499908447266 and closed at 89.71749877929688.\n",
      "On 2020-06-23 00:00:00, the stock opened at 91.0 and closed at 91.63249969482422.\n",
      "On 2020-06-24 00:00:00, the stock opened at 91.25 and closed at 90.01499938964844.\n",
      "On 2020-06-25 00:00:00, the stock opened at 90.1750030517578 and closed at 91.20999908447266.\n",
      "On 2020-06-26 00:00:00, the stock opened at 91.10250091552734 and closed at 88.40750122070312.\n",
      "On 2020-06-29 00:00:00, the stock opened at 88.3125 and closed at 90.44499969482422.\n",
      "On 2020-06-30 00:00:00, the stock opened at 90.0199966430664 and closed at 91.1999969482422.\n",
      "On 2020-07-01 00:00:00, the stock opened at 91.27999877929688 and closed at 91.02749633789062.\n",
      "On 2020-07-02 00:00:00, the stock opened at 91.9625015258789 and closed at 91.02749633789062.\n",
      "On 2020-07-06 00:00:00, the stock opened at 92.5 and closed at 93.4625015258789.\n",
      "On 2020-07-07 00:00:00, the stock opened at 93.85250091552734 and closed at 93.17250061035156.\n",
      "On 2020-07-08 00:00:00, the stock opened at 94.18000030517578 and closed at 95.34249877929688.\n",
      "On 2020-07-09 00:00:00, the stock opened at 96.2624969482422 and closed at 95.75250244140624.\n",
      "On 2020-07-10 00:00:00, the stock opened at 95.33499908447266 and closed at 95.91999816894533.\n",
      "On 2020-07-13 00:00:00, the stock opened at 97.26499938964844 and closed at 95.47750091552734.\n",
      "On 2020-07-14 00:00:00, the stock opened at 94.83999633789062 and closed at 97.05750274658205.\n",
      "On 2020-07-15 00:00:00, the stock opened at 98.98999786376952 and closed at 97.7249984741211.\n",
      "On 2020-07-16 00:00:00, the stock opened at 96.5625 and closed at 96.52249908447266.\n",
      "On 2020-07-17 00:00:00, the stock opened at 96.9875030517578 and closed at 96.32749938964844.\n",
      "On 2020-07-20 00:00:00, the stock opened at 96.4175033569336 and closed at 98.35749816894533.\n",
      "On 2020-07-21 00:00:00, the stock opened at 99.17250061035156 and closed at 97.0.\n",
      "On 2020-07-22 00:00:00, the stock opened at 96.69249725341795 and closed at 97.27249908447266.\n",
      "On 2020-07-23 00:00:00, the stock opened at 96.99749755859376 and closed at 92.84500122070312.\n",
      "On 2020-07-24 00:00:00, the stock opened at 90.9875030517578 and closed at 92.61499786376952.\n",
      "On 2020-07-27 00:00:00, the stock opened at 93.70999908447266 and closed at 94.80999755859376.\n",
      "On 2020-07-28 00:00:00, the stock opened at 94.36750030517578 and closed at 93.25250244140624.\n",
      "On 2020-07-29 00:00:00, the stock opened at 93.75 and closed at 95.04000091552734.\n",
      "On 2020-07-30 00:00:00, the stock opened at 94.1875 and closed at 96.19000244140624.\n",
      "On 2020-07-31 00:00:00, the stock opened at 102.88500213623048 and closed at 106.26000213623048.\n",
      "On 2020-08-03 00:00:00, the stock opened at 108.1999969482422 and closed at 108.9375.\n",
      "On 2020-08-04 00:00:00, the stock opened at 109.13249969482422 and closed at 109.66500091552734.\n",
      "On 2020-08-05 00:00:00, the stock opened at 109.37750244140624 and closed at 110.0625.\n",
      "On 2020-08-06 00:00:00, the stock opened at 110.40499877929688 and closed at 113.90249633789062.\n",
      "On 2020-08-07 00:00:00, the stock opened at 113.20500183105467 and closed at 111.1125030517578.\n",
      "On 2020-08-10 00:00:00, the stock opened at 112.5999984741211 and closed at 112.72750091552734.\n",
      "On 2020-08-11 00:00:00, the stock opened at 111.97000122070312 and closed at 109.375.\n",
      "On 2020-08-12 00:00:00, the stock opened at 110.49749755859376 and closed at 113.01000213623048.\n",
      "On 2020-08-13 00:00:00, the stock opened at 114.43000030517578 and closed at 115.01000213623048.\n",
      "On 2020-08-14 00:00:00, the stock opened at 114.83000183105467 and closed at 114.90750122070312.\n",
      "On 2020-08-17 00:00:00, the stock opened at 116.0625 and closed at 114.60749816894533.\n",
      "On 2020-08-18 00:00:00, the stock opened at 114.35250091552734 and closed at 115.5625.\n",
      "On 2020-08-19 00:00:00, the stock opened at 115.98249816894533 and closed at 115.7074966430664.\n",
      "On 2020-08-20 00:00:00, the stock opened at 115.75 and closed at 118.2750015258789.\n",
      "On 2020-08-21 00:00:00, the stock opened at 119.2624969482422 and closed at 124.37000274658205.\n",
      "On 2020-08-24 00:00:00, the stock opened at 128.69749450683594 and closed at 125.85749816894533.\n",
      "On 2020-08-25 00:00:00, the stock opened at 124.69750213623048 and closed at 124.8249969482422.\n",
      "On 2020-08-26 00:00:00, the stock opened at 126.18000030517578 and closed at 126.52249908447266.\n",
      "On 2020-08-27 00:00:00, the stock opened at 127.14250183105467 and closed at 125.01000213623048.\n",
      "On 2020-08-28 00:00:00, the stock opened at 126.0124969482422 and closed at 124.80750274658205.\n",
      "On 2020-08-31 00:00:00, the stock opened at 127.58000183105467 and closed at 129.0399932861328.\n",
      "On 2020-09-01 00:00:00, the stock opened at 132.75999450683594 and closed at 134.17999267578125.\n",
      "On 2020-09-02 00:00:00, the stock opened at 137.58999633789062 and closed at 131.39999389648438.\n",
      "On 2020-09-03 00:00:00, the stock opened at 126.91000366210938 and closed at 120.87999725341795.\n",
      "On 2020-09-04 00:00:00, the stock opened at 120.06999969482422 and closed at 120.95999908447266.\n",
      "On 2020-09-08 00:00:00, the stock opened at 113.9499969482422 and closed at 112.81999969482422.\n",
      "On 2020-09-09 00:00:00, the stock opened at 117.26000213623048 and closed at 117.31999969482422.\n",
      "On 2020-09-10 00:00:00, the stock opened at 120.36000061035156 and closed at 113.48999786376952.\n",
      "On 2020-09-11 00:00:00, the stock opened at 114.56999969482422 and closed at 112.0.\n",
      "On 2020-09-14 00:00:00, the stock opened at 114.72000122070312 and closed at 115.36000061035156.\n",
      "On 2020-09-15 00:00:00, the stock opened at 118.33000183105467 and closed at 115.54000091552734.\n",
      "On 2020-09-16 00:00:00, the stock opened at 115.2300033569336 and closed at 112.12999725341795.\n",
      "On 2020-09-17 00:00:00, the stock opened at 109.72000122070312 and closed at 110.33999633789062.\n",
      "On 2020-09-18 00:00:00, the stock opened at 110.4000015258789 and closed at 106.83999633789062.\n",
      "On 2020-09-21 00:00:00, the stock opened at 104.54000091552734 and closed at 110.08000183105467.\n",
      "On 2020-09-22 00:00:00, the stock opened at 112.68000030517578 and closed at 111.80999755859376.\n",
      "On 2020-09-23 00:00:00, the stock opened at 111.62000274658205 and closed at 107.12000274658205.\n",
      "On 2020-09-24 00:00:00, the stock opened at 105.16999816894533 and closed at 108.22000122070312.\n",
      "On 2020-09-25 00:00:00, the stock opened at 108.43000030517578 and closed at 112.27999877929688.\n",
      "On 2020-09-28 00:00:00, the stock opened at 115.01000213623048 and closed at 114.95999908447266.\n",
      "On 2020-09-29 00:00:00, the stock opened at 114.5500030517578 and closed at 114.08999633789062.\n",
      "On 2020-09-30 00:00:00, the stock opened at 113.79000091552734 and closed at 115.80999755859376.\n",
      "On 2020-10-01 00:00:00, the stock opened at 117.63999938964844 and closed at 116.79000091552734.\n",
      "On 2020-10-02 00:00:00, the stock opened at 112.88999938964844 and closed at 113.0199966430664.\n",
      "On 2020-10-05 00:00:00, the stock opened at 113.91000366210938 and closed at 116.5.\n",
      "On 2020-10-06 00:00:00, the stock opened at 115.6999969482422 and closed at 113.16000366210938.\n",
      "On 2020-10-07 00:00:00, the stock opened at 114.62000274658205 and closed at 115.08000183105467.\n",
      "On 2020-10-08 00:00:00, the stock opened at 116.25 and closed at 114.97000122070312.\n",
      "On 2020-10-09 00:00:00, the stock opened at 115.27999877929688 and closed at 116.97000122070312.\n",
      "On 2020-10-12 00:00:00, the stock opened at 120.05999755859376 and closed at 124.4000015258789.\n",
      "On 2020-10-13 00:00:00, the stock opened at 125.2699966430664 and closed at 121.0999984741211.\n",
      "On 2020-10-14 00:00:00, the stock opened at 121.0 and closed at 121.19000244140624.\n",
      "On 2020-10-15 00:00:00, the stock opened at 118.72000122070312 and closed at 120.70999908447266.\n",
      "On 2020-10-16 00:00:00, the stock opened at 121.27999877929688 and closed at 119.0199966430664.\n",
      "On 2020-10-19 00:00:00, the stock opened at 119.95999908447266 and closed at 115.9800033569336.\n",
      "On 2020-10-20 00:00:00, the stock opened at 116.1999969482422 and closed at 117.51000213623048.\n",
      "On 2020-10-21 00:00:00, the stock opened at 116.66999816894533 and closed at 116.87000274658205.\n",
      "On 2020-10-22 00:00:00, the stock opened at 117.4499969482422 and closed at 115.75.\n",
      "On 2020-10-23 00:00:00, the stock opened at 116.38999938964844 and closed at 115.04000091552734.\n",
      "On 2020-10-26 00:00:00, the stock opened at 114.01000213623048 and closed at 115.0500030517578.\n",
      "On 2020-10-27 00:00:00, the stock opened at 115.48999786376952 and closed at 116.5999984741211.\n",
      "On 2020-10-28 00:00:00, the stock opened at 115.0500030517578 and closed at 111.1999969482422.\n",
      "On 2020-10-29 00:00:00, the stock opened at 112.37000274658205 and closed at 115.31999969482422.\n",
      "On 2020-10-30 00:00:00, the stock opened at 111.05999755859376 and closed at 108.86000061035156.\n",
      "On 2020-11-02 00:00:00, the stock opened at 109.11000061035156 and closed at 108.7699966430664.\n",
      "On 2020-11-03 00:00:00, the stock opened at 109.66000366210938 and closed at 110.44000244140624.\n",
      "On 2020-11-04 00:00:00, the stock opened at 114.13999938964844 and closed at 114.9499969482422.\n",
      "On 2020-11-05 00:00:00, the stock opened at 117.9499969482422 and closed at 119.02999877929688.\n",
      "On 2020-11-06 00:00:00, the stock opened at 118.31999969482422 and closed at 118.69000244140624.\n",
      "On 2020-11-09 00:00:00, the stock opened at 120.5 and closed at 116.31999969482422.\n",
      "On 2020-11-10 00:00:00, the stock opened at 115.5500030517578 and closed at 115.97000122070312.\n",
      "On 2020-11-11 00:00:00, the stock opened at 117.19000244140624 and closed at 119.48999786376952.\n",
      "On 2020-11-12 00:00:00, the stock opened at 119.62000274658205 and closed at 119.20999908447266.\n",
      "On 2020-11-13 00:00:00, the stock opened at 119.44000244140624 and closed at 119.26000213623048.\n",
      "On 2020-11-16 00:00:00, the stock opened at 118.91999816894533 and closed at 120.3000030517578.\n",
      "On 2020-11-17 00:00:00, the stock opened at 119.5500030517578 and closed at 119.38999938964844.\n",
      "On 2020-11-18 00:00:00, the stock opened at 118.61000061035156 and closed at 118.02999877929688.\n",
      "On 2020-11-19 00:00:00, the stock opened at 117.58999633789062 and closed at 118.63999938964844.\n",
      "On 2020-11-20 00:00:00, the stock opened at 118.63999938964844 and closed at 117.33999633789062.\n",
      "On 2020-11-23 00:00:00, the stock opened at 117.18000030517578 and closed at 113.8499984741211.\n",
      "On 2020-11-24 00:00:00, the stock opened at 113.91000366210938 and closed at 115.16999816894533.\n",
      "On 2020-11-25 00:00:00, the stock opened at 115.5500030517578 and closed at 116.02999877929688.\n",
      "On 2020-11-27 00:00:00, the stock opened at 116.56999969482422 and closed at 116.58999633789062.\n",
      "On 2020-11-30 00:00:00, the stock opened at 116.97000122070312 and closed at 119.0500030517578.\n",
      "On 2020-12-01 00:00:00, the stock opened at 121.01000213623048 and closed at 122.72000122070312.\n",
      "On 2020-12-02 00:00:00, the stock opened at 122.0199966430664 and closed at 123.08000183105467.\n",
      "On 2020-12-03 00:00:00, the stock opened at 123.5199966430664 and closed at 122.94000244140624.\n",
      "On 2020-12-04 00:00:00, the stock opened at 122.5999984741211 and closed at 122.25.\n",
      "On 2020-12-07 00:00:00, the stock opened at 122.30999755859376 and closed at 123.75.\n",
      "On 2020-12-08 00:00:00, the stock opened at 124.37000274658205 and closed at 124.37999725341795.\n",
      "On 2020-12-09 00:00:00, the stock opened at 124.52999877929688 and closed at 121.77999877929688.\n",
      "On 2020-12-10 00:00:00, the stock opened at 120.5 and closed at 123.23999786376952.\n",
      "On 2020-12-11 00:00:00, the stock opened at 122.43000030517578 and closed at 122.41000366210938.\n",
      "On 2020-12-14 00:00:00, the stock opened at 122.5999984741211 and closed at 121.77999877929688.\n",
      "On 2020-12-15 00:00:00, the stock opened at 124.33999633789062 and closed at 127.87999725341795.\n",
      "On 2020-12-16 00:00:00, the stock opened at 127.41000366210938 and closed at 127.80999755859376.\n",
      "On 2020-12-17 00:00:00, the stock opened at 128.89999389648438 and closed at 128.6999969482422.\n",
      "On 2020-12-18 00:00:00, the stock opened at 128.9600067138672 and closed at 126.66000366210938.\n",
      "On 2020-12-21 00:00:00, the stock opened at 125.0199966430664 and closed at 128.22999572753906.\n",
      "On 2020-12-22 00:00:00, the stock opened at 131.61000061035156 and closed at 131.8800048828125.\n",
      "On 2020-12-23 00:00:00, the stock opened at 132.16000366210938 and closed at 130.9600067138672.\n",
      "On 2020-12-24 00:00:00, the stock opened at 131.32000732421875 and closed at 131.97000122070312.\n",
      "On 2020-12-28 00:00:00, the stock opened at 133.99000549316406 and closed at 136.69000244140625.\n",
      "On 2020-12-29 00:00:00, the stock opened at 138.0500030517578 and closed at 134.8699951171875.\n",
      "On 2020-12-30 00:00:00, the stock opened at 135.5800018310547 and closed at 133.72000122070312.\n",
      "On 2020-12-31 00:00:00, the stock opened at 134.0800018310547 and closed at 132.69000244140625.\n"
     ]
    }
   ],
   "source": [
    "narrative = '\\n'.join([\n",
    "    f\"On {row.Date}, the stock opened at {row.Open} and closed at {row.Close}.\"\n",
    "    for row in period_price_oc.itertuples()\n",
    "])\n",
    "print(narrative)"
   ]
  },
  {
   "cell_type": "code",
   "execution_count": 18,
   "metadata": {},
   "outputs": [
    {
     "name": "stdout",
     "output_type": "stream",
     "text": [
      "10667 23692\n"
     ]
    }
   ],
   "source": [
    "print(len(s), len(narrative))"
   ]
  },
  {
   "cell_type": "code",
   "execution_count": 19,
   "metadata": {},
   "outputs": [],
   "source": [
    "# ticker = 'AAPL' \n",
    "# stock = yf.Ticker(ticker)\n",
    "# print(len(stock.info.keys()))\n",
    "# for key in stock.info.keys():\n",
    "#     if 'earn' in key.lower() or 'price' in key.lower() or 'financ' in key.lower() or 'revenue' in key.lower() or 'profit' in key.lower():\n",
    "#         print(key)"
   ]
  },
  {
   "cell_type": "code",
   "execution_count": 20,
   "metadata": {},
   "outputs": [],
   "source": [
    "# API_KEY = 'UJ0Z4PLU9AB6OR62'\n",
    "# EPS_data = {}\n",
    "# for ticker in tqdm(tickers):\n",
    "#     url = f'https://www.alphavantage.co/query?function=EARNINGS&symbol={ticker}&apikey={API_KEY}'\n",
    "#     try:\n",
    "#         r = requests.get(url)\n",
    "#         if r.status_code != 200:\n",
    "#             print(f'Error fetching data for {ticker}')\n",
    "#             continue\n",
    "#         data = r.json()\n",
    "#         EPS_data[ticker] = data\n",
    "#         if len(EPS_data) == 5:\n",
    "#             break # testing\n",
    "#     except:\n",
    "#         print(f'Error fetching data for {ticker}')\n",
    "#         continue\n",
    "# print(len(EPS_data))"
   ]
  },
  {
   "cell_type": "code",
   "execution_count": 21,
   "metadata": {},
   "outputs": [],
   "source": [
    "# print(EPS_data.keys())\n",
    "# print(EPS_data['MMM'])"
   ]
  },
  {
   "cell_type": "code",
   "execution_count": 22,
   "metadata": {},
   "outputs": [
    {
     "data": {
      "text/plain": [
       "dict_keys(['symbol', 'annualEarnings', 'quarterlyEarnings'])"
      ]
     },
     "execution_count": 22,
     "metadata": {},
     "output_type": "execute_result"
    }
   ],
   "source": [
    "import json\n",
    "with open('eps_history/data-AAPL.json', 'r') as f:\n",
    "    eps_dict = json.load(f)\n",
    "eps_dict.keys()"
   ]
  },
  {
   "cell_type": "code",
   "execution_count": 23,
   "metadata": {},
   "outputs": [
    {
     "data": {
      "text/plain": [
       "'AAPL'"
      ]
     },
     "execution_count": 23,
     "metadata": {},
     "output_type": "execute_result"
    }
   ],
   "source": [
    "eps_dict['symbol']"
   ]
  },
  {
   "cell_type": "code",
   "execution_count": 24,
   "metadata": {},
   "outputs": [
    {
     "data": {
      "text/plain": [
       "112"
      ]
     },
     "execution_count": 24,
     "metadata": {},
     "output_type": "execute_result"
    }
   ],
   "source": [
    "len(eps_dict['quarterlyEarnings'])"
   ]
  },
  {
   "cell_type": "code",
   "execution_count": 25,
   "metadata": {},
   "outputs": [
    {
     "data": {
      "text/plain": [
       "29"
      ]
     },
     "execution_count": 25,
     "metadata": {},
     "output_type": "execute_result"
    }
   ],
   "source": [
    "len(eps_dict['annualEarnings'])"
   ]
  },
  {
   "cell_type": "code",
   "execution_count": 26,
   "metadata": {},
   "outputs": [],
   "source": [
    "quarterly_eps = eps_dict['quarterlyEarnings']\n",
    "annual_eps = eps_dict['annualEarnings']"
   ]
  },
  {
   "cell_type": "code",
   "execution_count": 27,
   "metadata": {},
   "outputs": [
    {
     "data": {
      "text/plain": [
       "dict_keys(['fiscalDateEnding', 'reportedDate', 'reportedEPS', 'estimatedEPS', 'surprise', 'surprisePercentage'])"
      ]
     },
     "execution_count": 27,
     "metadata": {},
     "output_type": "execute_result"
    }
   ],
   "source": [
    "quarterly_eps[0].keys()"
   ]
  },
  {
   "cell_type": "code",
   "execution_count": 28,
   "metadata": {},
   "outputs": [
    {
     "data": {
      "text/plain": [
       "dict_keys(['fiscalDateEnding', 'reportedEPS'])"
      ]
     },
     "execution_count": 28,
     "metadata": {},
     "output_type": "execute_result"
    }
   ],
   "source": [
    "annual_eps[0].keys()"
   ]
  },
  {
   "cell_type": "code",
   "execution_count": 29,
   "metadata": {},
   "outputs": [
    {
     "data": {
      "text/plain": [
       "{'fiscalDateEnding': '2023-12-31',\n",
       " 'reportedDate': '2024-02-01',\n",
       " 'reportedEPS': '2.18',\n",
       " 'estimatedEPS': '2.1',\n",
       " 'surprise': '0.08',\n",
       " 'surprisePercentage': '3.8095'}"
      ]
     },
     "execution_count": 29,
     "metadata": {},
     "output_type": "execute_result"
    }
   ],
   "source": [
    "quarterly_eps[0]"
   ]
  },
  {
   "cell_type": "code",
   "execution_count": 30,
   "metadata": {},
   "outputs": [
    {
     "data": {
      "text/html": [
       "<div>\n",
       "<style scoped>\n",
       "    .dataframe tbody tr th:only-of-type {\n",
       "        vertical-align: middle;\n",
       "    }\n",
       "\n",
       "    .dataframe tbody tr th {\n",
       "        vertical-align: top;\n",
       "    }\n",
       "\n",
       "    .dataframe thead th {\n",
       "        text-align: right;\n",
       "    }\n",
       "</style>\n",
       "<table border=\"1\" class=\"dataframe\">\n",
       "  <thead>\n",
       "    <tr style=\"text-align: right;\">\n",
       "      <th></th>\n",
       "      <th>fiscalDateEnding</th>\n",
       "      <th>reportedDate</th>\n",
       "      <th>reportedEPS</th>\n",
       "      <th>estimatedEPS</th>\n",
       "      <th>surprise</th>\n",
       "      <th>surprisePercentage</th>\n",
       "    </tr>\n",
       "  </thead>\n",
       "  <tbody>\n",
       "    <tr>\n",
       "      <th>0</th>\n",
       "      <td>2023-12-31</td>\n",
       "      <td>2024-02-01</td>\n",
       "      <td>2.18</td>\n",
       "      <td>2.1</td>\n",
       "      <td>0.08</td>\n",
       "      <td>3.8095</td>\n",
       "    </tr>\n",
       "    <tr>\n",
       "      <th>1</th>\n",
       "      <td>2023-09-30</td>\n",
       "      <td>2023-11-02</td>\n",
       "      <td>1.46</td>\n",
       "      <td>1.39</td>\n",
       "      <td>0.07</td>\n",
       "      <td>5.036</td>\n",
       "    </tr>\n",
       "    <tr>\n",
       "      <th>2</th>\n",
       "      <td>2023-06-30</td>\n",
       "      <td>2023-08-03</td>\n",
       "      <td>1.26</td>\n",
       "      <td>1.19</td>\n",
       "      <td>0.07</td>\n",
       "      <td>5.8824</td>\n",
       "    </tr>\n",
       "    <tr>\n",
       "      <th>3</th>\n",
       "      <td>2023-03-31</td>\n",
       "      <td>2023-05-04</td>\n",
       "      <td>1.52</td>\n",
       "      <td>1.43</td>\n",
       "      <td>0.09</td>\n",
       "      <td>6.2937</td>\n",
       "    </tr>\n",
       "    <tr>\n",
       "      <th>4</th>\n",
       "      <td>2022-12-31</td>\n",
       "      <td>2023-02-02</td>\n",
       "      <td>1.88</td>\n",
       "      <td>1.94</td>\n",
       "      <td>-0.06</td>\n",
       "      <td>-3.0928</td>\n",
       "    </tr>\n",
       "  </tbody>\n",
       "</table>\n",
       "</div>"
      ],
      "text/plain": [
       "  fiscalDateEnding reportedDate reportedEPS estimatedEPS surprise  \\\n",
       "0       2023-12-31   2024-02-01        2.18          2.1     0.08   \n",
       "1       2023-09-30   2023-11-02        1.46         1.39     0.07   \n",
       "2       2023-06-30   2023-08-03        1.26         1.19     0.07   \n",
       "3       2023-03-31   2023-05-04        1.52         1.43     0.09   \n",
       "4       2022-12-31   2023-02-02        1.88         1.94    -0.06   \n",
       "\n",
       "  surprisePercentage  \n",
       "0             3.8095  \n",
       "1              5.036  \n",
       "2             5.8824  \n",
       "3             6.2937  \n",
       "4            -3.0928  "
      ]
     },
     "execution_count": 30,
     "metadata": {},
     "output_type": "execute_result"
    }
   ],
   "source": [
    "quarterly_eps_df = pd.DataFrame(quarterly_eps)\n",
    "quarterly_eps_df.head()"
   ]
  },
  {
   "cell_type": "code",
   "execution_count": 31,
   "metadata": {},
   "outputs": [
    {
     "data": {
      "text/html": [
       "<div>\n",
       "<style scoped>\n",
       "    .dataframe tbody tr th:only-of-type {\n",
       "        vertical-align: middle;\n",
       "    }\n",
       "\n",
       "    .dataframe tbody tr th {\n",
       "        vertical-align: top;\n",
       "    }\n",
       "\n",
       "    .dataframe thead th {\n",
       "        text-align: right;\n",
       "    }\n",
       "</style>\n",
       "<table border=\"1\" class=\"dataframe\">\n",
       "  <thead>\n",
       "    <tr style=\"text-align: right;\">\n",
       "      <th></th>\n",
       "      <th>fiscalDateEnding</th>\n",
       "      <th>reportedDate</th>\n",
       "      <th>reportedEPS</th>\n",
       "      <th>estimatedEPS</th>\n",
       "      <th>surprise</th>\n",
       "      <th>surprisePercentage</th>\n",
       "    </tr>\n",
       "  </thead>\n",
       "  <tbody>\n",
       "    <tr>\n",
       "      <th>8</th>\n",
       "      <td>2021-12-31</td>\n",
       "      <td>2022-01-27</td>\n",
       "      <td>2.1</td>\n",
       "      <td>1.89</td>\n",
       "      <td>0.21</td>\n",
       "      <td>11.1111</td>\n",
       "    </tr>\n",
       "    <tr>\n",
       "      <th>9</th>\n",
       "      <td>2021-09-30</td>\n",
       "      <td>2021-10-28</td>\n",
       "      <td>1.24</td>\n",
       "      <td>1.24</td>\n",
       "      <td>0</td>\n",
       "      <td>0</td>\n",
       "    </tr>\n",
       "    <tr>\n",
       "      <th>10</th>\n",
       "      <td>2021-06-30</td>\n",
       "      <td>2021-07-27</td>\n",
       "      <td>1.3</td>\n",
       "      <td>1.01</td>\n",
       "      <td>0.29</td>\n",
       "      <td>28.7129</td>\n",
       "    </tr>\n",
       "    <tr>\n",
       "      <th>11</th>\n",
       "      <td>2021-03-31</td>\n",
       "      <td>2021-04-28</td>\n",
       "      <td>1.4</td>\n",
       "      <td>0.99</td>\n",
       "      <td>0.41</td>\n",
       "      <td>41.4141</td>\n",
       "    </tr>\n",
       "    <tr>\n",
       "      <th>12</th>\n",
       "      <td>2020-12-31</td>\n",
       "      <td>2021-01-27</td>\n",
       "      <td>1.68</td>\n",
       "      <td>1.41</td>\n",
       "      <td>0.27</td>\n",
       "      <td>19.1489</td>\n",
       "    </tr>\n",
       "  </tbody>\n",
       "</table>\n",
       "</div>"
      ],
      "text/plain": [
       "   fiscalDateEnding reportedDate reportedEPS estimatedEPS surprise  \\\n",
       "8        2021-12-31   2022-01-27         2.1         1.89     0.21   \n",
       "9        2021-09-30   2021-10-28        1.24         1.24        0   \n",
       "10       2021-06-30   2021-07-27         1.3         1.01     0.29   \n",
       "11       2021-03-31   2021-04-28         1.4         0.99     0.41   \n",
       "12       2020-12-31   2021-01-27        1.68         1.41     0.27   \n",
       "\n",
       "   surprisePercentage  \n",
       "8             11.1111  \n",
       "9                   0  \n",
       "10            28.7129  \n",
       "11            41.4141  \n",
       "12            19.1489  "
      ]
     },
     "execution_count": 31,
     "metadata": {},
     "output_type": "execute_result"
    }
   ],
   "source": [
    "start = '2020-03-14'\n",
    "end = '2021-5-18'\n",
    "quarterly_eps_df = quarterly_eps_df[(quarterly_eps_df['fiscalDateEnding'].between(start, end)) | (quarterly_eps_df['reportedDate'].between(start, end))]\n",
    "quarterly_eps_df.head()"
   ]
  },
  {
   "cell_type": "code",
   "execution_count": 32,
   "metadata": {},
   "outputs": [
    {
     "name": "stdout",
     "output_type": "stream",
     "text": [
      "fiscalDateEnding reportedDate reportedEPS estimatedEPS surprise surprisePercentage\n",
      "      2021-12-31   2022-01-27         2.1         1.89     0.21            11.1111\n",
      "      2021-09-30   2021-10-28        1.24         1.24        0                  0\n",
      "      2021-06-30   2021-07-27         1.3         1.01     0.29            28.7129\n",
      "      2021-03-31   2021-04-28         1.4         0.99     0.41            41.4141\n",
      "      2020-12-31   2021-01-27        1.68         1.41     0.27            19.1489\n",
      "      2020-09-30   2020-10-29        0.73          0.7     0.03             4.2857\n",
      "      2020-06-30   2020-07-30        0.65         0.51     0.14             27.451\n",
      "      2020-03-31   2020-04-30        0.64         0.56     0.08            14.2857\n"
     ]
    }
   ],
   "source": [
    "structured_quarterly_eps = quarterly_eps_df.to_string(header=True, index=False)\n",
    "print(structured_quarterly_eps)"
   ]
  },
  {
   "cell_type": "code",
   "execution_count": 33,
   "metadata": {},
   "outputs": [
    {
     "name": "stdout",
     "output_type": "stream",
     "text": [
      "On 2022-01-27, EPS was reported for fiscal date ended on 2021-12-31, which was 2.1 compared to estimated 1.89. The surprise was 0.21 with a percentage of 11.1111.\n",
      "On 2021-10-28, EPS was reported for fiscal date ended on 2021-09-30, which was 1.24 compared to estimated 1.24. The surprise was 0 with a percentage of 0.\n",
      "On 2021-07-27, EPS was reported for fiscal date ended on 2021-06-30, which was 1.3 compared to estimated 1.01. The surprise was 0.29 with a percentage of 28.7129.\n",
      "On 2021-04-28, EPS was reported for fiscal date ended on 2021-03-31, which was 1.4 compared to estimated 0.99. The surprise was 0.41 with a percentage of 41.4141.\n",
      "On 2021-01-27, EPS was reported for fiscal date ended on 2020-12-31, which was 1.68 compared to estimated 1.41. The surprise was 0.27 with a percentage of 19.1489.\n",
      "On 2020-10-29, EPS was reported for fiscal date ended on 2020-09-30, which was 0.73 compared to estimated 0.7. The surprise was 0.03 with a percentage of 4.2857.\n",
      "On 2020-07-30, EPS was reported for fiscal date ended on 2020-06-30, which was 0.65 compared to estimated 0.51. The surprise was 0.14 with a percentage of 27.451.\n",
      "On 2020-04-30, EPS was reported for fiscal date ended on 2020-03-31, which was 0.64 compared to estimated 0.56. The surprise was 0.08 with a percentage of 14.2857.\n"
     ]
    }
   ],
   "source": [
    "narrative_quarterly_eps = '\\n'.join([\n",
    "    f\"On {row.reportedDate}, EPS was reported for fiscal date ended on {row.fiscalDateEnding}, which was {row.reportedEPS} \\\n",
    "compared to estimated {row.estimatedEPS}. The surprise was {row.surprise} with a percentage of {row.surprisePercentage}.\"\n",
    "    for row in quarterly_eps_df.itertuples()\n",
    "])\n",
    "print(narrative_quarterly_eps)"
   ]
  },
  {
   "cell_type": "code",
   "execution_count": 34,
   "metadata": {},
   "outputs": [
    {
     "name": "stdout",
     "output_type": "stream",
     "text": [
      "746 1296\n"
     ]
    }
   ],
   "source": [
    "print(len(structured_quarterly_eps), len(narrative_quarterly_eps))"
   ]
  },
  {
   "cell_type": "code",
   "execution_count": 35,
   "metadata": {},
   "outputs": [],
   "source": [
    "start = '2023-01-01'\n",
    "end = '2023-12-31'"
   ]
  },
  {
   "cell_type": "code",
   "execution_count": 54,
   "metadata": {},
   "outputs": [
    {
     "data": {
      "text/html": [
       "<div>\n",
       "<style scoped>\n",
       "    .dataframe tbody tr th:only-of-type {\n",
       "        vertical-align: middle;\n",
       "    }\n",
       "\n",
       "    .dataframe tbody tr th {\n",
       "        vertical-align: top;\n",
       "    }\n",
       "\n",
       "    .dataframe thead th {\n",
       "        text-align: right;\n",
       "    }\n",
       "</style>\n",
       "<table border=\"1\" class=\"dataframe\">\n",
       "  <thead>\n",
       "    <tr style=\"text-align: right;\">\n",
       "      <th></th>\n",
       "      <th>Date</th>\n",
       "      <th>Adj Close</th>\n",
       "      <th>Close</th>\n",
       "      <th>High</th>\n",
       "      <th>Low</th>\n",
       "      <th>Open</th>\n",
       "      <th>Volume</th>\n",
       "    </tr>\n",
       "  </thead>\n",
       "  <tbody>\n",
       "    <tr>\n",
       "      <th>0</th>\n",
       "      <td>2023-01-03 00:00:00</td>\n",
       "      <td>124.216301</td>\n",
       "      <td>125.070000</td>\n",
       "      <td>130.899994</td>\n",
       "      <td>124.169998</td>\n",
       "      <td>130.279999</td>\n",
       "      <td>112117500</td>\n",
       "    </tr>\n",
       "    <tr>\n",
       "      <th>1</th>\n",
       "      <td>2023-01-04 00:00:00</td>\n",
       "      <td>125.497498</td>\n",
       "      <td>126.360001</td>\n",
       "      <td>128.660004</td>\n",
       "      <td>125.080002</td>\n",
       "      <td>126.889999</td>\n",
       "      <td>89113600</td>\n",
       "    </tr>\n",
       "    <tr>\n",
       "      <th>2</th>\n",
       "      <td>2023-01-05 00:00:00</td>\n",
       "      <td>124.166641</td>\n",
       "      <td>125.019997</td>\n",
       "      <td>127.769997</td>\n",
       "      <td>124.760002</td>\n",
       "      <td>127.129997</td>\n",
       "      <td>80962700</td>\n",
       "    </tr>\n",
       "    <tr>\n",
       "      <th>3</th>\n",
       "      <td>2023-01-06 00:00:00</td>\n",
       "      <td>128.735229</td>\n",
       "      <td>129.619995</td>\n",
       "      <td>130.289993</td>\n",
       "      <td>124.889999</td>\n",
       "      <td>126.010002</td>\n",
       "      <td>87754700</td>\n",
       "    </tr>\n",
       "    <tr>\n",
       "      <th>4</th>\n",
       "      <td>2023-01-09 00:00:00</td>\n",
       "      <td>129.261642</td>\n",
       "      <td>130.149994</td>\n",
       "      <td>133.410004</td>\n",
       "      <td>129.889999</td>\n",
       "      <td>130.470001</td>\n",
       "      <td>70790800</td>\n",
       "    </tr>\n",
       "  </tbody>\n",
       "</table>\n",
       "</div>"
      ],
      "text/plain": [
       "                  Date   Adj Close       Close        High         Low  \\\n",
       "0  2023-01-03 00:00:00  124.216301  125.070000  130.899994  124.169998   \n",
       "1  2023-01-04 00:00:00  125.497498  126.360001  128.660004  125.080002   \n",
       "2  2023-01-05 00:00:00  124.166641  125.019997  127.769997  124.760002   \n",
       "3  2023-01-06 00:00:00  128.735229  129.619995  130.289993  124.889999   \n",
       "4  2023-01-09 00:00:00  129.261642  130.149994  133.410004  129.889999   \n",
       "\n",
       "         Open     Volume  \n",
       "0  130.279999  112117500  \n",
       "1  126.889999   89113600  \n",
       "2  127.129997   80962700  \n",
       "3  126.010002   87754700  \n",
       "4  130.470001   70790800  "
      ]
     },
     "execution_count": 54,
     "metadata": {},
     "output_type": "execute_result"
    }
   ],
   "source": [
    "ticker = 'AAPL'\n",
    "comp_price = prices.xs(ticker, axis=1, level=1, drop_level=True)\n",
    "comp_stock = comp_price.loc[start:end]\n",
    "# comp_stock = comp_stock[['Open', 'Close']]\n",
    "comp_stock.columns.name = None\n",
    "comp_stock.reset_index(inplace=True)\n",
    "comp_stock.head()"
   ]
  },
  {
   "cell_type": "code",
   "execution_count": 60,
   "metadata": {},
   "outputs": [
    {
     "data": {
      "text/html": [
       "<div>\n",
       "<style scoped>\n",
       "    .dataframe tbody tr th:only-of-type {\n",
       "        vertical-align: middle;\n",
       "    }\n",
       "\n",
       "    .dataframe tbody tr th {\n",
       "        vertical-align: top;\n",
       "    }\n",
       "\n",
       "    .dataframe thead th {\n",
       "        text-align: right;\n",
       "    }\n",
       "</style>\n",
       "<table border=\"1\" class=\"dataframe\">\n",
       "  <thead>\n",
       "    <tr style=\"text-align: right;\">\n",
       "      <th></th>\n",
       "      <th>fiscalDateEnding</th>\n",
       "      <th>reportedDate</th>\n",
       "      <th>reportedEPS</th>\n",
       "      <th>estimatedEPS</th>\n",
       "      <th>surprise</th>\n",
       "      <th>surprisePercentage</th>\n",
       "    </tr>\n",
       "  </thead>\n",
       "  <tbody>\n",
       "    <tr>\n",
       "      <th>0</th>\n",
       "      <td>2023-12-31</td>\n",
       "      <td>2024-02-01</td>\n",
       "      <td>2.18</td>\n",
       "      <td>2.1</td>\n",
       "      <td>0.08</td>\n",
       "      <td>3.8095</td>\n",
       "    </tr>\n",
       "    <tr>\n",
       "      <th>1</th>\n",
       "      <td>2023-09-30</td>\n",
       "      <td>2023-11-02</td>\n",
       "      <td>1.46</td>\n",
       "      <td>1.39</td>\n",
       "      <td>0.07</td>\n",
       "      <td>5.036</td>\n",
       "    </tr>\n",
       "    <tr>\n",
       "      <th>2</th>\n",
       "      <td>2023-06-30</td>\n",
       "      <td>2023-08-03</td>\n",
       "      <td>1.26</td>\n",
       "      <td>1.19</td>\n",
       "      <td>0.07</td>\n",
       "      <td>5.8824</td>\n",
       "    </tr>\n",
       "    <tr>\n",
       "      <th>3</th>\n",
       "      <td>2023-03-31</td>\n",
       "      <td>2023-05-04</td>\n",
       "      <td>1.52</td>\n",
       "      <td>1.43</td>\n",
       "      <td>0.09</td>\n",
       "      <td>6.2937</td>\n",
       "    </tr>\n",
       "    <tr>\n",
       "      <th>4</th>\n",
       "      <td>2022-12-31</td>\n",
       "      <td>2023-02-02</td>\n",
       "      <td>1.88</td>\n",
       "      <td>1.94</td>\n",
       "      <td>-0.06</td>\n",
       "      <td>-3.0928</td>\n",
       "    </tr>\n",
       "  </tbody>\n",
       "</table>\n",
       "</div>"
      ],
      "text/plain": [
       "  fiscalDateEnding reportedDate reportedEPS estimatedEPS surprise  \\\n",
       "0       2023-12-31   2024-02-01        2.18          2.1     0.08   \n",
       "1       2023-09-30   2023-11-02        1.46         1.39     0.07   \n",
       "2       2023-06-30   2023-08-03        1.26         1.19     0.07   \n",
       "3       2023-03-31   2023-05-04        1.52         1.43     0.09   \n",
       "4       2022-12-31   2023-02-02        1.88         1.94    -0.06   \n",
       "\n",
       "  surprisePercentage  \n",
       "0             3.8095  \n",
       "1              5.036  \n",
       "2             5.8824  \n",
       "3             6.2937  \n",
       "4            -3.0928  "
      ]
     },
     "execution_count": 60,
     "metadata": {},
     "output_type": "execute_result"
    }
   ],
   "source": [
    "import json\n",
    "with open('eps_history/data-AAPL.json', 'r') as f:\n",
    "    eps_dict = json.load(f)\n",
    "eps_dict.keys()\n",
    "quarterly_eps = eps_dict['quarterlyEarnings']\n",
    "quarterly_eps_df = pd.DataFrame(quarterly_eps)\n",
    "# quarterly_eps_df = quarterly_eps_df.sort_values(by='reportedDate', ascending=False)\n",
    "quarterly_eps_df = quarterly_eps_df[(quarterly_eps_df['fiscalDateEnding'].between(start, end)) | (quarterly_eps_df['reportedDate'].between(start, end))]\n",
    "quarterly_eps_df"
   ]
  },
  {
   "cell_type": "code",
   "execution_count": 55,
   "metadata": {},
   "outputs": [
    {
     "name": "stderr",
     "output_type": "stream",
     "text": [
      "/lab/mydcxiao/anaconda3/envs/bias/lib/python3.12/site-packages/pandas/core/indexes/base.py:7588: FutureWarning: Dtype inference on a pandas object (Series, Index, ExtensionArray) is deprecated. The Index constructor will keep the original dtype in the future. Call `infer_objects` on the result to get the old behavior.\n",
      "  return Index(sequences[0], name=names)\n"
     ]
    },
    {
     "data": {
      "image/png": "[encoded data removed]",
      "text/plain": [
       "<Figure size 1000x500 with 1 Axes>"
      ]
     },
     "metadata": {},
     "output_type": "display_data"
    }
   ],
   "source": [
    "# Define an offset for the markers\n",
    "offset = 15\n",
    "\n",
    "# Plotting\n",
    "plt.figure(figsize=(10, 5))\n",
    "all_dates = pd.date_range(start, end, freq='D')\n",
    "comp_stock.loc[:,'Date'] = pd.to_datetime(comp_stock['Date'])\n",
    "comp_stock = comp_stock.set_index('Date').reindex(all_dates).reset_index().rename(columns={'index': 'Date'})\n",
    "comp_stock['Open'] = comp_stock['Open'].interpolate(method='linear')\n",
    "comp_stock['Close'] = comp_stock['Close'].interpolate(method='linear')\n",
    "comp_stock['Date'] = comp_stock['Date'].dt.strftime('%Y-%m-%d')\n",
    "plt.plot(comp_stock['Date'], comp_stock['Close'], label='Stock Price', zorder=5)  # Plot stock price\n",
    "\n",
    "# Marking the EPS report date with \"R\"\n",
    "eps_price = comp_stock.loc[comp_stock['Date'].isin(quarterly_eps_df['reportedDate']), 'Close']\n",
    "eps_date = comp_stock.loc[comp_stock['Date'].isin(quarterly_eps_df['reportedDate']), 'Date']\n",
    "plt.scatter(eps_date, eps_price + offset, color='red', marker='o', s=25, zorder=10, label='EPS Report Date')\n",
    "# plt.text(eps_date, eps_price + offset, 'R', color='black', ha='center', va='center', fontsize=12, zorder=20)\n",
    "\n",
    "# Marking the Fiscal End Date with \"F\"\n",
    "fiscal_price = comp_stock.loc[comp_stock['Date'].isin(quarterly_eps_df['fiscalDateEnding']), 'Close']\n",
    "fiscal_date = comp_stock.loc[comp_stock['Date'].isin(quarterly_eps_df['fiscalDateEnding']), 'Date']\n",
    "plt.scatter(fiscal_date, fiscal_price + offset, color='blue', marker='o', s=25, zorder=10, label='EPS Fiscal End Date')\n",
    "# plt.text(fiscal_date, fiscal_price + offset, 'F', color='black', ha='center', va='center', fontsize=12, zorder=20)\n",
    "\n",
    "xticks = list(set([start, end] + eps_date.values.tolist() + fiscal_date.values.tolist()))\n",
    "xlabels = list(set([start, end] + eps_date.values.tolist() + fiscal_date.values.tolist()))\n",
    "\n",
    "plt.legend()\n",
    "plt.xlabel('Date')\n",
    "plt.ylabel('Stock Price')\n",
    "plt.xticks(xticks, xlabels, rotation=25)\n",
    "plt.tick_params(length=2, direction='in')\n",
    "plt.title('Stock Price Chart with EPS Dates')\n",
    "plt.grid(axis='y', linestyle='-', alpha=1)\n",
    "plt.show()"
   ]
  },
  {
   "cell_type": "code",
   "execution_count": 56,
   "metadata": {},
   "outputs": [
    {
     "name": "stderr",
     "output_type": "stream",
     "text": [
      "/lab/mydcxiao/anaconda3/envs/bias/lib/python3.12/site-packages/pandas/core/indexes/base.py:7588: FutureWarning: Dtype inference on a pandas object (Series, Index, ExtensionArray) is deprecated. The Index constructor will keep the original dtype in the future. Call `infer_objects` on the result to get the old behavior.\n",
      "  return Index(sequences[0], name=names)\n"
     ]
    },
    {
     "data": {
      "text/plain": [
       "<matplotlib.legend.Legend at 0x7f24b73b8ce0>"
      ]
     },
     "execution_count": 56,
     "metadata": {},
     "output_type": "execute_result"
    },
    {
     "data": {
      "image/png": "[encoded data removed]",
      "text/plain": [
       "<Figure size 1150x575 with 4 Axes>"
      ]
     },
     "metadata": {},
     "output_type": "display_data"
    }
   ],
   "source": [
    "import mplfinance as mpf\n",
    "import matplotlib.dates as mdates\n",
    "\n",
    "ticker = 'AAPL'\n",
    "comp_price = prices.xs(ticker, axis=1, level=1, drop_level=True)\n",
    "comp_stock = comp_price.loc[start:end]\n",
    "comp_stock.columns.name = None\n",
    "comp_stock.reset_index(inplace=True)\n",
    "\n",
    "# Converting 'Date' column to datetime if it's not already\n",
    "comp_stock.loc[:, 'Date'] = pd.to_datetime(comp_stock['Date'])\n",
    "\n",
    "# Setting the 'Date' column as the index\n",
    "comp_stock.set_index('Date', inplace=True)\n",
    "\n",
    "# Reindex to all_dates\n",
    "# all_dates = pd.date_range(start, end, freq='D')\n",
    "# comp_stock = comp_stock.reindex(all_dates)\n",
    "# comp_stock.index.name = 'Date'\n",
    "\n",
    "# Ensure quarterly_eps_df['reportedDate'] and quarterly_eps_df['fiscalDateEnding'] are in datetime format\n",
    "quarterly_eps_df['reportedDate'] = pd.to_datetime(quarterly_eps_df['reportedDate'])\n",
    "quarterly_eps_df['fiscalDateEnding'] = pd.to_datetime(quarterly_eps_df['fiscalDateEnding'])\n",
    "\n",
    "# Creating markers for EPS report date and fiscal end date\n",
    "eps_markers = quarterly_eps_df.loc[quarterly_eps_df['reportedDate'].between(start, end), 'reportedDate'].values\n",
    "fiscal_markers = quarterly_eps_df.loc[quarterly_eps_df['fiscalDateEnding'].between(start, end), 'fiscalDateEnding'].values\n",
    "\n",
    "# Creating EPS signals\n",
    "offset = 10\n",
    "all_dates = pd.date_range(start, end, freq='D')\n",
    "low_prices = comp_stock['Low'].reindex(all_dates).interpolate(method='linear')\n",
    "high_prices = comp_stock['High'].reindex(all_dates).interpolate(method='linear')\n",
    "# eps_signal = np.where(high_prices.index.isin(eps_markers), high_prices + offset, np.nan)\n",
    "# fiscal_signal = np.where(low_prices.index.isin(fiscal_markers), low_prices - offset, np.nan)\n",
    "eps_signal = high_prices.loc[eps_markers] + offset\n",
    "fiscal_signal = low_prices.loc[fiscal_markers] - offset\n",
    "\n",
    "# Adding markers\n",
    "# ap = [\n",
    "#     mpf.make_addplot(eps_signal, type='scatter', markersize=20, marker='v', color='red'),\n",
    "#     mpf.make_addplot(fiscal_signal, type='scatter', markersize=20, marker='^', color='blue')\n",
    "# ]\n",
    "\n",
    "# Plotting the candlestick chart\n",
    "fig, axlist = mpf.plot(\n",
    "    comp_stock, type='candle', mav=7, style='yahoo', \n",
    "    panel_ratios=(2,1), figratio=(2,1), figscale=1, \n",
    "    title='Stock Price Chart with EPS Dates', ylabel='Stock Price', \n",
    "    volume=True, show_nontrading=True, returnfig=True,\n",
    ")\n",
    "\n",
    "eps_x = [mdates.date2num(date) for date in eps_signal.index]\n",
    "eps_y = [eps_signal[i] for i in eps_signal.index]\n",
    "fiscal_x = [mdates.date2num(date) for date in fiscal_signal.index]\n",
    "fiscal_y = [fiscal_signal[i] for i in fiscal_signal.index]\n",
    "\n",
    "axlist[0].scatter(eps_x, eps_y, s=50, marker='v', color='orange', label='EPS Reported Date')\n",
    "axlist[0].scatter(fiscal_x, fiscal_y, s=50, marker='^', color='blue', label='Fiscal End Date')\n",
    "axlist[0].legend(frameon=False)"
   ]
  }
 ],
 "metadata": {
  "kernelspec": {
   "display_name": "Python 3 (ipykernel)",
   "language": "python",
   "name": "python3"
  },
  "language_info": {
   "codemirror_mode": {
    "name": "ipython",
    "version": 3
   },
   "file_extension": ".py",
   "mimetype": "text/x-python",
   "name": "python",
   "nbconvert_exporter": "python",
   "pygments_lexer": "ipython3",
   "version": "3.12.2"
  }
 },
 "nbformat": 4,
 "nbformat_minor": 4
}
